{
 "cells": [
  {
   "cell_type": "markdown",
   "metadata": {},
   "source": [
    "# **🏠 부동산 실거래가 Data Setting**\n",
    "> 실거래가 예측을 위해 필요한 데이터를 정리해두고 각각 만들어두기\n",
    "> 집값에 영향을 미칠것 같은 요인들\n",
    "> - 역세권\n",
    "> - 유동인구가 많은 강남권\n",
    "> - 한강뷰\n",
    "> - 전용면적에 따른 방, 화장실 개수\n",
    "> - 아파트의 재개발 여부\n",
    "> - 금리와 GDP\n",
    "> - 교육 학군\n",
    "> - 주변 조경 및 시설(숲, 공원, 대형마트, 코엑스, ...)\n",
    "> \n",
    "> 이중 역세권, 유동인구가 많은 지역, 한강뷰, 전용면적에 따른 방, 화장실 개수, 아파트의 재개발 여부를 합치고자 한다.\n",
    "\n",
    "\n",
    "\n",
    "\n",
    "## Contents\n",
    "- Library Import\n",
    "- Data Load\n",
    "- Crawling of Zigbang home page\n"
   ]
  },
  {
   "cell_type": "markdown",
   "metadata": {},
   "source": [
    "## 1. Library Import\n",
    "- 필요한 라이브러리를 불러옵니다."
   ]
  },
  {
   "cell_type": "code",
   "execution_count": 1,
   "metadata": {},
   "outputs": [],
   "source": [
    "# visualization\n",
    "import matplotlib.pyplot as plt\n",
    "import matplotlib.font_manager as fm\n",
    "fe = fm.FontEntry(\n",
    "    fname=r'/usr/share/fonts/truetype/nanum/NanumGothic.ttf', # ttf 파일이 저장되어 있는 경로\n",
    "    name='NanumBarunGothic')                        # 이 폰트의 원하는 이름 설정\n",
    "fm.fontManager.ttflist.insert(0, fe)              # Matplotlib에 폰트 추가\n",
    "plt.rcParams.update({'font.size': 10, 'font.family': 'NanumBarunGothic'}) # 폰트 설정\n",
    "plt.rc('font', family='NanumBarunGothic')\n",
    "import seaborn as sns\n",
    "\n",
    "# utils\n",
    "import pandas as pd\n",
    "import numpy as np\n",
    "from tqdm import tqdm\n",
    "import pickle\n",
    "import warnings;warnings.filterwarnings('ignore')\n",
    "\n",
    "# Model\n",
    "from sklearn.preprocessing import LabelEncoder\n",
    "from sklearn.model_selection import train_test_split\n",
    "from sklearn.metrics import mean_squared_error\n",
    "from sklearn.ensemble import RandomForestRegressor\n",
    "from sklearn import metrics\n",
    "\n",
    "import eli5\n",
    "from eli5.sklearn import PermutationImportance\n",
    "\n",
    "from selenium import webdriver\n",
    "from webdriver_manager.chrome import ChromeDriverManager\n",
    "from selenium.webdriver.common.by import By\n",
    "import time"
   ]
  },
  {
   "cell_type": "markdown",
   "metadata": {},
   "source": [
    "## 2. Data Load"
   ]
  },
  {
   "cell_type": "code",
   "execution_count": 2,
   "metadata": {},
   "outputs": [],
   "source": [
    "# 필요한 데이터를 load 하겠습니다. 경로는 환경에 맞게 지정해주면 됩니다.\n",
    "add = pd.read_csv('../Data/address_to_latlon_complete.csv')\n",
    "train = pd.read_csv('../Data/train_latlon_complete.csv')"
   ]
  },
  {
   "cell_type": "markdown",
   "metadata": {},
   "source": [
    "### 2-1. Setting\n",
    "\n",
    "- 단순히 아파트명으로 검색하면 현대 아파트는 여러개가 나오기 때문에 동 + 아파트명으로 위치를 분리해주자"
   ]
  },
  {
   "cell_type": "code",
   "execution_count": 5,
   "metadata": {},
   "outputs": [],
   "source": [
    "# 시, 구, 동으로 분리\n",
    "train[['시', '구', '동']] = train['시군구'].str.split(expand = True)"
   ]
  },
  {
   "cell_type": "code",
   "execution_count": 6,
   "metadata": {},
   "outputs": [],
   "source": [
    "# 동 + 아파트명으로 검색어를 구체화해서 동아파트명 변수를 생성\n",
    "dap = train[['동', '아파트명']].drop_duplicates(['아파트명']).reset_index()"
   ]
  },
  {
   "cell_type": "code",
   "execution_count": 7,
   "metadata": {},
   "outputs": [],
   "source": [
    "# 동 + 아파트명으로 검색어를 구체화해서 동아파트명 변수를 생성\n",
    "dap['동아파트명'] = dap['동'] + ' ' + dap['아파트명']"
   ]
  },
  {
   "cell_type": "code",
   "execution_count": 87,
   "metadata": {},
   "outputs": [
    {
     "data": {
      "text/html": [
       "<div>\n",
       "<style scoped>\n",
       "    .dataframe tbody tr th:only-of-type {\n",
       "        vertical-align: middle;\n",
       "    }\n",
       "\n",
       "    .dataframe tbody tr th {\n",
       "        vertical-align: top;\n",
       "    }\n",
       "\n",
       "    .dataframe thead th {\n",
       "        text-align: right;\n",
       "    }\n",
       "</style>\n",
       "<table border=\"1\" class=\"dataframe\">\n",
       "  <thead>\n",
       "    <tr style=\"text-align: right;\">\n",
       "      <th></th>\n",
       "      <th>index</th>\n",
       "      <th>동</th>\n",
       "      <th>아파트명</th>\n",
       "      <th>동아파트명</th>\n",
       "    </tr>\n",
       "  </thead>\n",
       "  <tbody>\n",
       "    <tr>\n",
       "      <th>6538</th>\n",
       "      <td>1113986</td>\n",
       "      <td>한강로2가</td>\n",
       "      <td>신용산빌딩</td>\n",
       "      <td>한강로2가 신용산빌딩</td>\n",
       "    </tr>\n",
       "  </tbody>\n",
       "</table>\n",
       "</div>"
      ],
      "text/plain": [
       "        index      동   아파트명        동아파트명\n",
       "6538  1113986  한강로2가  신용산빌딩  한강로2가 신용산빌딩"
      ]
     },
     "execution_count": 87,
     "metadata": {},
     "output_type": "execute_result"
    }
   ],
   "source": [
    "# 확인\n",
    "dap[dap['동아파트명'] == '한강로2가 신용산빌딩']"
   ]
  },
  {
   "cell_type": "markdown",
   "metadata": {},
   "source": [
    "### 2-2. crawling\n",
    "\n",
    "- 방의 개수, 화장실 개수 등 추가 데이터를 얻기 위해 크롤링을 진행"
   ]
  },
  {
   "cell_type": "code",
   "execution_count": 9,
   "metadata": {},
   "outputs": [],
   "source": [
    "ChromeDriverManager().install()\n",
    "browser = webdriver.Chrome() # 우리가 컨트롤 할 수 있는 브라우저가 실행이된다."
   ]
  },
  {
   "cell_type": "code",
   "execution_count": 43,
   "metadata": {},
   "outputs": [],
   "source": [
    "# 열 이름을 리스트로 지정\n",
    "column_names = ['동아파트명', '정보1', '정보2']\n",
    "\n",
    "# 빈 데이터프레임 생성\n",
    "apt_info = pd.DataFrame(columns=column_names)"
   ]
  },
  {
   "cell_type": "code",
   "execution_count": 90,
   "metadata": {},
   "outputs": [],
   "source": [
    "for aptment in dap['동아파트명'][6539:6540]:\n",
    "    print(f\"실행중인 아파트 : {aptment}\")\n",
    "    # 브라우저\n",
    "    browser.get('https://www.zigbang.com/')\n",
    "\n",
    "    # 검색어 입력\n",
    "    browser.find_element(By.XPATH, '//*[@id=\"__next\"]/div[2]/div/div[1]/div[2]/div/div[2]/div[1]/input').send_keys(aptment)\n",
    "\n",
    "    time.sleep(1)\n",
    "\n",
    "    # 검색\n",
    "    browser.find_element(By.XPATH, '//*[@id=\"__next\"]/div[2]/div/div[1]/div[2]/div/div[2]/div[2]').click()\n",
    "    \n",
    "    time.sleep(1.5)\n",
    "\n",
    "    # censored\n",
    "    c = 1\n",
    "\n",
    "    try:\n",
    "        i = 3\n",
    "        while True:\n",
    "\n",
    "            # 면적\n",
    "            browser.find_element(By.XPATH, f'/html/body/div[1]/div[2]/div/div[2]/div/div/div[1]/div[1]/div/div[17]/div/div/div/div/div[1]/div/div/div[{i}]').click()\n",
    "            \n",
    "            time.sleep(0.4)\n",
    "\n",
    "            c = 0\n",
    "\n",
    "            # 정보1\n",
    "            info1 = browser.find_element(By.XPATH, '/html/body/div[1]/div[2]/div/div[2]/div/div/div[1]/div[1]/div/div[21]/div/div[1]/div[2]/div[2]').text            \n",
    "            \n",
    "            # 정보2\n",
    "            info2 = browser.find_element(By.XPATH, '/html/body/div[1]/div[2]/div/div[2]/div/div/div[1]/div[1]/div/div[21]/div/div[1]/div[2]/div[3]').text\n",
    "            \n",
    "            # 새로운 행 데이터를 딕셔너리로 생성\n",
    "            new_row_data = {'동아파트명': aptment, '정보1': info1, '정보2': info2}\n",
    "\n",
    "            # DataFrame에 새로운 행 추가\n",
    "            apt_info = apt_info.append(new_row_data, ignore_index=True)\n",
    "\n",
    "            i += 1\n",
    "            \n",
    "    except:\n",
    "        if c == 1:\n",
    "           # 새로운 행 데이터를 딕셔너리로 생성\n",
    "            new_row_data = {'동아파트명': aptment, '정보1': 'NotSearched', '정보2': 'NotSearched'}\n",
    "\n",
    "            # DataFrame에 새로운 행 추가\n",
    "            apt_info = apt_info.append(new_row_data, ignore_index=True)"
   ]
  },
  {
   "cell_type": "code",
   "execution_count": 89,
   "metadata": {},
   "outputs": [
    {
     "data": {
      "text/html": [
       "<div>\n",
       "<style scoped>\n",
       "    .dataframe tbody tr th:only-of-type {\n",
       "        vertical-align: middle;\n",
       "    }\n",
       "\n",
       "    .dataframe tbody tr th {\n",
       "        vertical-align: top;\n",
       "    }\n",
       "\n",
       "    .dataframe thead th {\n",
       "        text-align: right;\n",
       "    }\n",
       "</style>\n",
       "<table border=\"1\" class=\"dataframe\">\n",
       "  <thead>\n",
       "    <tr style=\"text-align: right;\">\n",
       "      <th></th>\n",
       "      <th>동아파트명</th>\n",
       "      <th>정보1</th>\n",
       "      <th>정보2</th>\n",
       "    </tr>\n",
       "  </thead>\n",
       "  <tbody>\n",
       "    <tr>\n",
       "      <th>0</th>\n",
       "      <td>개포동 개포6차우성</td>\n",
       "      <td>NotSearched</td>\n",
       "      <td>NotSearched</td>\n",
       "    </tr>\n",
       "    <tr>\n",
       "      <th>1</th>\n",
       "      <td>개포동 개포우성3차</td>\n",
       "      <td>NotSearched</td>\n",
       "      <td>NotSearched</td>\n",
       "    </tr>\n",
       "    <tr>\n",
       "      <th>2</th>\n",
       "      <td>개포동 개포자이</td>\n",
       "      <td>공급 160.71㎡ / 전용 134.3㎡</td>\n",
       "      <td>방 4개 · 욕실 2개 · 계단식</td>\n",
       "    </tr>\n",
       "    <tr>\n",
       "      <th>3</th>\n",
       "      <td>개포동 개포자이</td>\n",
       "      <td>공급 183.14㎡ / 전용 153.8㎡</td>\n",
       "      <td>방 4개 · 욕실 2개 · 계단식</td>\n",
       "    </tr>\n",
       "    <tr>\n",
       "      <th>4</th>\n",
       "      <td>개포동 개포자이</td>\n",
       "      <td>공급 201.74㎡ / 전용 170.32㎡</td>\n",
       "      <td>방 4개 · 욕실 2개 · 계단식</td>\n",
       "    </tr>\n",
       "    <tr>\n",
       "      <th>...</th>\n",
       "      <td>...</td>\n",
       "      <td>...</td>\n",
       "      <td>...</td>\n",
       "    </tr>\n",
       "    <tr>\n",
       "      <th>15535</th>\n",
       "      <td>옥인동 옥인시민</td>\n",
       "      <td>NotSearched</td>\n",
       "      <td>NotSearched</td>\n",
       "    </tr>\n",
       "    <tr>\n",
       "      <th>15536</th>\n",
       "      <td>역삼동 진달래3차</td>\n",
       "      <td>NotSearched</td>\n",
       "      <td>NotSearched</td>\n",
       "    </tr>\n",
       "    <tr>\n",
       "      <th>15537</th>\n",
       "      <td>구로동 807-39</td>\n",
       "      <td>NotSearched</td>\n",
       "      <td>NotSearched</td>\n",
       "    </tr>\n",
       "    <tr>\n",
       "      <th>15538</th>\n",
       "      <td>석촌동 밀란체</td>\n",
       "      <td>NotSearched</td>\n",
       "      <td>NotSearched</td>\n",
       "    </tr>\n",
       "    <tr>\n",
       "      <th>15539</th>\n",
       "      <td>한강로2가 신용산빌딩</td>\n",
       "      <td>NotSearched</td>\n",
       "      <td>NotSearched</td>\n",
       "    </tr>\n",
       "  </tbody>\n",
       "</table>\n",
       "<p>15540 rows × 3 columns</p>\n",
       "</div>"
      ],
      "text/plain": [
       "             동아파트명                      정보1                 정보2\n",
       "0       개포동 개포6차우성              NotSearched         NotSearched\n",
       "1       개포동 개포우성3차              NotSearched         NotSearched\n",
       "2         개포동 개포자이   공급 160.71㎡ / 전용 134.3㎡  방 4개 · 욕실 2개 · 계단식\n",
       "3         개포동 개포자이   공급 183.14㎡ / 전용 153.8㎡  방 4개 · 욕실 2개 · 계단식\n",
       "4         개포동 개포자이  공급 201.74㎡ / 전용 170.32㎡  방 4개 · 욕실 2개 · 계단식\n",
       "...            ...                      ...                 ...\n",
       "15535     옥인동 옥인시민              NotSearched         NotSearched\n",
       "15536    역삼동 진달래3차              NotSearched         NotSearched\n",
       "15537   구로동 807-39              NotSearched         NotSearched\n",
       "15538      석촌동 밀란체              NotSearched         NotSearched\n",
       "15539  한강로2가 신용산빌딩              NotSearched         NotSearched\n",
       "\n",
       "[15540 rows x 3 columns]"
      ]
     },
     "execution_count": 89,
     "metadata": {},
     "output_type": "execute_result"
    }
   ],
   "source": [
    "# 크롤링 결과 확인\n",
    "apt_info"
   ]
  },
  {
   "cell_type": "code",
   "execution_count": 86,
   "metadata": {},
   "outputs": [],
   "source": [
    "# 결과 저장\n",
    "apt_info.to_csv('../Data/temp_roll.csv', index = False)"
   ]
  }
 ],
 "metadata": {
  "kernelspec": {
   "display_name": "base",
   "language": "python",
   "name": "python3"
  },
  "language_info": {
   "codemirror_mode": {
    "name": "ipython",
    "version": 3
   },
   "file_extension": ".py",
   "mimetype": "text/x-python",
   "name": "python",
   "nbconvert_exporter": "python",
   "pygments_lexer": "ipython3",
   "version": "3.8.17"
  }
 },
 "nbformat": 4,
 "nbformat_minor": 2
}
