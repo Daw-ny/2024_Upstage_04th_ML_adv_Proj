{
 "cells": [
  {
   "cell_type": "markdown",
   "metadata": {},
   "source": [
    "# 1. Library Import"
   ]
  },
  {
   "cell_type": "code",
   "execution_count": 1,
   "metadata": {},
   "outputs": [],
   "source": [
    "import pandas as pd"
   ]
  },
  {
   "cell_type": "markdown",
   "metadata": {},
   "source": [
    "# 2. DATA Loading"
   ]
  },
  {
   "cell_type": "code",
   "execution_count": 6,
   "metadata": {},
   "outputs": [],
   "source": [
    "# 필요한 데이터를 load 하겠습니다. 경로는 환경에 맞게 지정해주면 됩니다.\n",
    "data2007 = '../data/real_transaction/아파트(매매)__실거래가_20071231.csv'\n",
    "data2008  = '../data/real_transaction/아파트(매매)__실거래가_20081231.csv'\n",
    "data2009 = '../data/real_transaction/아파트(매매)__실거래가_20091231.csv'\n",
    "data2010  = '../data/real_transaction/아파트(매매)__실거래가_20101231.csv'\n",
    "data2011 = '../data/real_transaction/아파트(매매)__실거래가_20111231.csv'\n",
    "data2012  = '../data/real_transaction/아파트(매매)__실거래가_20121231.csv'\n",
    "data2013 = '../data/real_transaction/아파트(매매)__실거래가_20131231.csv'\n",
    "data2014  = '../data/real_transaction/아파트(매매)__실거래가_20141231.csv'\n",
    "data2015 = '../data/real_transaction/아파트(매매)__실거래가_20151231.csv'\n",
    "data2016  = '../data/real_transaction/아파트(매매)__실거래가_20161231.csv'\n",
    "data2017 = '../data/real_transaction/아파트(매매)__실거래가_20171231.csv'\n",
    "data2018  = '../data/real_transaction/아파트(매매)__실거래가_20181231.csv'\n",
    "data2019 = '../data/real_transaction/아파트(매매)__실거래가_20191231.csv'\n",
    "data2020  = '../data/real_transaction/아파트(매매)__실거래가_20201231.csv'\n",
    "data2021 = '../data/real_transaction/아파트(매매)__실거래가_20211231.csv'\n",
    "data2022  = '../data/real_transaction/아파트(매매)__실거래가_20221231.csv'\n",
    "data2023  = '../data/real_transaction/아파트(매매)__실거래가_20230930.csv'\n",
    "\n",
    "d2007 = pd.read_csv(data2007,encoding='cp949')\n",
    "d2008 = pd.read_csv(data2008,encoding='cp949')\n",
    "d2009 = pd.read_csv(data2009,encoding='cp949')\n",
    "d2010 = pd.read_csv(data2010,encoding='cp949')\n",
    "d2011 = pd.read_csv(data2011,encoding='cp949')\n",
    "d2012 = pd.read_csv(data2012,encoding='cp949')\n",
    "d2013 = pd.read_csv(data2013,encoding='cp949')\n",
    "d2014 = pd.read_csv(data2014,encoding='cp949')\n",
    "d2015 = pd.read_csv(data2015,encoding='cp949')\n",
    "d2016 = pd.read_csv(data2016,encoding='cp949')\n",
    "d2017 = pd.read_csv(data2017,encoding='cp949')\n",
    "d2018 = pd.read_csv(data2018,encoding='cp949')\n",
    "d2019 = pd.read_csv(data2019,encoding='cp949')\n",
    "d2020 = pd.read_csv(data2020,encoding='cp949')\n",
    "d2021 = pd.read_csv(data2021,encoding='cp949')\n",
    "d2022 = pd.read_csv(data2022,encoding='cp949')\n",
    "d2023 = pd.read_csv(data2023,encoding='cp949')\n",
    "\n",
    "# Assuming all DataFrames have the same columns\n",
    "dfs = [d2007, d2008, d2009, d2010, d2011, d2012, d2013, d2014, d2015, d2016, d2017, d2018, d2019, d2020, d2021, d2022, d2023]\n",
    "\n",
    "# Concatenate DataFrames vertically\n",
    "merged_df = pd.concat(dfs, ignore_index=True)"
   ]
  },
  {
   "cell_type": "code",
   "execution_count": 7,
   "metadata": {},
   "outputs": [
    {
     "name": "stdout",
     "output_type": "stream",
     "text": [
      "<class 'pandas.core.frame.DataFrame'>\n",
      "RangeIndex: 1146131 entries, 0 to 1146130\n",
      "Data columns (total 16 columns):\n",
      " #   Column    Non-Null Count    Dtype  \n",
      "---  ------    --------------    -----  \n",
      " 0   시군구       1146131 non-null  object \n",
      " 1   번지        1146052 non-null  object \n",
      " 2   본번        1146052 non-null  float64\n",
      " 3   부번        1146052 non-null  float64\n",
      " 4   단지명       1146131 non-null  object \n",
      " 5   전용면적(㎡)   1146131 non-null  float64\n",
      " 6   계약년월      1146131 non-null  int64  \n",
      " 7   계약일       1146131 non-null  int64  \n",
      " 8   거래금액(만원)  1146131 non-null  object \n",
      " 9   층         1146131 non-null  int64  \n",
      " 10  건축년도      1146131 non-null  int64  \n",
      " 11  도로명       1146131 non-null  object \n",
      " 12  해제사유발생일   6553 non-null     float64\n",
      " 13  등기신청일자    1146131 non-null  object \n",
      " 14  거래유형      1146131 non-null  object \n",
      " 15  중개사소재지    1146131 non-null  object \n",
      "dtypes: float64(4), int64(4), object(8)\n",
      "memory usage: 139.9+ MB\n"
     ]
    }
   ],
   "source": [
    "merged_df.info()"
   ]
  },
  {
   "cell_type": "markdown",
   "metadata": {},
   "source": [
    "# 3. Save "
   ]
  },
  {
   "cell_type": "code",
   "execution_count": 8,
   "metadata": {},
   "outputs": [],
   "source": [
    "merged_df.to_csv('../data/real_transaction/sum_real_trans.csv', index=False)"
   ]
  }
 ],
 "metadata": {
  "kernelspec": {
   "display_name": "base",
   "language": "python",
   "name": "python3"
  },
  "language_info": {
   "codemirror_mode": {
    "name": "ipython",
    "version": 3
   },
   "file_extension": ".py",
   "mimetype": "text/x-python",
   "name": "python",
   "nbconvert_exporter": "python",
   "pygments_lexer": "ipython3",
   "version": "3.10.13"
  }
 },
 "nbformat": 4,
 "nbformat_minor": 2
}
