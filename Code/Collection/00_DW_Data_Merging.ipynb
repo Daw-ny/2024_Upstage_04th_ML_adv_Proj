{
 "cells": [
  {
   "cell_type": "markdown",
   "metadata": {},
   "source": [
    "# **🏠 데이터 결합**\n",
    "> 아파트, 버스, 구별 방, 화장실 개수 합치기 \n",
    "\n",
    "## Contents\n",
    "- Library Import\n",
    "- Data Load\n",
    "- Data Merge\n"
   ]
  },
  {
   "cell_type": "markdown",
   "metadata": {},
   "source": [
    "## 1. Library Import\n",
    "- 필요한 라이브러리를 불러옵니다."
   ]
  },
  {
   "cell_type": "code",
   "execution_count": 15,
   "metadata": {},
   "outputs": [],
   "source": [
    "# visualization\n",
    "import matplotlib.pyplot as plt\n",
    "import matplotlib.font_manager as fm\n",
    "fe = fm.FontEntry(\n",
    "    fname=r'/usr/share/fonts/truetype/nanum/NanumGothic.ttf', # ttf 파일이 저장되어 있는 경로\n",
    "    name='NanumBarunGothic')                        # 이 폰트의 원하는 이름 설정\n",
    "fm.fontManager.ttflist.insert(0, fe)              # Matplotlib에 폰트 추가\n",
    "plt.rcParams.update({'font.size': 10, 'font.family': 'NanumBarunGothic'}) # 폰트 설정\n",
    "plt.rc('font', family='NanumBarunGothic')\n",
    "import seaborn as sns\n",
    "\n",
    "# utils\n",
    "import pandas as pd\n",
    "import numpy as np\n",
    "from tqdm import tqdm\n",
    "import pickle\n",
    "import warnings;warnings.filterwarnings('ignore')\n",
    "import geopy\n",
    "\n",
    "# Model\n",
    "from sklearn.preprocessing import LabelEncoder\n",
    "from sklearn.model_selection import train_test_split\n",
    "from sklearn.metrics import mean_squared_error\n",
    "from sklearn.ensemble import RandomForestRegressor\n",
    "from sklearn import metrics\n",
    "\n",
    "import re\n"
   ]
  },
  {
   "cell_type": "markdown",
   "metadata": {},
   "source": [
    "## 2. Data Load"
   ]
  },
  {
   "cell_type": "code",
   "execution_count": 16,
   "metadata": {},
   "outputs": [],
   "source": [
    "# 데이터 불러오기\n",
    "train = pd.read_csv('../data/train_latlon_complete.csv')\n",
    "test = pd.read_csv('../data/test_latlon_complete.csv')\n",
    "apart = pd.read_csv('../data/전용면적최대_공간개수_대치_기준.csv')\n",
    "subway = pd.read_csv('../data/지번주소별_유동인구_역세권_역까지거리_정류장까지거리.csv')"
   ]
  },
  {
   "cell_type": "code",
   "execution_count": 17,
   "metadata": {},
   "outputs": [
    {
     "data": {
      "text/plain": [
       "Index(['시군구', '번지', '본번', '부번', '아파트명', '전용면적(㎡)', '계약년월', '계약일', '층', '건축년도',\n",
       "       '도로명', '해제사유발생일', '등기신청일자', '거래유형', '중개사소재지', 'k-단지분류(아파트,주상복합등등)',\n",
       "       'k-전화번호', 'k-팩스번호', '단지소개기존clob', 'k-세대타입(분양형태)', 'k-관리방식', 'k-복도유형',\n",
       "       'k-난방방식', 'k-전체동수', 'k-전체세대수', 'k-건설사(시공사)', 'k-시행사', 'k-사용검사일-사용승인일',\n",
       "       'k-연면적', 'k-주거전용면적', 'k-관리비부과면적', 'k-전용면적별세대현황(60㎡이하)',\n",
       "       'k-전용면적별세대현황(60㎡~85㎡이하)', 'k-85㎡~135㎡이하', 'k-135㎡초과', 'k-홈페이지',\n",
       "       'k-등록일자', 'k-수정일자', '고용보험관리번호', '경비비관리형태', '세대전기계약방법', '청소비관리형태',\n",
       "       '건축면적', '주차대수', '기타/의무/임대/임의=1/2/3/4', '단지승인일', '사용허가여부', '관리비 업로드',\n",
       "       '좌표X', '좌표Y', '단지신청일', 'target'],\n",
       "      dtype='object')"
      ]
     },
     "execution_count": 17,
     "metadata": {},
     "output_type": "execute_result"
    }
   ],
   "source": [
    "train.columns"
   ]
  },
  {
   "cell_type": "code",
   "execution_count": 19,
   "metadata": {},
   "outputs": [],
   "source": [
    "# 결측치 함정카드 제거\n",
    "train['중개사소재지'][train['중개사소재지'] == '-'] = np.nan\n",
    "train['거래유형'][train['거래유형'] == '-'] = np.nan\n",
    "train['등기신청일자'][train['등기신청일자'] == ' '] = np.nan"
   ]
  },
  {
   "cell_type": "markdown",
   "metadata": {},
   "source": [
    "## 3. Data Merge"
   ]
  },
  {
   "cell_type": "code",
   "execution_count": 20,
   "metadata": {},
   "outputs": [],
   "source": [
    "# 붙일 칼럼 만들기\n",
    "train[['시', '구', '동']] = train['시군구'].str.split(' ', expand = True)\n",
    "train['지번주소'] = train['시군구'] + ' ' + train['번지']\n",
    "train['동아파트명'] = train['동'] + ' ' + train['아파트명']\n",
    "\n",
    "test[['시', '구', '동']] = test['시군구'].str.split(' ', expand = True)\n",
    "test['지번주소'] = test['시군구'] + ' ' + test['번지']\n",
    "test['동아파트명'] = test['동'] + ' ' + test['아파트명']"
   ]
  },
  {
   "cell_type": "code",
   "execution_count": 21,
   "metadata": {},
   "outputs": [],
   "source": [
    "# 겹치는 행 제외하고 불러오기\n",
    "apart2 = apart[~apart.duplicated(['동아파트명', '전용면적2'])]"
   ]
  },
  {
   "cell_type": "code",
   "execution_count": 22,
   "metadata": {},
   "outputs": [],
   "source": [
    "# 방, 화장실개수 붙여넣기 (공간개수 = 방 + 화장실)\n",
    "train2 = pd.merge(train, apart2, how = 'left', left_on = ['동아파트명', '전용면적(㎡)'], right_on = ['동아파트명', '전용면적2'])\n",
    "test2 = pd.merge(test, apart2, how = 'left', left_on = ['동아파트명', '전용면적(㎡)'], right_on = ['동아파트명', '전용면적2'])"
   ]
  },
  {
   "cell_type": "code",
   "execution_count": 23,
   "metadata": {},
   "outputs": [],
   "source": [
    "# 좌표 버리기\n",
    "subway2 = subway.drop(['좌표X뉴', '좌표Y뉴'], axis = 1)"
   ]
  },
  {
   "cell_type": "code",
   "execution_count": 24,
   "metadata": {},
   "outputs": [],
   "source": [
    "# 역세권, 유동인구 붙여넣기 (유동 승객수 = 한달 단위 승하차평균, 역까지 거리 = 최단거리역 기준)\n",
    "train3 = pd.merge(train2, subway2, how = 'left', on = '지번주소')\n",
    "test3 = pd.merge(test2, subway2, how = 'left', on = '지번주소')"
   ]
  },
  {
   "cell_type": "code",
   "execution_count": 25,
   "metadata": {},
   "outputs": [
    {
     "data": {
      "text/plain": [
       "Index(['시군구', '번지', '본번', '부번', '아파트명', '전용면적(㎡)', '계약년월', '계약일', '층', '건축년도',\n",
       "       '도로명', '해제사유발생일', '등기신청일자', '거래유형', '중개사소재지', 'k-단지분류(아파트,주상복합등등)',\n",
       "       'k-전화번호', 'k-팩스번호', '단지소개기존clob', 'k-세대타입(분양형태)', 'k-관리방식', 'k-복도유형',\n",
       "       'k-난방방식', 'k-전체동수', 'k-전체세대수', 'k-건설사(시공사)', 'k-시행사', 'k-사용검사일-사용승인일',\n",
       "       'k-연면적', 'k-주거전용면적', 'k-관리비부과면적', 'k-전용면적별세대현황(60㎡이하)',\n",
       "       'k-전용면적별세대현황(60㎡~85㎡이하)', 'k-85㎡~135㎡이하', 'k-135㎡초과', 'k-홈페이지',\n",
       "       'k-등록일자', 'k-수정일자', '고용보험관리번호', '경비비관리형태', '세대전기계약방법', '청소비관리형태',\n",
       "       '건축면적', '주차대수', '기타/의무/임대/임의=1/2/3/4', '단지승인일', '사용허가여부', '관리비 업로드',\n",
       "       '좌표X', '좌표Y', '단지신청일', 'target', '시', '구', '동', '지번주소', '동아파트명',\n",
       "       '전용면적2', '방개수2', '화장실개수2', '공간개수', '유동승객수', '역까지_거리', '1차역세권', '2차역세권',\n",
       "       'X좌표', 'Y좌표', '정류장까지_거리'],\n",
       "      dtype='object')"
      ]
     },
     "execution_count": 25,
     "metadata": {},
     "output_type": "execute_result"
    }
   ],
   "source": [
    "train3.columns"
   ]
  },
  {
   "cell_type": "code",
   "execution_count": 26,
   "metadata": {},
   "outputs": [],
   "source": [
    "# 필요없는 칼럼 버리기\n",
    "# train3.drop(['본번', '부번', '등기신청일자', 'k-전화번호', 'k-팩스번호', '단지소개기존clob',\n",
    "#             'k-관리방식', 'k-복도유형', 'k-난방방식', 'k-사용검사일-사용승인일', 'k-연면적',\n",
    "#             'k-주거전용면적', 'k-관리비부과면적', 'k-홈페이지', 'k-등록일자', 'k-수정일자',\n",
    "#             '고용보험관리번호', '경비비관리형태', '세대전기계약방법', '청소비관리형태',\n",
    "#             '단지승인일', '관리비 업로드', '사용허가여부'], axis = 1).isna().sum()"
   ]
  },
  {
   "cell_type": "code",
   "execution_count": 27,
   "metadata": {},
   "outputs": [],
   "source": [
    "# 저장하기\n",
    "train3.drop(['본번', '부번', '등기신청일자', 'k-전화번호', 'k-팩스번호', '단지소개기존clob',\n",
    "             'k-관리방식', 'k-복도유형', 'k-난방방식', 'k-사용검사일-사용승인일', 'k-연면적',\n",
    "             'k-주거전용면적', 'k-관리비부과면적', 'k-홈페이지', 'k-등록일자', 'k-수정일자',\n",
    "             '고용보험관리번호', '경비비관리형태', '세대전기계약방법', '청소비관리형태',\n",
    "             '단지승인일', '관리비 업로드', '사용허가여부'], axis = 1).to_csv('../data/train_merge_sub_room.csv', index = False)\n",
    "test3.drop(['본번', '부번', '등기신청일자', 'k-전화번호', 'k-팩스번호', '단지소개기존clob',\n",
    "             'k-관리방식', 'k-복도유형', 'k-난방방식', 'k-사용검사일-사용승인일', 'k-연면적',\n",
    "             'k-주거전용면적', 'k-관리비부과면적', 'k-홈페이지', 'k-등록일자', 'k-수정일자',\n",
    "             '고용보험관리번호', '경비비관리형태', '세대전기계약방법', '청소비관리형태',\n",
    "             '단지승인일', '관리비 업로드', '사용허가여부'], axis = 1).to_csv('../data/test_merge_sub_room.csv', index = False)"
   ]
  }
 ],
 "metadata": {
  "kernelspec": {
   "display_name": "machine",
   "language": "python",
   "name": "python3"
  },
  "language_info": {
   "codemirror_mode": {
    "name": "ipython",
    "version": 3
   },
   "file_extension": ".py",
   "mimetype": "text/x-python",
   "name": "python",
   "nbconvert_exporter": "python",
   "pygments_lexer": "ipython3",
   "version": "3.10.13"
  }
 },
 "nbformat": 4,
 "nbformat_minor": 2
}
