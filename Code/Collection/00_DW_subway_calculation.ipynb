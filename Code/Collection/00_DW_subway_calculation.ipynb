{
 "cells": [
  {
   "cell_type": "markdown",
   "metadata": {},
   "source": [
    "# **🏠 지하철 좌표 및 유동인구**\n",
    "> 아파트와 가장 가까운 지하철 역에 대한 거리를 계산하여 그 역이 역세권인지 확인\n",
    "> 해당 역의 유동인구 가져오기\n",
    "> 서울의 역세권 기준\n",
    "> - 초역세권 : 지하철역과 아파트와의 거리가 250m 이내\n",
    "> - 역세권 : 지하철역과 아파트와의 거리가 500m 이내\n",
    "\n",
    "## Contents\n",
    "- Library Import\n",
    "- Data Load\n",
    "- Haversin Distance Calculate"
   ]
  },
  {
   "cell_type": "markdown",
   "metadata": {},
   "source": [
    "## 1. Library Import\n",
    "- 필요한 라이브러리를 불러옵니다."
   ]
  },
  {
   "cell_type": "code",
   "execution_count": 1,
   "metadata": {},
   "outputs": [],
   "source": [
    "# visualization\n",
    "import matplotlib.pyplot as plt\n",
    "import matplotlib.font_manager as fm\n",
    "fe = fm.FontEntry(\n",
    "    fname=r'/usr/share/fonts/truetype/nanum/NanumGothic.ttf', # ttf 파일이 저장되어 있는 경로\n",
    "    name='NanumBarunGothic')                        # 이 폰트의 원하는 이름 설정\n",
    "fm.fontManager.ttflist.insert(0, fe)              # Matplotlib에 폰트 추가\n",
    "plt.rcParams.update({'font.size': 10, 'font.family': 'NanumBarunGothic'}) # 폰트 설정\n",
    "plt.rc('font', family='NanumBarunGothic')\n",
    "import seaborn as sns\n",
    "\n",
    "# utils\n",
    "import pandas as pd\n",
    "import numpy as np\n",
    "from tqdm import tqdm\n",
    "import pickle\n",
    "import warnings;warnings.filterwarnings('ignore')\n",
    "\n",
    "# Model\n",
    "from sklearn.preprocessing import LabelEncoder\n",
    "from sklearn.model_selection import train_test_split\n",
    "from sklearn.metrics import mean_squared_error\n",
    "from sklearn.ensemble import RandomForestRegressor\n",
    "from sklearn import metrics\n",
    "\n",
    "import eli5\n",
    "from eli5.sklearn import PermutationImportance\n",
    "import time"
   ]
  },
  {
   "cell_type": "markdown",
   "metadata": {},
   "source": [
    "## 2. Data Load\n",
    "\n",
    "### 2.1. 데이터 로드\n",
    "\n",
    "- 지하철 좌표와 아파트 좌표를 하버사인 거리로 계산해서 유동인구, 역세권 유무도 표시"
   ]
  },
  {
   "cell_type": "code",
   "execution_count": 2,
   "metadata": {},
   "outputs": [],
   "source": [
    "# 데이터 불러오기\n",
    "train = pd.read_csv('../data/train_latlon_complete.csv')\n",
    "subway_people = pd.read_csv('../data/subway.csv', encoding='cp949')\n",
    "subway_latlon = pd.read_csv('../data/서울시 역사마스터 정보.csv', encoding='cp949')"
   ]
  },
  {
   "cell_type": "code",
   "execution_count": 38,
   "metadata": {},
   "outputs": [
    {
     "data": {
      "text/html": [
       "<div>\n",
       "<style scoped>\n",
       "    .dataframe tbody tr th:only-of-type {\n",
       "        vertical-align: middle;\n",
       "    }\n",
       "\n",
       "    .dataframe tbody tr th {\n",
       "        vertical-align: top;\n",
       "    }\n",
       "\n",
       "    .dataframe thead th {\n",
       "        text-align: right;\n",
       "    }\n",
       "</style>\n",
       "<table border=\"1\" class=\"dataframe\">\n",
       "  <thead>\n",
       "    <tr style=\"text-align: right;\">\n",
       "      <th></th>\n",
       "      <th>역사_ID</th>\n",
       "      <th>역사명</th>\n",
       "      <th>호선</th>\n",
       "      <th>위도</th>\n",
       "      <th>경도</th>\n",
       "    </tr>\n",
       "  </thead>\n",
       "  <tbody>\n",
       "    <tr>\n",
       "      <th>0</th>\n",
       "      <td>9996</td>\n",
       "      <td>미사</td>\n",
       "      <td>5호선</td>\n",
       "      <td>37.560927</td>\n",
       "      <td>127.193877</td>\n",
       "    </tr>\n",
       "    <tr>\n",
       "      <th>1</th>\n",
       "      <td>9995</td>\n",
       "      <td>강일</td>\n",
       "      <td>5호선</td>\n",
       "      <td>37.557490</td>\n",
       "      <td>127.175930</td>\n",
       "    </tr>\n",
       "    <tr>\n",
       "      <th>2</th>\n",
       "      <td>4929</td>\n",
       "      <td>김포공항</td>\n",
       "      <td>김포골드라인</td>\n",
       "      <td>37.562360</td>\n",
       "      <td>126.801868</td>\n",
       "    </tr>\n",
       "    <tr>\n",
       "      <th>3</th>\n",
       "      <td>4928</td>\n",
       "      <td>고촌</td>\n",
       "      <td>김포골드라인</td>\n",
       "      <td>37.601243</td>\n",
       "      <td>126.770345</td>\n",
       "    </tr>\n",
       "    <tr>\n",
       "      <th>4</th>\n",
       "      <td>4927</td>\n",
       "      <td>풍무</td>\n",
       "      <td>김포골드라인</td>\n",
       "      <td>37.612488</td>\n",
       "      <td>126.732387</td>\n",
       "    </tr>\n",
       "    <tr>\n",
       "      <th>...</th>\n",
       "      <td>...</td>\n",
       "      <td>...</td>\n",
       "      <td>...</td>\n",
       "      <td>...</td>\n",
       "      <td>...</td>\n",
       "    </tr>\n",
       "    <tr>\n",
       "      <th>766</th>\n",
       "      <td>154</td>\n",
       "      <td>종로5가</td>\n",
       "      <td>1호선</td>\n",
       "      <td>37.570926</td>\n",
       "      <td>127.001849</td>\n",
       "    </tr>\n",
       "    <tr>\n",
       "      <th>767</th>\n",
       "      <td>153</td>\n",
       "      <td>종로3가</td>\n",
       "      <td>1호선</td>\n",
       "      <td>37.570406</td>\n",
       "      <td>126.991847</td>\n",
       "    </tr>\n",
       "    <tr>\n",
       "      <th>768</th>\n",
       "      <td>152</td>\n",
       "      <td>종각</td>\n",
       "      <td>1호선</td>\n",
       "      <td>37.570161</td>\n",
       "      <td>126.982923</td>\n",
       "    </tr>\n",
       "    <tr>\n",
       "      <th>769</th>\n",
       "      <td>151</td>\n",
       "      <td>시청</td>\n",
       "      <td>1호선</td>\n",
       "      <td>37.565715</td>\n",
       "      <td>126.977088</td>\n",
       "    </tr>\n",
       "    <tr>\n",
       "      <th>770</th>\n",
       "      <td>150</td>\n",
       "      <td>서울역</td>\n",
       "      <td>1호선</td>\n",
       "      <td>37.556228</td>\n",
       "      <td>126.972135</td>\n",
       "    </tr>\n",
       "  </tbody>\n",
       "</table>\n",
       "<p>771 rows × 5 columns</p>\n",
       "</div>"
      ],
      "text/plain": [
       "     역사_ID   역사명      호선         위도          경도\n",
       "0     9996    미사     5호선  37.560927  127.193877\n",
       "1     9995    강일     5호선  37.557490  127.175930\n",
       "2     4929  김포공항  김포골드라인  37.562360  126.801868\n",
       "3     4928    고촌  김포골드라인  37.601243  126.770345\n",
       "4     4927    풍무  김포골드라인  37.612488  126.732387\n",
       "..     ...   ...     ...        ...         ...\n",
       "766    154  종로5가     1호선  37.570926  127.001849\n",
       "767    153  종로3가     1호선  37.570406  126.991847\n",
       "768    152    종각     1호선  37.570161  126.982923\n",
       "769    151    시청     1호선  37.565715  126.977088\n",
       "770    150   서울역     1호선  37.556228  126.972135\n",
       "\n",
       "[771 rows x 5 columns]"
      ]
     },
     "execution_count": 38,
     "metadata": {},
     "output_type": "execute_result"
    }
   ],
   "source": [
    "# 위경도 좌표\n",
    "subway_latlon"
   ]
  },
  {
   "cell_type": "code",
   "execution_count": 53,
   "metadata": {},
   "outputs": [
    {
     "data": {
      "text/plain": [
       "array(['1호선', '2호선', '3호선', '4호선', '5호선', '6호선', '7호선', '8호선', '9호선',\n",
       "       '9호선2~3단계', '경강선', '경부선', '경원선', '경의선', '경인선', '경춘선', '공항철도 1호선',\n",
       "       '과천선', '분당선', '서해선', '수인선', '신림선', '안산선', '우이신설선', '일산선', '장항선',\n",
       "       '중앙선', '9호선2단계'], dtype=object)"
      ]
     },
     "execution_count": 53,
     "metadata": {},
     "output_type": "execute_result"
    }
   ],
   "source": [
    "# 혹시나 없는 노선 체크 : 신분당선이 없는 것을 늦게 확인함\n",
    "subway_people['호선명'].unique()"
   ]
  },
  {
   "cell_type": "code",
   "execution_count": 4,
   "metadata": {},
   "outputs": [
    {
     "name": "stdout",
     "output_type": "stream",
     "text": [
      "<class 'pandas.core.frame.DataFrame'>\n",
      "RangeIndex: 63725 entries, 0 to 63724\n",
      "Data columns (total 52 columns):\n",
      " #   Column        Non-Null Count  Dtype \n",
      "---  ------        --------------  ----- \n",
      " 0   사용월           63725 non-null  int64 \n",
      " 1   호선명           63725 non-null  object\n",
      " 2   지하철역          63725 non-null  object\n",
      " 3   04시-05시 승차인원  63725 non-null  int64 \n",
      " 4   04시-05시 하차인원  63725 non-null  int64 \n",
      " 5   05시-06시 승차인원  63725 non-null  int64 \n",
      " 6   05시-06시 하차인원  63725 non-null  int64 \n",
      " 7   06시-07시 승차인원  63725 non-null  int64 \n",
      " 8   06시-07시 하차인원  63725 non-null  int64 \n",
      " 9   07시-08시 승차인원  63725 non-null  int64 \n",
      " 10  07시-08시 하차인원  63725 non-null  int64 \n",
      " 11  08시-09시 승차인원  63725 non-null  int64 \n",
      " 12  08시-09시 하차인원  63725 non-null  int64 \n",
      " 13  09시-10시 승차인원  63725 non-null  int64 \n",
      " 14  09시-10시 하차인원  63725 non-null  int64 \n",
      " 15  10시-11시 승차인원  63725 non-null  int64 \n",
      " 16  10시-11시 하차인원  63725 non-null  int64 \n",
      " 17  11시-12시 승차인원  63725 non-null  int64 \n",
      " 18  11시-12시 하차인원  63725 non-null  int64 \n",
      " 19  12시-13시 승차인원  63725 non-null  int64 \n",
      " 20  12시-13시 하차인원  63725 non-null  int64 \n",
      " 21  13시-14시 승차인원  63725 non-null  int64 \n",
      " 22  13시-14시 하차인원  63725 non-null  int64 \n",
      " 23  14시-15시 승차인원  63725 non-null  int64 \n",
      " 24  14시-15시 하차인원  63725 non-null  int64 \n",
      " 25  15시-16시 승차인원  63725 non-null  int64 \n",
      " 26  15시-16시 하차인원  63725 non-null  int64 \n",
      " 27  16시-17시 승차인원  63725 non-null  int64 \n",
      " 28  16시-17시 하차인원  63725 non-null  int64 \n",
      " 29  17시-18시 승차인원  63725 non-null  int64 \n",
      " 30  17시-18시 하차인원  63725 non-null  int64 \n",
      " 31  18시-19시 승차인원  63725 non-null  int64 \n",
      " 32  18시-19시 하차인원  63725 non-null  int64 \n",
      " 33  19시-20시 승차인원  63725 non-null  int64 \n",
      " 34  19시-20시 하차인원  63725 non-null  int64 \n",
      " 35  20시-21시 승차인원  63725 non-null  int64 \n",
      " 36  20시-21시 하차인원  63725 non-null  int64 \n",
      " 37  21시-22시 승차인원  63725 non-null  int64 \n",
      " 38  21시-22시 하차인원  63725 non-null  int64 \n",
      " 39  22시-23시 승차인원  63725 non-null  int64 \n",
      " 40  22시-23시 하차인원  63725 non-null  int64 \n",
      " 41  23시-24시 승차인원  63725 non-null  int64 \n",
      " 42  23시-24시 하차인원  63725 non-null  int64 \n",
      " 43  00시-01시 승차인원  63725 non-null  int64 \n",
      " 44  00시-01시 하차인원  63725 non-null  int64 \n",
      " 45  01시-02시 승차인원  63725 non-null  int64 \n",
      " 46  01시-02시 하차인원  63725 non-null  int64 \n",
      " 47  02시-03시 승차인원  63725 non-null  int64 \n",
      " 48  02시-03시 하차인원  63725 non-null  int64 \n",
      " 49  03시-04시 승차인원  63725 non-null  int64 \n",
      " 50  03시-04시 하차인원  63725 non-null  int64 \n",
      " 51  작업일자          63725 non-null  int64 \n",
      "dtypes: int64(50), object(2)\n",
      "memory usage: 25.3+ MB\n"
     ]
    }
   ],
   "source": [
    "subway_people.info()"
   ]
  },
  {
   "cell_type": "code",
   "execution_count": 5,
   "metadata": {},
   "outputs": [
    {
     "data": {
      "text/plain": [
       "Index(['사용월', '호선명', '지하철역', '04시-05시 승차인원', '04시-05시 하차인원', '05시-06시 승차인원',\n",
       "       '05시-06시 하차인원', '06시-07시 승차인원', '06시-07시 하차인원', '07시-08시 승차인원',\n",
       "       '07시-08시 하차인원', '08시-09시 승차인원', '08시-09시 하차인원', '09시-10시 승차인원',\n",
       "       '09시-10시 하차인원', '10시-11시 승차인원', '10시-11시 하차인원', '11시-12시 승차인원',\n",
       "       '11시-12시 하차인원', '12시-13시 승차인원', '12시-13시 하차인원', '13시-14시 승차인원',\n",
       "       '13시-14시 하차인원', '14시-15시 승차인원', '14시-15시 하차인원', '15시-16시 승차인원',\n",
       "       '15시-16시 하차인원', '16시-17시 승차인원', '16시-17시 하차인원', '17시-18시 승차인원',\n",
       "       '17시-18시 하차인원', '18시-19시 승차인원', '18시-19시 하차인원', '19시-20시 승차인원',\n",
       "       '19시-20시 하차인원', '20시-21시 승차인원', '20시-21시 하차인원', '21시-22시 승차인원',\n",
       "       '21시-22시 하차인원', '22시-23시 승차인원', '22시-23시 하차인원', '23시-24시 승차인원',\n",
       "       '23시-24시 하차인원', '00시-01시 승차인원', '00시-01시 하차인원', '01시-02시 승차인원',\n",
       "       '01시-02시 하차인원', '02시-03시 승차인원', '02시-03시 하차인원', '03시-04시 승차인원',\n",
       "       '03시-04시 하차인원', '작업일자'],\n",
       "      dtype='object')"
      ]
     },
     "execution_count": 5,
     "metadata": {},
     "output_type": "execute_result"
    }
   ],
   "source": [
    "subway_people.columns"
   ]
  },
  {
   "cell_type": "markdown",
   "metadata": {},
   "source": [
    "- 더하는 것이 어려워서 일일이 값을 대입해서 더하기"
   ]
  },
  {
   "cell_type": "code",
   "execution_count": 6,
   "metadata": {},
   "outputs": [],
   "source": [
    "# 하루 유동인구 합 구하기\n",
    "subway_people['유동승객수'] = subway_people[['04시-05시 승차인원', '04시-05시 하차인원', '05시-06시 승차인원',\n",
    "       '05시-06시 하차인원', '06시-07시 승차인원', '06시-07시 하차인원', '07시-08시 승차인원',\n",
    "       '07시-08시 하차인원', '08시-09시 승차인원', '08시-09시 하차인원', '09시-10시 승차인원',\n",
    "       '09시-10시 하차인원', '10시-11시 승차인원', '10시-11시 하차인원', '11시-12시 승차인원',\n",
    "       '11시-12시 하차인원', '12시-13시 승차인원', '12시-13시 하차인원', '13시-14시 승차인원',\n",
    "       '13시-14시 하차인원', '14시-15시 승차인원', '14시-15시 하차인원', '15시-16시 승차인원',\n",
    "       '15시-16시 하차인원', '16시-17시 승차인원', '16시-17시 하차인원', '17시-18시 승차인원',\n",
    "       '17시-18시 하차인원', '18시-19시 승차인원', '18시-19시 하차인원', '19시-20시 승차인원',\n",
    "       '19시-20시 하차인원', '20시-21시 승차인원', '20시-21시 하차인원', '21시-22시 승차인원',\n",
    "       '21시-22시 하차인원', '22시-23시 승차인원', '22시-23시 하차인원', '23시-24시 승차인원',\n",
    "       '23시-24시 하차인원', '00시-01시 승차인원', '00시-01시 하차인원', '01시-02시 승차인원',\n",
    "       '01시-02시 하차인원', '02시-03시 승차인원', '02시-03시 하차인원', '03시-04시 승차인원',\n",
    "       '03시-04시 하차인원']].sum(axis = 1)"
   ]
  },
  {
   "cell_type": "markdown",
   "metadata": {},
   "source": [
    "- 2022년 ~ 2023년 유동인구는 값을 제대로 입력받지 못한 역이 있음 : 까치울역 ...\n",
    "- 공사중과 같은 이유로 집계되지 않았을 수 있음\n",
    "- 따라서 2021년 유동인구를 대체하기로함 \n",
    "- 코로나 시즌이라 정보가 부정확할 수 있음"
   ]
  },
  {
   "cell_type": "code",
   "execution_count": 7,
   "metadata": {},
   "outputs": [],
   "source": [
    "# 2021년 유동인구 가져오기\n",
    "subway_people2 = subway_people[(subway_people['사용월'] > 202013) & (subway_people['사용월'] <= 202200)][['지하철역', '유동승객수']]"
   ]
  },
  {
   "cell_type": "code",
   "execution_count": 8,
   "metadata": {},
   "outputs": [],
   "source": [
    "# 지하철역별 유동인구 계산\n",
    "t = subway_people2.groupby('지하철역').sum().reset_index()"
   ]
  },
  {
   "cell_type": "code",
   "execution_count": 9,
   "metadata": {},
   "outputs": [],
   "source": [
    "# (승차 + 하차) * 12\n",
    "t['월평균_유동승객수'] = t['유동승객수'] // 24 "
   ]
  },
  {
   "cell_type": "code",
   "execution_count": 10,
   "metadata": {},
   "outputs": [],
   "source": [
    "# 필요한 행만 남기기\n",
    "subway_needs = t.drop(['유동승객수'], axis = 1)\n",
    "subway_needs.columns = ['지하철역', '유동승객수']"
   ]
  },
  {
   "cell_type": "code",
   "execution_count": 11,
   "metadata": {},
   "outputs": [],
   "source": [
    "# 이름 다른 6개 일일이 채워주기\n",
    "subway_needs['지하철역'][subway_needs['지하철역'] == '낙성대(강감찬)'] = '낙성대'\n",
    "subway_needs['지하철역'][subway_needs['지하철역'] == '동대문역사문화공원(DDP)'] = '동대문역사문화공원'\n",
    "subway_needs['지하철역'][subway_needs['지하철역'] == '마곡나루(서울식물원)'] = '마곡나루'\n",
    "subway_needs['지하철역'][subway_needs['지하철역'] == '용마산(용마폭포공원)'] = '용마산'\n",
    "subway_needs['지하철역'][subway_needs['지하철역'] == '평택지제'] = '지제'\n",
    "subway_needs['지하철역'][subway_needs['지하철역'] == '하남시청(덕풍?신장)'] = '하남시청(덕풍-신장)'"
   ]
  },
  {
   "cell_type": "markdown",
   "metadata": {},
   "source": [
    "## 3. Haversin Distance\n",
    "- 데이터가 약 9000 x 800 개이므로 cross join과 numpy를 활용하여 계산\n",
    "- for문 보다 더 빠른 계산을 적용할 수 있음"
   ]
  },
  {
   "cell_type": "code",
   "execution_count": 12,
   "metadata": {},
   "outputs": [],
   "source": [
    "# 결합\n",
    "sub = pd.merge(subway_needs, subway_latlon.drop_duplicates('역사명'), how = 'left', left_on = '지하철역', right_on = '역사명')"
   ]
  },
  {
   "cell_type": "code",
   "execution_count": 13,
   "metadata": {},
   "outputs": [],
   "source": [
    "# 결측확인 및 대입\n",
    "# sub.loc[331, :] = [1296, 3.0, 1296, '계양역', '경의선', 37.57156, 126.7364]"
   ]
  },
  {
   "cell_type": "code",
   "execution_count": 14,
   "metadata": {},
   "outputs": [],
   "source": [
    "# 필요한 것만 뽑기\n",
    "sub_needs = sub[['역사명', '위도', '경도', '유동승객수']]"
   ]
  },
  {
   "cell_type": "code",
   "execution_count": 15,
   "metadata": {},
   "outputs": [
    {
     "data": {
      "text/html": [
       "<div>\n",
       "<style scoped>\n",
       "    .dataframe tbody tr th:only-of-type {\n",
       "        vertical-align: middle;\n",
       "    }\n",
       "\n",
       "    .dataframe tbody tr th {\n",
       "        vertical-align: top;\n",
       "    }\n",
       "\n",
       "    .dataframe thead th {\n",
       "        text-align: right;\n",
       "    }\n",
       "</style>\n",
       "<table border=\"1\" class=\"dataframe\">\n",
       "  <thead>\n",
       "    <tr style=\"text-align: right;\">\n",
       "      <th></th>\n",
       "      <th>역사명</th>\n",
       "      <th>위도</th>\n",
       "      <th>경도</th>\n",
       "      <th>유동승객수</th>\n",
       "    </tr>\n",
       "  </thead>\n",
       "  <tbody>\n",
       "    <tr>\n",
       "      <th>0</th>\n",
       "      <td>4.19민주묘지</td>\n",
       "      <td>37.649502</td>\n",
       "      <td>127.013684</td>\n",
       "      <td>73121</td>\n",
       "    </tr>\n",
       "    <tr>\n",
       "      <th>1</th>\n",
       "      <td>가능</td>\n",
       "      <td>37.748577</td>\n",
       "      <td>127.044213</td>\n",
       "      <td>166245</td>\n",
       "    </tr>\n",
       "    <tr>\n",
       "      <th>2</th>\n",
       "      <td>가락시장</td>\n",
       "      <td>37.492888</td>\n",
       "      <td>127.118398</td>\n",
       "      <td>420949</td>\n",
       "    </tr>\n",
       "    <tr>\n",
       "      <th>3</th>\n",
       "      <td>가산디지털단지</td>\n",
       "      <td>37.480338</td>\n",
       "      <td>126.882656</td>\n",
       "      <td>1516694</td>\n",
       "    </tr>\n",
       "    <tr>\n",
       "      <th>4</th>\n",
       "      <td>가양</td>\n",
       "      <td>37.561391</td>\n",
       "      <td>126.854456</td>\n",
       "      <td>498709</td>\n",
       "    </tr>\n",
       "    <tr>\n",
       "      <th>...</th>\n",
       "      <td>...</td>\n",
       "      <td>...</td>\n",
       "      <td>...</td>\n",
       "      <td>...</td>\n",
       "    </tr>\n",
       "    <tr>\n",
       "      <th>518</th>\n",
       "      <td>회기</td>\n",
       "      <td>37.589460</td>\n",
       "      <td>127.057583</td>\n",
       "      <td>606220</td>\n",
       "    </tr>\n",
       "    <tr>\n",
       "      <th>519</th>\n",
       "      <td>회룡</td>\n",
       "      <td>37.725006</td>\n",
       "      <td>127.047073</td>\n",
       "      <td>317384</td>\n",
       "    </tr>\n",
       "    <tr>\n",
       "      <th>520</th>\n",
       "      <td>회현(남대문시장)</td>\n",
       "      <td>37.558514</td>\n",
       "      <td>126.978246</td>\n",
       "      <td>589452</td>\n",
       "    </tr>\n",
       "    <tr>\n",
       "      <th>521</th>\n",
       "      <td>효창공원앞</td>\n",
       "      <td>37.539233</td>\n",
       "      <td>126.961384</td>\n",
       "      <td>239801</td>\n",
       "    </tr>\n",
       "    <tr>\n",
       "      <th>522</th>\n",
       "      <td>흑석(중앙대입구)</td>\n",
       "      <td>37.508770</td>\n",
       "      <td>126.963708</td>\n",
       "      <td>197182</td>\n",
       "    </tr>\n",
       "  </tbody>\n",
       "</table>\n",
       "<p>523 rows × 4 columns</p>\n",
       "</div>"
      ],
      "text/plain": [
       "           역사명         위도          경도    유동승객수\n",
       "0     4.19민주묘지  37.649502  127.013684    73121\n",
       "1           가능  37.748577  127.044213   166245\n",
       "2         가락시장  37.492888  127.118398   420949\n",
       "3      가산디지털단지  37.480338  126.882656  1516694\n",
       "4           가양  37.561391  126.854456   498709\n",
       "..         ...        ...         ...      ...\n",
       "518         회기  37.589460  127.057583   606220\n",
       "519         회룡  37.725006  127.047073   317384\n",
       "520  회현(남대문시장)  37.558514  126.978246   589452\n",
       "521      효창공원앞  37.539233  126.961384   239801\n",
       "522  흑석(중앙대입구)  37.508770  126.963708   197182\n",
       "\n",
       "[523 rows x 4 columns]"
      ]
     },
     "execution_count": 15,
     "metadata": {},
     "output_type": "execute_result"
    }
   ],
   "source": [
    "sub_needs"
   ]
  },
  {
   "cell_type": "code",
   "execution_count": 16,
   "metadata": {},
   "outputs": [],
   "source": [
    "# 지번주소, 위도, 경도 가져오기\n",
    "address = pd.read_csv('../data/address_to_latlon_complete.csv')"
   ]
  },
  {
   "cell_type": "code",
   "execution_count": 17,
   "metadata": {},
   "outputs": [
    {
     "data": {
      "text/html": [
       "<div>\n",
       "<style scoped>\n",
       "    .dataframe tbody tr th:only-of-type {\n",
       "        vertical-align: middle;\n",
       "    }\n",
       "\n",
       "    .dataframe tbody tr th {\n",
       "        vertical-align: top;\n",
       "    }\n",
       "\n",
       "    .dataframe thead th {\n",
       "        text-align: right;\n",
       "    }\n",
       "</style>\n",
       "<table border=\"1\" class=\"dataframe\">\n",
       "  <thead>\n",
       "    <tr style=\"text-align: right;\">\n",
       "      <th></th>\n",
       "      <th>지번주소</th>\n",
       "      <th>좌표X뉴</th>\n",
       "      <th>좌표Y뉴</th>\n",
       "    </tr>\n",
       "  </thead>\n",
       "  <tbody>\n",
       "    <tr>\n",
       "      <th>8136</th>\n",
       "      <td>서울특별시 영등포구 영등포동7가 94-99</td>\n",
       "      <td>126.909869</td>\n",
       "      <td>37.524135</td>\n",
       "    </tr>\n",
       "  </tbody>\n",
       "</table>\n",
       "</div>"
      ],
      "text/plain": [
       "                         지번주소        좌표X뉴       좌표Y뉴\n",
       "8136  서울특별시 영등포구 영등포동7가 94-99  126.909869  37.524135"
      ]
     },
     "execution_count": 17,
     "metadata": {},
     "output_type": "execute_result"
    }
   ],
   "source": [
    "# 오류가 있는지 샘플 뽑아 확인\n",
    "address[address['지번주소'] == '서울특별시 영등포구 영등포동7가 94-99']"
   ]
  },
  {
   "cell_type": "code",
   "execution_count": 18,
   "metadata": {},
   "outputs": [],
   "source": [
    "# 본격적 하버사인 거리 구하기\n",
    "veryhard = pd.merge(address, sub_needs, how='cross')"
   ]
  },
  {
   "cell_type": "code",
   "execution_count": 19,
   "metadata": {},
   "outputs": [],
   "source": [
    "# 하버사인 거리\n",
    "lat1 = np.deg2rad(veryhard['경도'])\n",
    "lat2 = np.deg2rad(veryhard['좌표X뉴'])\n",
    "lon1 = np.deg2rad(veryhard['위도'])\n",
    "lon2 = np.deg2rad(veryhard['좌표Y뉴'])\n",
    "dlat = lat2 - lat1\n",
    "dlon = lon1 - lon2\n",
    "a = np.sin(dlat/2)**2 + np.cos(lat1) * np.cos(lat2) * np.sin(dlon/2)**2\n",
    "c = 2 * np.arcsin(np.sqrt(a))"
   ]
  },
  {
   "cell_type": "code",
   "execution_count": 20,
   "metadata": {},
   "outputs": [],
   "source": [
    "# 미터단위 거리 구하기\n",
    "veryhard['역까지_거리'] = c * 6371 * 1000"
   ]
  },
  {
   "cell_type": "code",
   "execution_count": 35,
   "metadata": {},
   "outputs": [],
   "source": [
    "# 거리자르기\n",
    "min_value = veryhard.loc[veryhard.groupby('지번주소')['역까지_거리'].idxmin()]"
   ]
  },
  {
   "cell_type": "code",
   "execution_count": 24,
   "metadata": {},
   "outputs": [],
   "source": [
    "# 역세권 변수 만들기\n",
    "min_value['1차역세권'] = np.where(min_value['역까지_거리'] <= 250, 1, 0)\n",
    "min_value['2차역세권'] = np.where((min_value['역까지_거리'] > 250) & (min_value['역까지_거리'] <= 500), 1, 0)"
   ]
  },
  {
   "cell_type": "markdown",
   "metadata": {},
   "source": [
    "- 나중에 한번에 붙이기 위해 저장"
   ]
  },
  {
   "cell_type": "code",
   "execution_count": 25,
   "metadata": {},
   "outputs": [],
   "source": [
    "# 저장\n",
    "min_value.to_csv('../data/지번주소별_유동인구_역세권_역까지거리.csv', index=False)"
   ]
  }
 ],
 "metadata": {
  "kernelspec": {
   "display_name": "machine",
   "language": "python",
   "name": "python3"
  },
  "language_info": {
   "codemirror_mode": {
    "name": "ipython",
    "version": 3
   },
   "file_extension": ".py",
   "mimetype": "text/x-python",
   "name": "python",
   "nbconvert_exporter": "python",
   "pygments_lexer": "ipython3",
   "version": "3.10.13"
  }
 },
 "nbformat": 4,
 "nbformat_minor": 2
}
