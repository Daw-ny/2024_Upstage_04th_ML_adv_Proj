{
 "cells": [
  {
   "cell_type": "markdown",
   "metadata": {},
   "source": [
    "## Stage 5. 모델 학습 및 검증"
   ]
  },
  {
   "cell_type": "markdown",
   "metadata": {},
   "source": [
    "### Import Library"
   ]
  },
  {
   "cell_type": "code",
   "execution_count": null,
   "metadata": {},
   "outputs": [],
   "source": [
    "# Visualization\n",
    "import matplotlib.pyplot as plt\n",
    "import matplotlib.font_manager as fm\n",
    "fe = fm.FontEntry(\n",
    "    fname=r'/usr/share/fonts/truetype/nanum/NanumGothic.ttf', \n",
    "    name='NanumBarunGothic')                      \n",
    "fm.fontManager.ttflist.insert(0, fe)            \n",
    "plt.rcParams.update({'font.size': 10, 'font.family': 'NanumBarunGothic'}) \n",
    "plt.rc('font', family='NanumBarunGothic')\n",
    "import seaborn as sns\n",
    "\n",
    "# Utils\n",
    "import pandas as pd\n",
    "import numpy as np\n",
    "from tqdm import tqdm\n",
    "import pickle\n",
    "import warnings;warnings.filterwarnings('ignore')\n",
    "\n",
    "# Model\n",
    "from sklearn.preprocessing import LabelEncoder\n",
    "from sklearn.model_selection import train_test_split\n",
    "from sklearn.metrics import mean_squared_error\n",
    "from sklearn.ensemble import RandomForestRegressor\n",
    "from sklearn import metrics\n",
    "\n",
    "import eli5\n",
    "from eli5.sklearn import PermutationImportance"
   ]
  },
  {
   "cell_type": "markdown",
   "metadata": {},
   "source": [
    "### 1. 데이터 분석 전 준비"
   ]
  },
  {
   "cell_type": "code",
   "execution_count": 3,
   "metadata": {},
   "outputs": [
    {
     "name": "stderr",
     "output_type": "stream",
     "text": [
      "/tmp/ipykernel_579260/396092589.py:4: DtypeWarning: Columns (10,11) have mixed types. Specify dtype option on import or set low_memory=False.\n",
      "  all_data = pd.read_csv('../data/all_data.csv')\n"
     ]
    }
   ],
   "source": [
    "pd.options.mode.chained_assignment = None\n",
    "\n",
    "submission = pd.read_csv('../data/sample_submission.csv')\n",
    "all_data = pd.read_csv('../data/all_data.csv')"
   ]
  },
  {
   "cell_type": "markdown",
   "metadata": {},
   "source": [
    "### 2. 모델 학습 및 검증"
   ]
  },
  {
   "cell_type": "code",
   "execution_count": 15,
   "metadata": {},
   "outputs": [
    {
     "data": {
      "text/plain": [
       "Index(['시군구', '번지', '아파트명', '전용면적', '계약년월', '계약일', '층', '건축년도', '도로명',\n",
       "       '해제사유발생일', '거래유형', '중개사소재지', 'k-단지분류', 'k-세대타입(분양형태)', 'k-복도유형',\n",
       "       'k-난방방식', 'k-전체동수', 'k-전체세대수', 'k-건설사', 'k-시행사', 'k-연면적', 'k-주거전용면적',\n",
       "       'k-전용면적별세대현황60이하', 'k-전용면적별세대현황6085이하', 'k-85135이하', 'k-135초과',\n",
       "       '세대전기계약방법', '건축면적', '주차대수', '기타의무임대1234', '단지신청일', 'target', '구', '동',\n",
       "       '전체주소명', '동아파트명', '유동인구', '아파트 지하철역 거리', '1차역세권', '2차역세권',\n",
       "       '아파트 버스정류장 거리', '좌표X', '좌표Y', '아파트 한강대교 거리', '전세가율', '전체계약일자', '금리',\n",
       "       '실질gdp', '명목gdp', '학군', '재개발개수', '학급수', '여당득표율', 'train_test', '계약날짜',\n",
       "       'apartment_id', 'bucket_area', 'recent_price', 'transaction_cnt',\n",
       "       '1년전_금리', 'cluster_x', 'low_floor', '계약년', '계약월', 'cluster_y',\n",
       "       'cluster'],\n",
       "      dtype='object')"
      ]
     },
     "execution_count": 15,
     "metadata": {},
     "output_type": "execute_result"
    }
   ],
   "source": [
    "all_data.columns"
   ]
  },
  {
   "cell_type": "code",
   "execution_count": 16,
   "metadata": {},
   "outputs": [
    {
     "name": "stderr",
     "output_type": "stream",
     "text": [
      "[I 2024-01-24 05:17:36,906] A new study created in memory with name: no-name-207e9e0a-1f2d-4c1f-85e9-3d7aa36dc864\n",
      "[I 2024-01-24 05:21:38,768] Trial 0 finished with value: 930812883.9349685 and parameters: {'n_estimators': 74, 'max_depth': 28}. Best is trial 0 with value: 930812883.9349685.\n",
      "[I 2024-01-24 05:23:57,128] Trial 1 finished with value: 910370799.4946418 and parameters: {'n_estimators': 86, 'max_depth': 10}. Best is trial 1 with value: 910370799.4946418.\n",
      "[I 2024-01-24 05:28:17,391] Trial 2 finished with value: 932705847.1725438 and parameters: {'n_estimators': 79, 'max_depth': 28}. Best is trial 1 with value: 910370799.4946418.\n",
      "[I 2024-01-24 05:31:39,578] Trial 3 finished with value: 929374676.1095756 and parameters: {'n_estimators': 60, 'max_depth': 30}. Best is trial 1 with value: 910370799.4946418.\n",
      "[I 2024-01-24 05:32:12,426] Trial 4 finished with value: 1313309174.3635514 and parameters: {'n_estimators': 43, 'max_depth': 4}. Best is trial 1 with value: 910370799.4946418.\n",
      "[I 2024-01-24 05:34:05,483] Trial 5 finished with value: 905400362.3993678 and parameters: {'n_estimators': 48, 'max_depth': 17}. Best is trial 5 with value: 905400362.3993678.\n",
      "[I 2024-01-24 05:35:26,384] Trial 6 finished with value: 978561886.4078133 and parameters: {'n_estimators': 27, 'max_depth': 24}. Best is trial 5 with value: 905400362.3993678.\n",
      "[I 2024-01-24 05:37:47,933] Trial 7 finished with value: 939686856.4545146 and parameters: {'n_estimators': 42, 'max_depth': 30}. Best is trial 5 with value: 905400362.3993678.\n",
      "[I 2024-01-24 05:41:13,273] Trial 8 finished with value: 931369961.3186337 and parameters: {'n_estimators': 80, 'max_depth': 19}. Best is trial 5 with value: 905400362.3993678.\n",
      "[I 2024-01-24 05:44:48,232] Trial 9 finished with value: 920170374.477434 and parameters: {'n_estimators': 84, 'max_depth': 19}. Best is trial 5 with value: 905400362.3993678.\n",
      "[I 2024-01-24 05:45:23,031] Trial 10 finished with value: 921595187.5810941 and parameters: {'n_estimators': 20, 'max_depth': 11}. Best is trial 5 with value: 905400362.3993678.\n",
      "[I 2024-01-24 05:47:07,464] Trial 11 finished with value: 899333729.4141679 and parameters: {'n_estimators': 60, 'max_depth': 11}. Best is trial 11 with value: 899333729.4141679.\n",
      "[I 2024-01-24 05:48:56,300] Trial 12 finished with value: 896148107.9277447 and parameters: {'n_estimators': 59, 'max_depth': 12}. Best is trial 12 with value: 896148107.9277447.\n",
      "[I 2024-01-24 05:50:41,701] Trial 13 finished with value: 897605877.284018 and parameters: {'n_estimators': 61, 'max_depth': 11}. Best is trial 12 with value: 896148107.9277447.\n",
      "[I 2024-01-24 05:51:57,527] Trial 14 finished with value: 1314268949.3115442 and parameters: {'n_estimators': 99, 'max_depth': 4}. Best is trial 12 with value: 896148107.9277447.\n",
      "[I 2024-01-24 05:54:22,292] Trial 15 finished with value: 907227187.9289671 and parameters: {'n_estimators': 67, 'max_depth': 15}. Best is trial 12 with value: 896148107.9277447.\n",
      "[I 2024-01-24 05:55:03,729] Trial 16 finished with value: 956606307.5991428 and parameters: {'n_estimators': 30, 'max_depth': 8}. Best is trial 12 with value: 896148107.9277447.\n",
      "[I 2024-01-24 05:56:50,169] Trial 17 finished with value: 902868859.0172222 and parameters: {'n_estimators': 52, 'max_depth': 14}. Best is trial 12 with value: 896148107.9277447.\n",
      "[I 2024-01-24 05:58:14,474] Trial 18 finished with value: 972933159.1633394 and parameters: {'n_estimators': 68, 'max_depth': 7}. Best is trial 12 with value: 896148107.9277447.\n",
      "[I 2024-01-24 05:59:58,240] Trial 19 finished with value: 971467188.0739247 and parameters: {'n_estimators': 37, 'max_depth': 22}. Best is trial 12 with value: 896148107.9277447.\n",
      "[I 2024-01-24 06:00:18,907] Trial 20 finished with value: 918902776.432294 and parameters: {'n_estimators': 10, 'max_depth': 14}. Best is trial 12 with value: 896148107.9277447.\n",
      "[I 2024-01-24 06:02:06,958] Trial 21 finished with value: 878665220.022117 and parameters: {'n_estimators': 59, 'max_depth': 12}. Best is trial 21 with value: 878665220.022117.\n",
      "[I 2024-01-24 06:03:18,247] Trial 22 finished with value: 968473040.4930284 and parameters: {'n_estimators': 58, 'max_depth': 7}. Best is trial 21 with value: 878665220.022117.\n",
      "[I 2024-01-24 06:05:22,552] Trial 23 finished with value: 911382796.2641771 and parameters: {'n_estimators': 68, 'max_depth': 12}. Best is trial 21 with value: 878665220.022117.\n",
      "[I 2024-01-24 06:05:43,218] Trial 24 finished with value: 3002116101.3565593 and parameters: {'n_estimators': 53, 'max_depth': 2}. Best is trial 21 with value: 878665220.022117.\n",
      "[I 2024-01-24 06:08:00,673] Trial 25 finished with value: 912776048.3252918 and parameters: {'n_estimators': 92, 'max_depth': 9}. Best is trial 21 with value: 878665220.022117.\n",
      "[I 2024-01-24 06:10:32,977] Trial 26 finished with value: 908750837.1211503 and parameters: {'n_estimators': 67, 'max_depth': 16}. Best is trial 21 with value: 878665220.022117.\n",
      "[I 2024-01-24 06:12:04,962] Trial 27 finished with value: 904279616.8132949 and parameters: {'n_estimators': 47, 'max_depth': 13}. Best is trial 21 with value: 878665220.022117.\n",
      "[I 2024-01-24 06:13:34,646] Trial 28 finished with value: 938229656.5259012 and parameters: {'n_estimators': 36, 'max_depth': 18}. Best is trial 21 with value: 878665220.022117.\n",
      "[I 2024-01-24 06:17:10,241] Trial 29 finished with value: 920816812.5595976 and parameters: {'n_estimators': 75, 'max_depth': 22}. Best is trial 21 with value: 878665220.022117.\n",
      "[I 2024-01-24 06:18:09,499] Trial 30 finished with value: 1098017260.859461 and parameters: {'n_estimators': 63, 'max_depth': 5}. Best is trial 21 with value: 878665220.022117.\n",
      "[I 2024-01-24 06:19:48,298] Trial 31 finished with value: 899966107.6290433 and parameters: {'n_estimators': 57, 'max_depth': 11}. Best is trial 21 with value: 878665220.022117.\n",
      "[I 2024-01-24 06:22:04,892] Trial 32 finished with value: 892238125.4134808 and parameters: {'n_estimators': 74, 'max_depth': 12}. Best is trial 21 with value: 878665220.022117.\n",
      "[I 2024-01-24 06:23:55,003] Trial 33 finished with value: 910582482.4070948 and parameters: {'n_estimators': 74, 'max_depth': 9}. Best is trial 21 with value: 878665220.022117.\n",
      "[I 2024-01-24 06:26:20,916] Trial 34 finished with value: 899326736.013872 and parameters: {'n_estimators': 74, 'max_depth': 13}. Best is trial 21 with value: 878665220.022117.\n",
      "[I 2024-01-24 06:28:00,467] Trial 35 finished with value: 1017930804.8908745 and parameters: {'n_estimators': 90, 'max_depth': 6}. Best is trial 21 with value: 878665220.022117.\n",
      "[I 2024-01-24 06:30:13,491] Trial 36 finished with value: 919499714.9205778 and parameters: {'n_estimators': 62, 'max_depth': 15}. Best is trial 21 with value: 878665220.022117.\n",
      "[I 2024-01-24 06:31:32,252] Trial 37 finished with value: 917039855.7684048 and parameters: {'n_estimators': 49, 'max_depth': 10}. Best is trial 21 with value: 878665220.022117.\n",
      "[I 2024-01-24 06:33:58,822] Trial 38 finished with value: 886422683.0519143 and parameters: {'n_estimators': 80, 'max_depth': 12}. Best is trial 21 with value: 878665220.022117.\n",
      "[I 2024-01-24 06:37:08,311] Trial 39 finished with value: 919673403.7087793 and parameters: {'n_estimators': 80, 'max_depth': 17}. Best is trial 21 with value: 878665220.022117.\n",
      "[I 2024-01-24 06:40:59,733] Trial 40 finished with value: 923117021.6504112 and parameters: {'n_estimators': 84, 'max_depth': 21}. Best is trial 21 with value: 878665220.022117.\n",
      "[I 2024-01-24 06:42:56,946] Trial 41 finished with value: 919995234.8911866 and parameters: {'n_estimators': 64, 'max_depth': 12}. Best is trial 21 with value: 878665220.022117.\n",
      "[I 2024-01-24 06:44:43,708] Trial 42 finished with value: 912259270.5249437 and parameters: {'n_estimators': 71, 'max_depth': 9}. Best is trial 21 with value: 878665220.022117.\n",
      "[I 2024-01-24 06:47:14,358] Trial 43 finished with value: 898222959.9702061 and parameters: {'n_estimators': 77, 'max_depth': 13}. Best is trial 21 with value: 878665220.022117.\n",
      "[I 2024-01-24 06:48:48,801] Trial 44 finished with value: 906654492.4483213 and parameters: {'n_estimators': 57, 'max_depth': 10}. Best is trial 21 with value: 878665220.022117.\n",
      "[I 2024-01-24 06:51:59,890] Trial 45 finished with value: 892213547.7363994 and parameters: {'n_estimators': 88, 'max_depth': 15}. Best is trial 21 with value: 878665220.022117.\n",
      "[I 2024-01-24 06:55:31,340] Trial 46 finished with value: 896895355.7213901 and parameters: {'n_estimators': 91, 'max_depth': 16}. Best is trial 21 with value: 878665220.022117.\n",
      "[I 2024-01-24 07:00:31,975] Trial 47 finished with value: 928456153.2276603 and parameters: {'n_estimators': 86, 'max_depth': 32}. Best is trial 21 with value: 878665220.022117.\n",
      "[I 2024-01-24 07:05:00,053] Trial 48 finished with value: 920033497.938698 and parameters: {'n_estimators': 100, 'max_depth': 19}. Best is trial 21 with value: 878665220.022117.\n",
      "[I 2024-01-24 07:09:52,275] Trial 49 finished with value: 937669767.2716203 and parameters: {'n_estimators': 95, 'max_depth': 25}. Best is trial 21 with value: 878665220.022117.\n"
     ]
    },
    {
     "name": "stdout",
     "output_type": "stream",
     "text": [
      "Best Params: {'n_estimators': 59, 'max_depth': 12}\n"
     ]
    }
   ],
   "source": [
    "# Random Forest Model \n",
    "# Optuna Library 사용(Hyper parameter 최적화)\n",
    "\n",
    "from sklearn.ensemble import RandomForestRegressor\n",
    "from sklearn.metrics import mean_squared_error\n",
    "import optuna\n",
    "\n",
    "validation_year = 2022\n",
    "\n",
    "columns = [\n",
    "    '건축년도','recent_price', 'transaction_cnt', '1년전_금리', '계약년',\n",
    "    '계약월', 'cluster', 'bucket_area', 'low_floor',\n",
    "]\n",
    "\n",
    "train_x = all_data.loc[(all_data['train_test'] == 'train') & (all_data['계약년'] < validation_year), columns]\n",
    "train_y = all_data.loc[(all_data['train_test'] == 'train') & (all_data['계약년'] < validation_year), 'target']\n",
    "\n",
    "val_x = all_data.loc[(all_data['train_test'] == 'train') & (all_data['계약년'] == validation_year), columns]\n",
    "val_y = all_data.loc[(all_data['train_test'] == 'train') & (all_data['계약년'] == validation_year), 'target']\n",
    "\n",
    "def objective(trial):\n",
    "    # 하이퍼파라미터 탐색 대상\n",
    "    n_estimators = trial.suggest_int('n_estimators', 10, 100)\n",
    "    max_depth = trial.suggest_int('max_depth', 2, 32)\n",
    "\n",
    "    # RandomForestRegressor 모델 학습\n",
    "    model = RandomForestRegressor(n_estimators=n_estimators, max_depth=max_depth)\n",
    "    model.fit(train_x, train_y)\n",
    "\n",
    "    # 검증 데이터로 평가\n",
    "    y_pred = model.predict(val_x)\n",
    "    mse = mean_squared_error(val_y, y_pred)\n",
    "    return mse\n",
    "\n",
    "# Optuna를 사용하여 하이퍼파라미터 탐색\n",
    "study = optuna.create_study(direction='minimize')  # 목표는 최소화\n",
    "study.optimize(objective, n_trials=50)  # 50회 반복하여 탐색\n",
    "\n",
    "# 최적의 하이퍼파라미터 값 출력\n",
    "best_params = study.best_params\n",
    "print(\"Best Params:\", best_params)"
   ]
  },
  {
   "cell_type": "markdown",
   "metadata": {},
   "source": [
    "### 3. 모델 학습"
   ]
  },
  {
   "cell_type": "code",
   "execution_count": 17,
   "metadata": {},
   "outputs": [
    {
     "name": "stdout",
     "output_type": "stream",
     "text": [
      "14147.4756455995\n"
     ]
    }
   ],
   "source": [
    "from sklearn.metrics import mean_absolute_error\n",
    "\n",
    "# 최적의 하이퍼파라미터로 모델 재학습\n",
    "best_model = RandomForestRegressor(n_estimators=best_params['n_estimators'],\n",
    "                                   max_depth=best_params['max_depth'])\n",
    "best_model.fit(train_x, train_y)\n",
    "\n",
    "# 예측\n",
    "pred_val_ls = best_model.predict(val_x)\n",
    "\n",
    "mae = mean_absolute_error(val_y, pred_val_ls)\n",
    "print(mae)"
   ]
  },
  {
   "cell_type": "markdown",
   "metadata": {},
   "source": [
    "### 12. 피처 중요도 확인"
   ]
  },
  {
   "cell_type": "code",
   "execution_count": 19,
   "metadata": {},
   "outputs": [
    {
     "data": {
      "image/png": "[encoded data removed]",
      "text/plain": [
       "<Figure size 640x480 with 1 Axes>"
      ]
     },
     "metadata": {},
     "output_type": "display_data"
    }
   ],
   "source": [
    "import matplotlib.pyplot as plt\n",
    "import matplotlib.font_manager as fm\n",
    "\n",
    "# 한글 폰트 경로 설정\n",
    "font_path = '/usr/share/fonts/truetype/nanum/NanumBarunGothic.ttf'  # 이 경로는 시스템에 따라 다를 수 있습니다.\n",
    "\n",
    "# 폰트 이름 가져오기\n",
    "font_name = fm.FontProperties(fname=font_path, size=10).get_name()\n",
    "\n",
    "# Matplotlib의 rcParams 설정\n",
    "plt.rcParams['font.family'] = font_name\n",
    "plt.rcParams['axes.unicode_minus'] = False  # 마이너스 기호 깨짐 방지\n",
    "\n",
    "# 이제 그래프를 다시 그리면 한글이 제대로 표시됩니다.\n",
    "\n",
    "\n",
    "importances = best_model.feature_importances_\n",
    "feature_names = train_x.columns\n",
    "\n",
    "# 피쳐 중요도에 따라 내림차순으로 인덱스를 정렬\n",
    "indices = np.argsort(importances)[::-1]\n",
    "\n",
    "# 피쳐 이름을 중요도 순서에 맞게 재배열\n",
    "sorted_feature_names = [feature_names[i] for i in indices]\n",
    "\n",
    "# 피쳐 중요도 시각화\n",
    "plt.figure()\n",
    "plt.title(\"Feature Importance\")\n",
    "plt.barh(range(train_x.shape[1]), importances[indices], align=\"center\")\n",
    "plt.yticks(range(train_x.shape[1]), sorted_feature_names)\n",
    "plt.ylabel(\"Features\")\n",
    "plt.xlabel(\"Importance\")\n",
    "plt.show()"
   ]
  },
  {
   "cell_type": "markdown",
   "metadata": {},
   "source": [
    "### 13. 중요 피처(Feature) 선택"
   ]
  },
  {
   "cell_type": "code",
   "execution_count": null,
   "metadata": {},
   "outputs": [],
   "source": [
    "drop_columns = ['bucket_area', 'low_floor', '계약월']\n",
    "\n",
    "train_filtered_x = train_x.drop(columns=drop_columns)\n",
    "val_filtered_x = val_x.drop(columns=drop_columns)\n",
    "\n",
    "best_model = RandomForestRegressor(n_estimators=best_params['n_estimators'],\n",
    "                                   max_depth=best_params['max_depth'])\n",
    "best_model.fit(train_filtered_x, train_y)\n",
    "\n",
    "# 예측\n",
    "pred_val_ls = best_model.predict(val_filtered_x)\n",
    "mae = mean_absolute_error(pred_val_ls, val_y)\n",
    "print(mae)\n",
    "\n",
    "# RMSE 계산\n",
    "rmse = np.sqrt(mean_squared_error(pred_val_ls, val_y))\n",
    "print(validation_year,'년도 RMSE: ', rmse)"
   ]
  },
  {
   "cell_type": "markdown",
   "metadata": {},
   "source": [
    "### 14. 시계열 모델 교차검증"
   ]
  },
  {
   "cell_type": "markdown",
   "metadata": {},
   "source": [
    "- 시계열 데이터는 순서가 중요하므로 데이터를 분리할 때 순서가 섞이지 않도록 주의해야 함\n",
    "- Validation data를 만들 때 Train data 보다 미래가 되도록 만들어야 함"
   ]
  },
  {
   "cell_type": "code",
   "execution_count": 31,
   "metadata": {},
   "outputs": [
    {
     "name": "stdout",
     "output_type": "stream",
     "text": [
      "2018 년도 MAE:  5889.060288115093\n",
      "2018 년도 RMSE:  12381.941360808756\n",
      "2019 년도 MAE:  7198.08519565768\n",
      "2019 년도 RMSE:  14359.762136374893\n",
      "2020 년도 MAE:  7216.982360272215\n",
      "2020 년도 RMSE:  13901.01022995256\n",
      "2021 년도 MAE:  10204.667501691849\n",
      "2021 년도 RMSE:  22601.26885157267\n",
      "2022 년도 MAE:  14551.404676133074\n",
      "2022 년도 RMSE:  29920.738278135083\n"
     ]
    }
   ],
   "source": [
    "for validation_year in [2018, 2019, 2020, 2021, 2022]:\n",
    "    columns = [\n",
    "        'recent_price', 'transaction_cnt', '1년전_금리', '계약년', 'cluster', '건축년도'\n",
    "    ]\n",
    "    train_x = all_data.loc[(all_data['train_test'] == 'train') & (all_data['계약년'] < validation_year), columns]\n",
    "    train_y = all_data.loc[(all_data['train_test'] == 'train') & (all_data['계약년'] < validation_year), 'target']\n",
    "    \n",
    "    val_x = all_data.loc[(all_data['train_test'] == 'train') & (all_data['계약년'] == validation_year), columns]\n",
    "    val_y = all_data.loc[(all_data['train_test'] == 'train') & (all_data['계약년'] == validation_year), 'target']\n",
    "    \n",
    "    # 랜덤 포레스트 모델 생성 및 훈련\n",
    "    model_trial = RandomForestRegressor(\n",
    "        n_estimators=best_params['n_estimators'],\n",
    "        max_depth=best_params['max_depth']\n",
    "    )\n",
    "    model_trial.fit(train_x, train_y)\n",
    "    \n",
    "    # 예측\n",
    "    pred_val_ls = model_trial.predict(val_x)\n",
    "    mae = mean_absolute_error(pred_val_ls, val_y)\n",
    "    print(validation_year,'년도 MAE: ' , mae)\n",
    "\n",
    "    # RMSE 계산\n",
    "    rmse = np.sqrt(mean_squared_error(pred_val_ls, val_y))\n",
    "    print(validation_year,'년도 RMSE: ', rmse)"
   ]
  },
  {
   "cell_type": "markdown",
   "metadata": {},
   "source": [
    "### 15. 테스트 데이터 예측"
   ]
  },
  {
   "cell_type": "code",
   "execution_count": 25,
   "metadata": {},
   "outputs": [
    {
     "name": "stderr",
     "output_type": "stream",
     "text": [
      "100%|██████████| 9272/9272 [1:37:28<00:00,  1.59it/s]\n"
     ]
    }
   ],
   "source": [
    "from sklearn.ensemble import RandomForestRegressor\n",
    "from tqdm import tqdm\n",
    "from datetime import datetime\n",
    "\n",
    "def make_area_bucket(area):\n",
    "    if area < 60: # 59타입\n",
    "        return 0\n",
    "    elif area < 85: # 84타입\n",
    "        return 1\n",
    "    else:\n",
    "        return 2\n",
    "\n",
    "\n",
    "# 아파트 면적 전처리\n",
    "all_data['bucket_area'] = all_data['전용면적'].apply(make_area_bucket)\n",
    "\n",
    "def get_recent_price(idx, all_data):\n",
    "    temp_df = all_data.loc[:idx]\n",
    "    temp_df = temp_df[\n",
    "        (temp_df['계약날짜'] < row['계약날짜']) &\n",
    "        (temp_df['bucket_area'] == row['bucket_area'])\n",
    "    ]\n",
    "    if len(temp_df) == 0:\n",
    "        temp_df = all_data[\n",
    "            (all_data['계약날짜'] < datetime.strptime('2016-01-01', \"%Y-%m-%d\")) &\n",
    "            (all_data['bucket_area'] == row['bucket_area'])\n",
    "        ]\n",
    "    \n",
    "    # 아파트 아이디 같은것 찾기\n",
    "    recent_price = temp_df[(temp_df['apartment_id'] == row['apartment_id'])]\n",
    "    if len(recent_price) == 0:\n",
    "        recent_price = temp_df[(temp_df['시군구'] == row['시군구'])]\n",
    "        recent_price = recent_price.iloc[-1]['target']\n",
    "    else:\n",
    "        recent_price = recent_price.iloc[-1]['target']  \n",
    "    \n",
    "    if recent_price is None:\n",
    "        recent_price = temp_df['target'].mean() # 2019년 전체평균\n",
    "\n",
    "    return recent_price\n",
    "\n",
    "\n",
    "columns = [\n",
    "    'recent_price', 'transaction_cnt', '1년전_금리', '계약년', 'cluster', '건축년도' \n",
    "]\n",
    "train_x = all_data.loc[all_data['train_test'] == 'train', columns]\n",
    "train_y = all_data.loc[all_data['train_test'] == 'train', 'target']\n",
    "test_x = all_data.loc[all_data['train_test'] == 'test', columns]\n",
    "\n",
    "# 랜덤 포레스트 모델 생성 및 훈련\n",
    "model = RandomForestRegressor()\n",
    "model.fit(train_x, train_y)\n",
    "\n",
    "# 예측\n",
    "pred_ls = list()\n",
    "now_df = all_data.loc[all_data['train_test'] == 'train']\n",
    "test = all_data.loc[all_data['train_test'] == 'test']\n",
    "\n",
    "for idx, row in tqdm(test.iterrows(), total = test.shape[0]):\n",
    "    now_df = pd.concat([now_df, test.loc[[idx]]])\n",
    "    test_x.loc[idx, 'recent_price'] = get_recent_price(idx, now_df)\n",
    "    \n",
    "    pred = model.predict(test_x.loc[idx:idx])\n",
    "    \n",
    "    now_df.loc[idx, 'target'] = pred\n",
    "    pred_ls.append(pred[0])"
   ]
  },
  {
   "cell_type": "markdown",
   "metadata": {},
   "source": [
    "### 16. 정답 제출 파일 생성"
   ]
  },
  {
   "cell_type": "code",
   "execution_count": 30,
   "metadata": {},
   "outputs": [],
   "source": [
    "submission['target'] = pred_ls\n",
    "submission.to_csv('../data/0124_RFmodel.csv', index=False)"
   ]
  }
 ],
 "metadata": {
  "kernelspec": {
   "display_name": "base",
   "language": "python",
   "name": "python3"
  },
  "language_info": {
   "codemirror_mode": {
    "name": "ipython",
    "version": 3
   },
   "file_extension": ".py",
   "mimetype": "text/x-python",
   "name": "python",
   "nbconvert_exporter": "python",
   "pygments_lexer": "ipython3",
   "version": "3.10.13"
  }
 },
 "nbformat": 4,
 "nbformat_minor": 2
}
