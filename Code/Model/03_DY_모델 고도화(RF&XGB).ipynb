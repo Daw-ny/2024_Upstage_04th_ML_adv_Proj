{
 "cells": [
  {
   "cell_type": "markdown",
   "metadata": {},
   "source": [
    "## Stage 6. 모델 고도화"
   ]
  },
  {
   "cell_type": "markdown",
   "metadata": {},
   "source": [
    "### Import Library"
   ]
  },
  {
   "cell_type": "code",
   "execution_count": 1,
   "metadata": {},
   "outputs": [],
   "source": [
    "# Visualization\n",
    "import matplotlib.pyplot as plt\n",
    "import matplotlib.font_manager as fm\n",
    "fe = fm.FontEntry(\n",
    "    fname=r'/usr/share/fonts/truetype/nanum/NanumGothic.ttf', \n",
    "    name='NanumBarunGothic')                      \n",
    "fm.fontManager.ttflist.insert(0, fe)            \n",
    "plt.rcParams.update({'font.size': 10, 'font.family': 'NanumBarunGothic'}) \n",
    "plt.rc('font', family='NanumBarunGothic')\n",
    "import seaborn as sns\n",
    "\n",
    "# Utils\n",
    "import pandas as pd\n",
    "import numpy as np\n",
    "from tqdm import tqdm\n",
    "import pickle\n",
    "import warnings;warnings.filterwarnings('ignore')\n",
    "\n",
    "# Model\n",
    "from sklearn.preprocessing import LabelEncoder\n",
    "from sklearn.model_selection import train_test_split\n",
    "from sklearn.metrics import mean_squared_error\n",
    "from sklearn.ensemble import RandomForestRegressor\n",
    "from sklearn import metrics\n",
    "\n",
    "import eli5\n",
    "from eli5.sklearn import PermutationImportance"
   ]
  },
  {
   "cell_type": "markdown",
   "metadata": {},
   "source": [
    "### 1. 데이터 분석 전 준비"
   ]
  },
  {
   "cell_type": "code",
   "execution_count": 2,
   "metadata": {},
   "outputs": [],
   "source": [
    "pd.options.mode.chained_assignment = None\n",
    "\n",
    "submission = pd.read_csv('../data/sample_submission.csv')\n",
    "all_data = pd.read_csv('../data/all_data.csv')"
   ]
  },
  {
   "cell_type": "code",
   "execution_count": 3,
   "metadata": {},
   "outputs": [
    {
     "data": {
      "text/plain": [
       "Index(['시군구', '번지', '본번', '부번', '아파트명', '전용면적(㎡)', '계약년월', '계약일', '층', '건축년도',\n",
       "       '도로명', '해제사유발생일', '등기신청일자', '거래유형', '중개사소재지', 'k-단지분류(아파트,주상복합등등)',\n",
       "       'k-전화번호', 'k-팩스번호', '단지소개기존clob', 'k-세대타입(분양형태)', 'k-관리방식', 'k-복도유형',\n",
       "       'k-난방방식', 'k-전체동수', 'k-전체세대수', 'k-건설사(시공사)', 'k-시행사', 'k-사용검사일-사용승인일',\n",
       "       'k-연면적', 'k-주거전용면적', 'k-관리비부과면적', 'k-전용면적별세대현황(60㎡이하)',\n",
       "       'k-전용면적별세대현황(60㎡~85㎡이하)', 'k-85㎡~135㎡이하', 'k-135㎡초과', 'k-홈페이지',\n",
       "       'k-등록일자', 'k-수정일자', '고용보험관리번호', '경비비관리형태', '세대전기계약방법', '청소비관리형태',\n",
       "       '건축면적', '주차대수', '기타/의무/임대/임의=1/2/3/4', '단지승인일', '사용허가여부', '관리비 업로드',\n",
       "       '좌표X', '좌표Y', '단지신청일', 'target', 'train_test'],\n",
       "      dtype='object')"
      ]
     },
     "execution_count": 3,
     "metadata": {},
     "output_type": "execute_result"
    }
   ],
   "source": [
    "all_data.columns"
   ]
  },
  {
   "cell_type": "markdown",
   "metadata": {},
   "source": [
    "### 2. RandomForest Model"
   ]
  },
  {
   "cell_type": "code",
   "execution_count": 32,
   "metadata": {},
   "outputs": [
    {
     "name": "stderr",
     "output_type": "stream",
     "text": [
      "[I 2024-01-17 13:26:56,161] A new study created in memory with name: no-name-b112ec2f-8173-4bb5-9408-f73d000ab2ae\n",
      "[I 2024-01-17 13:28:55,246] Trial 0 finished with value: 881923158.0347974 and parameters: {'n_estimators': 89, 'max_depth': 15}. Best is trial 0 with value: 881923158.0347974.\n",
      "[I 2024-01-17 13:30:41,672] Trial 1 finished with value: 862574700.3532003 and parameters: {'n_estimators': 86, 'max_depth': 13}. Best is trial 1 with value: 862574700.3532003.\n",
      "[I 2024-01-17 13:31:04,241] Trial 2 finished with value: 1143350950.6095297 and parameters: {'n_estimators': 42, 'max_depth': 4}. Best is trial 1 with value: 862574700.3532003.\n",
      "[I 2024-01-17 13:33:24,070] Trial 3 finished with value: 895290657.9461818 and parameters: {'n_estimators': 81, 'max_depth': 24}. Best is trial 1 with value: 862574700.3532003.\n",
      "[I 2024-01-17 13:34:23,573] Trial 4 finished with value: 905661116.5577742 and parameters: {'n_estimators': 33, 'max_depth': 27}. Best is trial 1 with value: 862574700.3532003.\n",
      "[I 2024-01-17 13:34:41,424] Trial 5 finished with value: 927749908.7364115 and parameters: {'n_estimators': 10, 'max_depth': 27}. Best is trial 1 with value: 862574700.3532003.\n",
      "[I 2024-01-17 13:35:16,211] Trial 6 finished with value: 926553317.8166445 and parameters: {'n_estimators': 20, 'max_depth': 25}. Best is trial 1 with value: 862574700.3532003.\n",
      "[I 2024-01-17 13:37:45,334] Trial 7 finished with value: 890703317.9729364 and parameters: {'n_estimators': 83, 'max_depth': 28}. Best is trial 1 with value: 862574700.3532003.\n",
      "[I 2024-01-17 13:40:10,686] Trial 8 finished with value: 886347470.4230666 and parameters: {'n_estimators': 90, 'max_depth': 21}. Best is trial 1 with value: 862574700.3532003.\n",
      "[I 2024-01-17 13:40:42,923] Trial 9 finished with value: 906849792.6578547 and parameters: {'n_estimators': 25, 'max_depth': 14}. Best is trial 1 with value: 862574700.3532003.\n",
      "[I 2024-01-17 13:41:35,951] Trial 10 finished with value: 838433530.4171361 and parameters: {'n_estimators': 63, 'max_depth': 7}. Best is trial 10 with value: 838433530.4171361.\n",
      "[I 2024-01-17 13:42:34,053] Trial 11 finished with value: 832656752.738483 and parameters: {'n_estimators': 63, 'max_depth': 8}. Best is trial 11 with value: 832656752.738483.\n",
      "[I 2024-01-17 13:43:07,926] Trial 12 finished with value: 1142491767.7115788 and parameters: {'n_estimators': 64, 'max_depth': 4}. Best is trial 11 with value: 832656752.738483.\n",
      "[I 2024-01-17 13:44:08,529] Trial 13 finished with value: 838917102.44254 and parameters: {'n_estimators': 61, 'max_depth': 9}. Best is trial 11 with value: 832656752.738483.\n",
      "[I 2024-01-17 13:44:55,909] Trial 14 finished with value: 846032844.8043933 and parameters: {'n_estimators': 48, 'max_depth': 9}. Best is trial 11 with value: 832656752.738483.\n",
      "[I 2024-01-17 13:46:05,266] Trial 15 finished with value: 838067118.4097197 and parameters: {'n_estimators': 70, 'max_depth': 9}. Best is trial 11 with value: 832656752.738483.\n",
      "[I 2024-01-17 13:48:17,295] Trial 16 finished with value: 900387994.3102055 and parameters: {'n_estimators': 72, 'max_depth': 32}. Best is trial 11 with value: 832656752.738483.\n",
      "[I 2024-01-17 13:49:33,510] Trial 17 finished with value: 892138490.1112611 and parameters: {'n_estimators': 51, 'max_depth': 18}. Best is trial 11 with value: 832656752.738483.\n",
      "[I 2024-01-17 13:49:53,306] Trial 18 finished with value: 2652753537.4468284 and parameters: {'n_estimators': 72, 'max_depth': 2}. Best is trial 11 with value: 832656752.738483.\n",
      "[I 2024-01-17 13:51:15,132] Trial 19 finished with value: 859917382.3636465 and parameters: {'n_estimators': 73, 'max_depth': 11}. Best is trial 11 with value: 832656752.738483.\n",
      "[I 2024-01-17 13:52:17,790] Trial 20 finished with value: 901901239.5611259 and parameters: {'n_estimators': 42, 'max_depth': 18}. Best is trial 11 with value: 832656752.738483.\n",
      "[I 2024-01-17 13:53:39,934] Trial 21 finished with value: 836114654.7695143 and parameters: {'n_estimators': 98, 'max_depth': 7}. Best is trial 11 with value: 832656752.738483.\n",
      "[I 2024-01-17 13:54:59,913] Trial 22 finished with value: 837022982.8230716 and parameters: {'n_estimators': 95, 'max_depth': 7}. Best is trial 11 with value: 832656752.738483.\n",
      "[I 2024-01-17 13:56:13,499] Trial 23 finished with value: 874448538.7652928 and parameters: {'n_estimators': 98, 'max_depth': 6}. Best is trial 11 with value: 832656752.738483.\n",
      "[I 2024-01-17 13:57:28,616] Trial 24 finished with value: 874363659.4662691 and parameters: {'n_estimators': 100, 'max_depth': 6}. Best is trial 11 with value: 832656752.738483.\n",
      "[I 2024-01-17 13:57:54,995] Trial 25 finished with value: 2650759394.4565377 and parameters: {'n_estimators': 95, 'max_depth': 2}. Best is trial 11 with value: 832656752.738483.\n",
      "[I 2024-01-17 13:59:29,324] Trial 26 finished with value: 866343249.9817419 and parameters: {'n_estimators': 80, 'max_depth': 12}. Best is trial 11 with value: 832656752.738483.\n",
      "[I 2024-01-17 14:01:39,612] Trial 27 finished with value: 882143200.9158441 and parameters: {'n_estimators': 93, 'max_depth': 16}. Best is trial 11 with value: 832656752.738483.\n",
      "[I 2024-01-17 14:03:05,872] Trial 28 finished with value: 861776814.393192 and parameters: {'n_estimators': 77, 'max_depth': 11}. Best is trial 11 with value: 832656752.738483.\n",
      "[I 2024-01-17 14:04:19,984] Trial 29 finished with value: 837915663.3653731 and parameters: {'n_estimators': 88, 'max_depth': 7}. Best is trial 11 with value: 832656752.738483.\n",
      "[I 2024-01-17 14:05:08,653] Trial 30 finished with value: 1139027851.5700948 and parameters: {'n_estimators': 92, 'max_depth': 4}. Best is trial 11 with value: 832656752.738483.\n",
      "[I 2024-01-17 14:06:28,709] Trial 31 finished with value: 833258241.6229606 and parameters: {'n_estimators': 87, 'max_depth': 8}. Best is trial 11 with value: 832656752.738483.\n",
      "[I 2024-01-17 14:08:07,226] Trial 32 finished with value: 833482937.1629287 and parameters: {'n_estimators': 100, 'max_depth': 9}. Best is trial 11 with value: 832656752.738483.\n",
      "[I 2024-01-17 14:09:38,934] Trial 33 finished with value: 839102433.1623496 and parameters: {'n_estimators': 87, 'max_depth': 10}. Best is trial 11 with value: 832656752.738483.\n",
      "[I 2024-01-17 14:11:44,161] Trial 34 finished with value: 859991321.6103697 and parameters: {'n_estimators': 98, 'max_depth': 14}. Best is trial 11 with value: 832656752.738483.\n",
      "[I 2024-01-17 14:13:27,747] Trial 35 finished with value: 865516599.72973 and parameters: {'n_estimators': 84, 'max_depth': 13}. Best is trial 11 with value: 832656752.738483.\n",
      "[I 2024-01-17 14:14:20,209] Trial 36 finished with value: 1137618638.6305633 and parameters: {'n_estimators': 100, 'max_depth': 4}. Best is trial 11 with value: 832656752.738483.\n",
      "[I 2024-01-17 14:15:12,069] Trial 37 finished with value: 831446211.3545483 and parameters: {'n_estimators': 57, 'max_depth': 8}. Best is trial 37 with value: 831446211.3545483.\n",
      "[I 2024-01-17 14:16:07,262] Trial 38 finished with value: 839536556.2137394 and parameters: {'n_estimators': 56, 'max_depth': 9}. Best is trial 37 with value: 831446211.3545483.\n",
      "[I 2024-01-17 14:17:10,062] Trial 39 finished with value: 902058622.047495 and parameters: {'n_estimators': 40, 'max_depth': 20}. Best is trial 37 with value: 831446211.3545483.\n",
      "[I 2024-01-17 14:17:46,411] Trial 40 finished with value: 939368978.8671738 and parameters: {'n_estimators': 57, 'max_depth': 5}. Best is trial 37 with value: 831446211.3545483.\n",
      "[I 2024-01-17 14:18:47,991] Trial 41 finished with value: 830394158.5648193 and parameters: {'n_estimators': 67, 'max_depth': 8}. Best is trial 41 with value: 830394158.5648193.\n",
      "[I 2024-01-17 14:20:01,716] Trial 42 finished with value: 861858431.4330285 and parameters: {'n_estimators': 66, 'max_depth': 11}. Best is trial 41 with value: 830394158.5648193.\n",
      "[I 2024-01-17 14:20:49,807] Trial 43 finished with value: 834173245.0122555 and parameters: {'n_estimators': 53, 'max_depth': 8}. Best is trial 41 with value: 830394158.5648193.\n",
      "[I 2024-01-17 14:22:03,633] Trial 44 finished with value: 866459029.7905935 and parameters: {'n_estimators': 60, 'max_depth': 13}. Best is trial 41 with value: 830394158.5648193.\n",
      "[I 2024-01-17 14:23:06,205] Trial 45 finished with value: 888751944.1796796 and parameters: {'n_estimators': 47, 'max_depth': 15}. Best is trial 41 with value: 830394158.5648193.\n",
      "[I 2024-01-17 14:23:49,342] Trial 46 finished with value: 934081660.9445449 and parameters: {'n_estimators': 67, 'max_depth': 5}. Best is trial 41 with value: 830394158.5648193.\n",
      "[I 2024-01-17 14:25:10,935] Trial 47 finished with value: 841635343.9005522 and parameters: {'n_estimators': 77, 'max_depth': 10}. Best is trial 41 with value: 830394158.5648193.\n",
      "[I 2024-01-17 14:26:04,630] Trial 48 finished with value: 830311418.9221926 and parameters: {'n_estimators': 58, 'max_depth': 8}. Best is trial 48 with value: 830311418.9221926.\n",
      "[I 2024-01-17 14:26:58,266] Trial 49 finished with value: 829858254.9500692 and parameters: {'n_estimators': 59, 'max_depth': 8}. Best is trial 49 with value: 829858254.9500692.\n"
     ]
    },
    {
     "name": "stdout",
     "output_type": "stream",
     "text": [
      "Best Params: {'n_estimators': 59, 'max_depth': 8}\n"
     ]
    }
   ],
   "source": [
    "from sklearn.ensemble import RandomForestRegressor\n",
    "from sklearn.metrics import mean_squared_error\n",
    "import optuna\n",
    "\n",
    "validation_year = 2022\n",
    "\n",
    "columns = [\n",
    "    'recent_price', 'transaction_cnt', 'dt_interest_rate', 'transaction_year', 'transaction_month', 'cluster'\n",
    "]\n",
    "\n",
    "train_x = all_data.loc[(all_data['train_test'] == 'train') & (all_data['transaction_year'] < validation_year), columns]\n",
    "train_y = all_data.loc[(all_data['train_test'] == 'train') & (all_data['transaction_year'] < validation_year), 'target']\n",
    "\n",
    "val_x = all_data.loc[(all_data['train_test'] == 'train') & (all_data['transaction_year'] == validation_year), columns]\n",
    "val_y = all_data.loc[(all_data['train_test'] == 'train') & (all_data['transaction_year'] == validation_year), 'target']\n",
    "\n",
    "def objective(trial):\n",
    "    # 하이퍼파라미터 탐색 대상\n",
    "    n_estimators = trial.suggest_int('n_estimators', 10, 100)\n",
    "    max_depth = trial.suggest_int('max_depth', 2, 32)\n",
    "\n",
    "    # RandomForestRegressor 모델 학습\n",
    "    model = RandomForestRegressor(n_estimators=n_estimators, max_depth=max_depth, random_state=7)\n",
    "    model.fit(train_x, train_y)\n",
    "\n",
    "    # 검증 데이터로 평가\n",
    "    y_pred = model.predict(val_x)\n",
    "    mse = mean_squared_error(val_y, y_pred)\n",
    "    return mse\n",
    "\n",
    "# Optuna를 사용하여 하이퍼파라미터 탐색\n",
    "study = optuna.create_study(direction='minimize')\n",
    "study.optimize(objective, n_trials=50)\n",
    "\n",
    "best_params_rf = study.best_params\n",
    "print(\"Best Params:\", best_params_rf)"
   ]
  },
  {
   "cell_type": "code",
   "execution_count": 44,
   "metadata": {},
   "outputs": [
    {
     "name": "stdout",
     "output_type": "stream",
     "text": [
      "2018 년도 MAE:  6489.6347232219205\n",
      "2019 년도 MAE:  7236.038529171427\n",
      "2020 년도 MAE:  7111.432044377888\n",
      "2021 년도 MAE:  10079.930731122875\n",
      "2022 년도 MAE:  12967.535997085104\n",
      "2023 년도 MAE:  12114.45537953079\n"
     ]
    }
   ],
   "source": [
    "from sklearn.metrics import mean_absolute_error\n",
    "\n",
    "for validation_year in [2018, 2019, 2020, 2021, 2022, 2023]:\n",
    "    columns = [\n",
    "        'recent_price', 'transaction_cnt', 'dt_interest_rate', 'transaction_year', 'transaction_month', 'cluster', \n",
    "    ]\n",
    "    train_x = all_data.loc[(all_data['train_test'] == 'train') & (all_data['transaction_year'] < validation_year), columns]\n",
    "    train_y = all_data.loc[(all_data['train_test'] == 'train') & (all_data['transaction_year'] < validation_year), 'target']\n",
    "    \n",
    "    val_x = all_data.loc[(all_data['train_test'] == 'train') & (all_data['transaction_year'] == validation_year), columns]\n",
    "    val_y = all_data.loc[(all_data['train_test'] == 'train') & (all_data['transaction_year'] == validation_year), 'target']\n",
    "    \n",
    "    # 모델 생성 및 훈련\n",
    "    model_rf = RandomForestRegressor(n_estimators=best_params_rf['n_estimators'],\n",
    "                                     max_depth=best_params_rf['max_depth'],\n",
    "                                     random_state=7\n",
    "                                     )\n",
    "    model_rf.fit(train_x, train_y)\n",
    "\n",
    "    # 예측\n",
    "    pred_rf_ls = model_rf.predict(val_x)\n",
    "\n",
    "    mae = mean_absolute_error(pred_rf_ls, val_y)\n",
    "    print(validation_year,'년도 MAE: ' , mae)"
   ]
  },
  {
   "cell_type": "code",
   "execution_count": 46,
   "metadata": {},
   "outputs": [
    {
     "name": "stderr",
     "output_type": "stream",
     "text": [
      "100%|██████████| 9272/9272 [2:58:36<00:00,  1.16s/it]  \n"
     ]
    }
   ],
   "source": [
    "# 테스트 데이터 예측\n",
    "\n",
    "from sklearn.ensemble import RandomForestRegressor\n",
    "\n",
    "columns = [\n",
    "    'recent_price', 'transaction_cnt', 'dt_interest_rate', 'transaction_year', 'transaction_month', 'cluster', \n",
    "]\n",
    "train_x = all_data.loc[all_data['train_test'] == 'train', columns]\n",
    "train_y = all_data.loc[all_data['train_test'] == 'train', 'target']\n",
    "test_x = all_data.loc[all_data['train_test'] == 'test', columns]\n",
    "\n",
    "# 모델 생성 및 훈련\n",
    "model_rf = RandomForestRegressor(n_estimators=best_params_rf['n_estimators'],\n",
    "                                 max_depth=best_params_rf['max_depth'],\n",
    "                                 random_state=7\n",
    "                                 )\n",
    "model_rf.fit(train_x, train_y)\n",
    "\n",
    "# 예측\n",
    "pred_ls = list()\n",
    "now_df = all_data.loc[all_data['train_test'] == 'train']\n",
    "test = all_data.loc[all_data['train_test'] == 'test']\n",
    "\n",
    "for idx, row in tqdm(test.iterrows(), total = test.shape[0]):\n",
    "    now_df = pd.concat([now_df, test.loc[[idx]]])\n",
    "    test_x.loc[idx, 'recent_price'] = get_recent_price(idx, now_df)\n",
    "    \n",
    "    # 예측\n",
    "    pred_rf_ls = model_rf.predict(test_x.loc[idx:idx])\n",
    "\n",
    "    now_df.loc[idx, 'target'] = pred_rf_ls\n",
    "    pred_ls.append(pred_rf_ls[0])"
   ]
  },
  {
   "cell_type": "markdown",
   "metadata": {},
   "source": [
    "### 3. XGBoost Model"
   ]
  },
  {
   "cell_type": "code",
   "execution_count": 53,
   "metadata": {},
   "outputs": [
    {
     "name": "stderr",
     "output_type": "stream",
     "text": [
      "[I 2024-01-17 18:20:38,016] A new study created in memory with name: no-name-3f96531a-ce2c-46bf-b463-3eb08fbf4e7c\n",
      "/tmp/ipykernel_158431/3317692518.py:7: FutureWarning: suggest_loguniform has been deprecated in v3.0.0. This feature will be removed in v6.0.0. See https://github.com/optuna/optuna/releases/tag/v3.0.0. Use suggest_float(..., log=True) instead.\n",
      "  learning_rate = trial.suggest_loguniform('learning_rate', 0.001, 0.1)\n",
      "[I 2024-01-17 18:20:40,034] Trial 0 finished with value: 413140532.91341776 and parameters: {'n_estimators': 84, 'max_depth': 12, 'learning_rate': 0.030583854125054447}. Best is trial 0 with value: 413140532.91341776.\n",
      "/tmp/ipykernel_158431/3317692518.py:7: FutureWarning: suggest_loguniform has been deprecated in v3.0.0. This feature will be removed in v6.0.0. See https://github.com/optuna/optuna/releases/tag/v3.0.0. Use suggest_float(..., log=True) instead.\n",
      "  learning_rate = trial.suggest_loguniform('learning_rate', 0.001, 0.1)\n",
      "[I 2024-01-17 18:20:42,220] Trial 1 finished with value: 358325104.44659686 and parameters: {'n_estimators': 49, 'max_depth': 15, 'learning_rate': 0.05180585251080496}. Best is trial 1 with value: 358325104.44659686.\n",
      "/tmp/ipykernel_158431/3317692518.py:7: FutureWarning: suggest_loguniform has been deprecated in v3.0.0. This feature will be removed in v6.0.0. See https://github.com/optuna/optuna/releases/tag/v3.0.0. Use suggest_float(..., log=True) instead.\n",
      "  learning_rate = trial.suggest_loguniform('learning_rate', 0.001, 0.1)\n",
      "[I 2024-01-17 18:20:46,172] Trial 2 finished with value: 2117821946.5379415 and parameters: {'n_estimators': 18, 'max_depth': 31, 'learning_rate': 0.03857282466940319}. Best is trial 1 with value: 358325104.44659686.\n",
      "/tmp/ipykernel_158431/3317692518.py:7: FutureWarning: suggest_loguniform has been deprecated in v3.0.0. This feature will be removed in v6.0.0. See https://github.com/optuna/optuna/releases/tag/v3.0.0. Use suggest_float(..., log=True) instead.\n",
      "  learning_rate = trial.suggest_loguniform('learning_rate', 0.001, 0.1)\n",
      "[I 2024-01-17 18:20:51,639] Trial 3 finished with value: 374500606.32021827 and parameters: {'n_estimators': 98, 'max_depth': 16, 'learning_rate': 0.024346466515282435}. Best is trial 1 with value: 358325104.44659686.\n",
      "/tmp/ipykernel_158431/3317692518.py:7: FutureWarning: suggest_loguniform has been deprecated in v3.0.0. This feature will be removed in v6.0.0. See https://github.com/optuna/optuna/releases/tag/v3.0.0. Use suggest_float(..., log=True) instead.\n",
      "  learning_rate = trial.suggest_loguniform('learning_rate', 0.001, 0.1)\n",
      "[I 2024-01-17 18:20:54,083] Trial 4 finished with value: 2447981975.172256 and parameters: {'n_estimators': 37, 'max_depth': 18, 'learning_rate': 0.01663134423734987}. Best is trial 1 with value: 358325104.44659686.\n",
      "/tmp/ipykernel_158431/3317692518.py:7: FutureWarning: suggest_loguniform has been deprecated in v3.0.0. This feature will be removed in v6.0.0. See https://github.com/optuna/optuna/releases/tag/v3.0.0. Use suggest_float(..., log=True) instead.\n",
      "  learning_rate = trial.suggest_loguniform('learning_rate', 0.001, 0.1)\n",
      "[I 2024-01-17 18:20:57,352] Trial 5 finished with value: 6791012007.922473 and parameters: {'n_estimators': 18, 'max_depth': 32, 'learning_rate': 0.0026810298029988503}. Best is trial 1 with value: 358325104.44659686.\n",
      "/tmp/ipykernel_158431/3317692518.py:7: FutureWarning: suggest_loguniform has been deprecated in v3.0.0. This feature will be removed in v6.0.0. See https://github.com/optuna/optuna/releases/tag/v3.0.0. Use suggest_float(..., log=True) instead.\n",
      "  learning_rate = trial.suggest_loguniform('learning_rate', 0.001, 0.1)\n",
      "[I 2024-01-17 18:21:10,318] Trial 6 finished with value: 447898150.05122757 and parameters: {'n_estimators': 97, 'max_depth': 20, 'learning_rate': 0.020630194224313416}. Best is trial 1 with value: 358325104.44659686.\n",
      "/tmp/ipykernel_158431/3317692518.py:7: FutureWarning: suggest_loguniform has been deprecated in v3.0.0. This feature will be removed in v6.0.0. See https://github.com/optuna/optuna/releases/tag/v3.0.0. Use suggest_float(..., log=True) instead.\n",
      "  learning_rate = trial.suggest_loguniform('learning_rate', 0.001, 0.1)\n",
      "[I 2024-01-17 18:21:10,613] Trial 7 finished with value: 5790636447.284582 and parameters: {'n_estimators': 15, 'max_depth': 8, 'learning_rate': 0.00893474900717916}. Best is trial 1 with value: 358325104.44659686.\n",
      "/tmp/ipykernel_158431/3317692518.py:7: FutureWarning: suggest_loguniform has been deprecated in v3.0.0. This feature will be removed in v6.0.0. See https://github.com/optuna/optuna/releases/tag/v3.0.0. Use suggest_float(..., log=True) instead.\n",
      "  learning_rate = trial.suggest_loguniform('learning_rate', 0.001, 0.1)\n",
      "[I 2024-01-17 18:21:15,687] Trial 8 finished with value: 655287305.2126812 and parameters: {'n_estimators': 35, 'max_depth': 21, 'learning_rate': 0.04428807330467891}. Best is trial 1 with value: 358325104.44659686.\n",
      "/tmp/ipykernel_158431/3317692518.py:7: FutureWarning: suggest_loguniform has been deprecated in v3.0.0. This feature will be removed in v6.0.0. See https://github.com/optuna/optuna/releases/tag/v3.0.0. Use suggest_float(..., log=True) instead.\n",
      "  learning_rate = trial.suggest_loguniform('learning_rate', 0.001, 0.1)\n",
      "[I 2024-01-17 18:21:18,557] Trial 9 finished with value: 7053023396.024095 and parameters: {'n_estimators': 23, 'max_depth': 23, 'learning_rate': 0.001230749372698619}. Best is trial 1 with value: 358325104.44659686.\n",
      "/tmp/ipykernel_158431/3317692518.py:7: FutureWarning: suggest_loguniform has been deprecated in v3.0.0. This feature will be removed in v6.0.0. See https://github.com/optuna/optuna/releases/tag/v3.0.0. Use suggest_float(..., log=True) instead.\n",
      "  learning_rate = trial.suggest_loguniform('learning_rate', 0.001, 0.1)\n",
      "[I 2024-01-17 18:21:18,928] Trial 10 finished with value: 585404491.3347615 and parameters: {'n_estimators': 65, 'max_depth': 2, 'learning_rate': 0.07977274257039382}. Best is trial 1 with value: 358325104.44659686.\n",
      "/tmp/ipykernel_158431/3317692518.py:7: FutureWarning: suggest_loguniform has been deprecated in v3.0.0. This feature will be removed in v6.0.0. See https://github.com/optuna/optuna/releases/tag/v3.0.0. Use suggest_float(..., log=True) instead.\n",
      "  learning_rate = trial.suggest_loguniform('learning_rate', 0.001, 0.1)\n",
      "[I 2024-01-17 18:21:20,508] Trial 11 finished with value: 3106243344.764163 and parameters: {'n_estimators': 59, 'max_depth': 13, 'learning_rate': 0.00812312860215397}. Best is trial 1 with value: 358325104.44659686.\n",
      "/tmp/ipykernel_158431/3317692518.py:7: FutureWarning: suggest_loguniform has been deprecated in v3.0.0. This feature will be removed in v6.0.0. See https://github.com/optuna/optuna/releases/tag/v3.0.0. Use suggest_float(..., log=True) instead.\n",
      "  learning_rate = trial.suggest_loguniform('learning_rate', 0.001, 0.1)\n",
      "[I 2024-01-17 18:21:55,285] Trial 12 finished with value: 195639067.85497764 and parameters: {'n_estimators': 72, 'max_depth': 26, 'learning_rate': 0.09571481287501049}. Best is trial 12 with value: 195639067.85497764.\n",
      "/tmp/ipykernel_158431/3317692518.py:7: FutureWarning: suggest_loguniform has been deprecated in v3.0.0. This feature will be removed in v6.0.0. See https://github.com/optuna/optuna/releases/tag/v3.0.0. Use suggest_float(..., log=True) instead.\n",
      "  learning_rate = trial.suggest_loguniform('learning_rate', 0.001, 0.1)\n",
      "[I 2024-01-17 18:22:31,185] Trial 13 finished with value: 195446575.81641123 and parameters: {'n_estimators': 74, 'max_depth': 26, 'learning_rate': 0.09647942321324543}. Best is trial 13 with value: 195446575.81641123.\n",
      "/tmp/ipykernel_158431/3317692518.py:7: FutureWarning: suggest_loguniform has been deprecated in v3.0.0. This feature will be removed in v6.0.0. See https://github.com/optuna/optuna/releases/tag/v3.0.0. Use suggest_float(..., log=True) instead.\n",
      "  learning_rate = trial.suggest_loguniform('learning_rate', 0.001, 0.1)\n",
      "[I 2024-01-17 18:23:12,711] Trial 14 finished with value: 195140370.17575532 and parameters: {'n_estimators': 76, 'max_depth': 27, 'learning_rate': 0.09997955310497757}. Best is trial 14 with value: 195140370.17575532.\n",
      "/tmp/ipykernel_158431/3317692518.py:7: FutureWarning: suggest_loguniform has been deprecated in v3.0.0. This feature will be removed in v6.0.0. See https://github.com/optuna/optuna/releases/tag/v3.0.0. Use suggest_float(..., log=True) instead.\n",
      "  learning_rate = trial.suggest_loguniform('learning_rate', 0.001, 0.1)\n",
      "[I 2024-01-17 18:23:26,308] Trial 15 finished with value: 4240679935.813661 and parameters: {'n_estimators': 78, 'max_depth': 27, 'learning_rate': 0.003888049204940209}. Best is trial 14 with value: 195140370.17575532.\n",
      "/tmp/ipykernel_158431/3317692518.py:7: FutureWarning: suggest_loguniform has been deprecated in v3.0.0. This feature will be removed in v6.0.0. See https://github.com/optuna/optuna/releases/tag/v3.0.0. Use suggest_float(..., log=True) instead.\n",
      "  learning_rate = trial.suggest_loguniform('learning_rate', 0.001, 0.1)\n",
      "[I 2024-01-17 18:24:20,046] Trial 16 finished with value: 194866637.76545393 and parameters: {'n_estimators': 88, 'max_depth': 28, 'learning_rate': 0.09798003396471158}. Best is trial 16 with value: 194866637.76545393.\n",
      "/tmp/ipykernel_158431/3317692518.py:7: FutureWarning: suggest_loguniform has been deprecated in v3.0.0. This feature will be removed in v6.0.0. See https://github.com/optuna/optuna/releases/tag/v3.0.0. Use suggest_float(..., log=True) instead.\n",
      "  learning_rate = trial.suggest_loguniform('learning_rate', 0.001, 0.1)\n",
      "[I 2024-01-17 18:25:09,693] Trial 17 finished with value: 201407817.53084692 and parameters: {'n_estimators': 87, 'max_depth': 29, 'learning_rate': 0.05638677496971337}. Best is trial 16 with value: 194866637.76545393.\n",
      "/tmp/ipykernel_158431/3317692518.py:7: FutureWarning: suggest_loguniform has been deprecated in v3.0.0. This feature will be removed in v6.0.0. See https://github.com/optuna/optuna/releases/tag/v3.0.0. Use suggest_float(..., log=True) instead.\n",
      "  learning_rate = trial.suggest_loguniform('learning_rate', 0.001, 0.1)\n",
      "[I 2024-01-17 18:25:24,633] Trial 18 finished with value: 1086836235.882754 and parameters: {'n_estimators': 90, 'max_depth': 23, 'learning_rate': 0.012772071754713296}. Best is trial 16 with value: 194866637.76545393.\n",
      "/tmp/ipykernel_158431/3317692518.py:7: FutureWarning: suggest_loguniform has been deprecated in v3.0.0. This feature will be removed in v6.0.0. See https://github.com/optuna/optuna/releases/tag/v3.0.0. Use suggest_float(..., log=True) instead.\n",
      "  learning_rate = trial.suggest_loguniform('learning_rate', 0.001, 0.1)\n",
      "[I 2024-01-17 18:25:34,530] Trial 19 finished with value: 4035853400.318975 and parameters: {'n_estimators': 55, 'max_depth': 29, 'learning_rate': 0.006008352693429809}. Best is trial 16 with value: 194866637.76545393.\n",
      "/tmp/ipykernel_158431/3317692518.py:7: FutureWarning: suggest_loguniform has been deprecated in v3.0.0. This feature will be removed in v6.0.0. See https://github.com/optuna/optuna/releases/tag/v3.0.0. Use suggest_float(..., log=True) instead.\n",
      "  learning_rate = trial.suggest_loguniform('learning_rate', 0.001, 0.1)\n",
      "[I 2024-01-17 18:25:56,768] Trial 20 finished with value: 217256249.95086735 and parameters: {'n_estimators': 67, 'max_depth': 24, 'learning_rate': 0.058530668862423925}. Best is trial 16 with value: 194866637.76545393.\n",
      "/tmp/ipykernel_158431/3317692518.py:7: FutureWarning: suggest_loguniform has been deprecated in v3.0.0. This feature will be removed in v6.0.0. See https://github.com/optuna/optuna/releases/tag/v3.0.0. Use suggest_float(..., log=True) instead.\n",
      "  learning_rate = trial.suggest_loguniform('learning_rate', 0.001, 0.1)\n",
      "[I 2024-01-17 18:26:38,086] Trial 21 finished with value: 195345197.3149508 and parameters: {'n_estimators': 77, 'max_depth': 27, 'learning_rate': 0.09321344565802069}. Best is trial 16 with value: 194866637.76545393.\n",
      "/tmp/ipykernel_158431/3317692518.py:7: FutureWarning: suggest_loguniform has been deprecated in v3.0.0. This feature will be removed in v6.0.0. See https://github.com/optuna/optuna/releases/tag/v3.0.0. Use suggest_float(..., log=True) instead.\n",
      "  learning_rate = trial.suggest_loguniform('learning_rate', 0.001, 0.1)\n",
      "[I 2024-01-17 18:27:25,603] Trial 22 finished with value: 198361508.9778283 and parameters: {'n_estimators': 80, 'max_depth': 29, 'learning_rate': 0.06826819289424967}. Best is trial 16 with value: 194866637.76545393.\n",
      "/tmp/ipykernel_158431/3317692518.py:7: FutureWarning: suggest_loguniform has been deprecated in v3.0.0. This feature will be removed in v6.0.0. See https://github.com/optuna/optuna/releases/tag/v3.0.0. Use suggest_float(..., log=True) instead.\n",
      "  learning_rate = trial.suggest_loguniform('learning_rate', 0.001, 0.1)\n",
      "[I 2024-01-17 18:27:56,440] Trial 23 finished with value: 240404303.23062664 and parameters: {'n_estimators': 89, 'max_depth': 25, 'learning_rate': 0.03702962216619882}. Best is trial 16 with value: 194866637.76545393.\n",
      "/tmp/ipykernel_158431/3317692518.py:7: FutureWarning: suggest_loguniform has been deprecated in v3.0.0. This feature will be removed in v6.0.0. See https://github.com/optuna/optuna/releases/tag/v3.0.0. Use suggest_float(..., log=True) instead.\n",
      "  learning_rate = trial.suggest_loguniform('learning_rate', 0.001, 0.1)\n",
      "[I 2024-01-17 18:28:34,002] Trial 24 finished with value: 196516760.70099548 and parameters: {'n_estimators': 66, 'max_depth': 28, 'learning_rate': 0.09282186584322492}. Best is trial 16 with value: 194866637.76545393.\n",
      "/tmp/ipykernel_158431/3317692518.py:7: FutureWarning: suggest_loguniform has been deprecated in v3.0.0. This feature will be removed in v6.0.0. See https://github.com/optuna/optuna/releases/tag/v3.0.0. Use suggest_float(..., log=True) instead.\n",
      "  learning_rate = trial.suggest_loguniform('learning_rate', 0.001, 0.1)\n",
      "[I 2024-01-17 18:28:52,088] Trial 25 finished with value: 291024267.1087932 and parameters: {'n_estimators': 100, 'max_depth': 21, 'learning_rate': 0.02757218977703395}. Best is trial 16 with value: 194866637.76545393.\n",
      "/tmp/ipykernel_158431/3317692518.py:7: FutureWarning: suggest_loguniform has been deprecated in v3.0.0. This feature will be removed in v6.0.0. See https://github.com/optuna/optuna/releases/tag/v3.0.0. Use suggest_float(..., log=True) instead.\n",
      "  learning_rate = trial.suggest_loguniform('learning_rate', 0.001, 0.1)\n",
      "[I 2024-01-17 18:29:16,095] Trial 26 finished with value: 238846986.69851565 and parameters: {'n_estimators': 49, 'max_depth': 32, 'learning_rate': 0.06671147537671353}. Best is trial 16 with value: 194866637.76545393.\n",
      "/tmp/ipykernel_158431/3317692518.py:7: FutureWarning: suggest_loguniform has been deprecated in v3.0.0. This feature will be removed in v6.0.0. See https://github.com/optuna/optuna/releases/tag/v3.0.0. Use suggest_float(..., log=True) instead.\n",
      "  learning_rate = trial.suggest_loguniform('learning_rate', 0.001, 0.1)\n",
      "[I 2024-01-17 18:29:56,984] Trial 27 finished with value: 222725803.32979664 and parameters: {'n_estimators': 81, 'max_depth': 30, 'learning_rate': 0.04517650438756615}. Best is trial 16 with value: 194866637.76545393.\n",
      "/tmp/ipykernel_158431/3317692518.py:7: FutureWarning: suggest_loguniform has been deprecated in v3.0.0. This feature will be removed in v6.0.0. See https://github.com/optuna/optuna/releases/tag/v3.0.0. Use suggest_float(..., log=True) instead.\n",
      "  learning_rate = trial.suggest_loguniform('learning_rate', 0.001, 0.1)\n",
      "[I 2024-01-17 18:30:06,193] Trial 28 finished with value: 591666327.4696805 and parameters: {'n_estimators': 92, 'max_depth': 19, 'learning_rate': 0.01827498609734776}. Best is trial 16 with value: 194866637.76545393.\n",
      "/tmp/ipykernel_158431/3317692518.py:7: FutureWarning: suggest_loguniform has been deprecated in v3.0.0. This feature will be removed in v6.0.0. See https://github.com/optuna/optuna/releases/tag/v3.0.0. Use suggest_float(..., log=True) instead.\n",
      "  learning_rate = trial.suggest_loguniform('learning_rate', 0.001, 0.1)\n",
      "[I 2024-01-17 18:30:24,139] Trial 29 finished with value: 305909317.08642876 and parameters: {'n_estimators': 74, 'max_depth': 23, 'learning_rate': 0.03511651120643769}. Best is trial 16 with value: 194866637.76545393.\n",
      "/tmp/ipykernel_158431/3317692518.py:7: FutureWarning: suggest_loguniform has been deprecated in v3.0.0. This feature will be removed in v6.0.0. See https://github.com/optuna/optuna/releases/tag/v3.0.0. Use suggest_float(..., log=True) instead.\n",
      "  learning_rate = trial.suggest_loguniform('learning_rate', 0.001, 0.1)\n",
      "[I 2024-01-17 18:30:25,149] Trial 30 finished with value: 396893947.6761488 and parameters: {'n_estimators': 60, 'max_depth': 10, 'learning_rate': 0.0717496686134225}. Best is trial 16 with value: 194866637.76545393.\n",
      "/tmp/ipykernel_158431/3317692518.py:7: FutureWarning: suggest_loguniform has been deprecated in v3.0.0. This feature will be removed in v6.0.0. See https://github.com/optuna/optuna/releases/tag/v3.0.0. Use suggest_float(..., log=True) instead.\n",
      "  learning_rate = trial.suggest_loguniform('learning_rate', 0.001, 0.1)\n",
      "[I 2024-01-17 18:31:00,135] Trial 31 finished with value: 196213435.5421569 and parameters: {'n_estimators': 73, 'max_depth': 26, 'learning_rate': 0.08737977309477034}. Best is trial 16 with value: 194866637.76545393.\n",
      "/tmp/ipykernel_158431/3317692518.py:7: FutureWarning: suggest_loguniform has been deprecated in v3.0.0. This feature will be removed in v6.0.0. See https://github.com/optuna/optuna/releases/tag/v3.0.0. Use suggest_float(..., log=True) instead.\n",
      "  learning_rate = trial.suggest_loguniform('learning_rate', 0.001, 0.1)\n",
      "[I 2024-01-17 18:31:45,089] Trial 32 finished with value: 195127961.50138733 and parameters: {'n_estimators': 83, 'max_depth': 27, 'learning_rate': 0.0919182711949712}. Best is trial 16 with value: 194866637.76545393.\n",
      "/tmp/ipykernel_158431/3317692518.py:7: FutureWarning: suggest_loguniform has been deprecated in v3.0.0. This feature will be removed in v6.0.0. See https://github.com/optuna/optuna/releases/tag/v3.0.0. Use suggest_float(..., log=True) instead.\n",
      "  learning_rate = trial.suggest_loguniform('learning_rate', 0.001, 0.1)\n",
      "[I 2024-01-17 18:32:29,333] Trial 33 finished with value: 203157798.05134824 and parameters: {'n_estimators': 85, 'max_depth': 28, 'learning_rate': 0.05526264646299282}. Best is trial 16 with value: 194866637.76545393.\n",
      "/tmp/ipykernel_158431/3317692518.py:7: FutureWarning: suggest_loguniform has been deprecated in v3.0.0. This feature will be removed in v6.0.0. See https://github.com/optuna/optuna/releases/tag/v3.0.0. Use suggest_float(..., log=True) instead.\n",
      "  learning_rate = trial.suggest_loguniform('learning_rate', 0.001, 0.1)\n",
      "[I 2024-01-17 18:33:24,684] Trial 34 finished with value: 203855139.43058893 and parameters: {'n_estimators': 94, 'max_depth': 31, 'learning_rate': 0.049318585229045954}. Best is trial 16 with value: 194866637.76545393.\n",
      "/tmp/ipykernel_158431/3317692518.py:7: FutureWarning: suggest_loguniform has been deprecated in v3.0.0. This feature will be removed in v6.0.0. See https://github.com/optuna/optuna/releases/tag/v3.0.0. Use suggest_float(..., log=True) instead.\n",
      "  learning_rate = trial.suggest_loguniform('learning_rate', 0.001, 0.1)\n",
      "[I 2024-01-17 18:33:54,624] Trial 35 finished with value: 195238740.09914958 and parameters: {'n_estimators': 83, 'max_depth': 24, 'learning_rate': 0.09971327142722593}. Best is trial 16 with value: 194866637.76545393.\n",
      "/tmp/ipykernel_158431/3317692518.py:7: FutureWarning: suggest_loguniform has been deprecated in v3.0.0. This feature will be removed in v6.0.0. See https://github.com/optuna/optuna/releases/tag/v3.0.0. Use suggest_float(..., log=True) instead.\n",
      "  learning_rate = trial.suggest_loguniform('learning_rate', 0.001, 0.1)\n",
      "[I 2024-01-17 18:34:12,789] Trial 36 finished with value: 265656396.096608 and parameters: {'n_estimators': 83, 'max_depth': 22, 'learning_rate': 0.035929033735096844}. Best is trial 16 with value: 194866637.76545393.\n",
      "/tmp/ipykernel_158431/3317692518.py:7: FutureWarning: suggest_loguniform has been deprecated in v3.0.0. This feature will be removed in v6.0.0. See https://github.com/optuna/optuna/releases/tag/v3.0.0. Use suggest_float(..., log=True) instead.\n",
      "  learning_rate = trial.suggest_loguniform('learning_rate', 0.001, 0.1)\n",
      "[I 2024-01-17 18:34:21,428] Trial 37 finished with value: 324010641.3873098 and parameters: {'n_estimators': 94, 'max_depth': 18, 'learning_rate': 0.027807464557458077}. Best is trial 16 with value: 194866637.76545393.\n",
      "/tmp/ipykernel_158431/3317692518.py:7: FutureWarning: suggest_loguniform has been deprecated in v3.0.0. This feature will be removed in v6.0.0. See https://github.com/optuna/optuna/releases/tag/v3.0.0. Use suggest_float(..., log=True) instead.\n",
      "  learning_rate = trial.suggest_loguniform('learning_rate', 0.001, 0.1)\n",
      "[I 2024-01-17 18:34:26,242] Trial 38 finished with value: 240833170.18244553 and parameters: {'n_estimators': 83, 'max_depth': 16, 'learning_rate': 0.06372093438043874}. Best is trial 16 with value: 194866637.76545393.\n",
      "/tmp/ipykernel_158431/3317692518.py:7: FutureWarning: suggest_loguniform has been deprecated in v3.0.0. This feature will be removed in v6.0.0. See https://github.com/optuna/optuna/releases/tag/v3.0.0. Use suggest_float(..., log=True) instead.\n",
      "  learning_rate = trial.suggest_loguniform('learning_rate', 0.001, 0.1)\n",
      "[I 2024-01-17 18:34:54,705] Trial 39 finished with value: 200554612.91468912 and parameters: {'n_estimators': 69, 'max_depth': 25, 'learning_rate': 0.0740959407788822}. Best is trial 16 with value: 194866637.76545393.\n",
      "/tmp/ipykernel_158431/3317692518.py:7: FutureWarning: suggest_loguniform has been deprecated in v3.0.0. This feature will be removed in v6.0.0. See https://github.com/optuna/optuna/releases/tag/v3.0.0. Use suggest_float(..., log=True) instead.\n",
      "  learning_rate = trial.suggest_loguniform('learning_rate', 0.001, 0.1)\n",
      "[I 2024-01-17 18:35:17,118] Trial 40 finished with value: 1018047650.5468899 and parameters: {'n_estimators': 88, 'max_depth': 31, 'learning_rate': 0.013602532276275768}. Best is trial 16 with value: 194866637.76545393.\n",
      "/tmp/ipykernel_158431/3317692518.py:7: FutureWarning: suggest_loguniform has been deprecated in v3.0.0. This feature will be removed in v6.0.0. See https://github.com/optuna/optuna/releases/tag/v3.0.0. Use suggest_float(..., log=True) instead.\n",
      "  learning_rate = trial.suggest_loguniform('learning_rate', 0.001, 0.1)\n",
      "[I 2024-01-17 18:36:04,528] Trial 41 finished with value: 195155121.32821572 and parameters: {'n_estimators': 80, 'max_depth': 28, 'learning_rate': 0.09364407616876204}. Best is trial 16 with value: 194866637.76545393.\n",
      "/tmp/ipykernel_158431/3317692518.py:7: FutureWarning: suggest_loguniform has been deprecated in v3.0.0. This feature will be removed in v6.0.0. See https://github.com/optuna/optuna/releases/tag/v3.0.0. Use suggest_float(..., log=True) instead.\n",
      "  learning_rate = trial.suggest_loguniform('learning_rate', 0.001, 0.1)\n",
      "[I 2024-01-17 18:36:39,053] Trial 42 finished with value: 231758677.66608596 and parameters: {'n_estimators': 78, 'max_depth': 28, 'learning_rate': 0.044023531226464775}. Best is trial 16 with value: 194866637.76545393.\n",
      "/tmp/ipykernel_158431/3317692518.py:7: FutureWarning: suggest_loguniform has been deprecated in v3.0.0. This feature will be removed in v6.0.0. See https://github.com/optuna/optuna/releases/tag/v3.0.0. Use suggest_float(..., log=True) instead.\n",
      "  learning_rate = trial.suggest_loguniform('learning_rate', 0.001, 0.1)\n",
      "[I 2024-01-17 18:37:14,704] Trial 43 finished with value: 195836467.65902093 and parameters: {'n_estimators': 96, 'max_depth': 24, 'learning_rate': 0.07523574642033602}. Best is trial 16 with value: 194866637.76545393.\n",
      "/tmp/ipykernel_158431/3317692518.py:7: FutureWarning: suggest_loguniform has been deprecated in v3.0.0. This feature will be removed in v6.0.0. See https://github.com/optuna/optuna/releases/tag/v3.0.0. Use suggest_float(..., log=True) instead.\n",
      "  learning_rate = trial.suggest_loguniform('learning_rate', 0.001, 0.1)\n",
      "[I 2024-01-17 18:37:29,599] Trial 44 finished with value: 5870854970.243664 and parameters: {'n_estimators': 86, 'max_depth': 30, 'learning_rate': 0.0014641477998086965}. Best is trial 16 with value: 194866637.76545393.\n",
      "/tmp/ipykernel_158431/3317692518.py:7: FutureWarning: suggest_loguniform has been deprecated in v3.0.0. This feature will be removed in v6.0.0. See https://github.com/optuna/optuna/releases/tag/v3.0.0. Use suggest_float(..., log=True) instead.\n",
      "  learning_rate = trial.suggest_loguniform('learning_rate', 0.001, 0.1)\n",
      "[I 2024-01-17 18:37:29,907] Trial 45 finished with value: 644818813.5275996 and parameters: {'n_estimators': 42, 'max_depth': 2, 'learning_rate': 0.07897582130361108}. Best is trial 16 with value: 194866637.76545393.\n",
      "/tmp/ipykernel_158431/3317692518.py:7: FutureWarning: suggest_loguniform has been deprecated in v3.0.0. This feature will be removed in v6.0.0. See https://github.com/optuna/optuna/releases/tag/v3.0.0. Use suggest_float(..., log=True) instead.\n",
      "  learning_rate = trial.suggest_loguniform('learning_rate', 0.001, 0.1)\n",
      "[I 2024-01-17 18:38:13,429] Trial 46 finished with value: 196362972.29970786 and parameters: {'n_estimators': 62, 'max_depth': 32, 'learning_rate': 0.09871226336111466}. Best is trial 16 with value: 194866637.76545393.\n",
      "/tmp/ipykernel_158431/3317692518.py:7: FutureWarning: suggest_loguniform has been deprecated in v3.0.0. This feature will be removed in v6.0.0. See https://github.com/optuna/optuna/releases/tag/v3.0.0. Use suggest_float(..., log=True) instead.\n",
      "  learning_rate = trial.suggest_loguniform('learning_rate', 0.001, 0.1)\n",
      "[I 2024-01-17 18:38:14,085] Trial 47 finished with value: 806770482.3282536 and parameters: {'n_estimators': 69, 'max_depth': 5, 'learning_rate': 0.022742803925992556}. Best is trial 16 with value: 194866637.76545393.\n",
      "/tmp/ipykernel_158431/3317692518.py:7: FutureWarning: suggest_loguniform has been deprecated in v3.0.0. This feature will be removed in v6.0.0. See https://github.com/optuna/optuna/releases/tag/v3.0.0. Use suggest_float(..., log=True) instead.\n",
      "  learning_rate = trial.suggest_loguniform('learning_rate', 0.001, 0.1)\n",
      "[I 2024-01-17 18:38:48,015] Trial 48 finished with value: 217057651.5259336 and parameters: {'n_estimators': 76, 'max_depth': 27, 'learning_rate': 0.050974972212562614}. Best is trial 16 with value: 194866637.76545393.\n",
      "/tmp/ipykernel_158431/3317692518.py:7: FutureWarning: suggest_loguniform has been deprecated in v3.0.0. This feature will be removed in v6.0.0. See https://github.com/optuna/optuna/releases/tag/v3.0.0. Use suggest_float(..., log=True) instead.\n",
      "  learning_rate = trial.suggest_loguniform('learning_rate', 0.001, 0.1)\n",
      "[I 2024-01-17 18:39:21,514] Trial 49 finished with value: 201071274.3125212 and parameters: {'n_estimators': 81, 'max_depth': 25, 'learning_rate': 0.0623129707111019}. Best is trial 16 with value: 194866637.76545393.\n"
     ]
    },
    {
     "name": "stdout",
     "output_type": "stream",
     "text": [
      "Best Params: {'n_estimators': 88, 'max_depth': 28, 'learning_rate': 0.09798003396471158}\n"
     ]
    }
   ],
   "source": [
    "import xgboost as xgb\n",
    "\n",
    "def objective(trial):\n",
    "    # 하이퍼파라미터 탐색 대상\n",
    "    n_estimators = trial.suggest_int('n_estimators', 10, 100)\n",
    "    max_depth = trial.suggest_int('max_depth', 2, 32)\n",
    "    learning_rate = trial.suggest_loguniform('learning_rate', 0.001, 0.1)\n",
    "\n",
    "    # xgboost 모델 학습\n",
    "    model = xgb.XGBRegressor(n_estimators=n_estimators,\n",
    "                             max_depth=max_depth,\n",
    "                             learning_rate=learning_rate,\n",
    "                             random_state=7)\n",
    "    model.fit(train_x, train_y)\n",
    "\n",
    "    # 검증 데이터로 평가\n",
    "    y_pred = model.predict(val_x)\n",
    "    mse = mean_squared_error(val_y, y_pred)\n",
    "    return mse\n",
    "\n",
    "# Optuna를 사용하여 하이퍼파라미터 탐색\n",
    "study = optuna.create_study(direction='minimize')\n",
    "study.optimize(objective, n_trials=50)\n",
    "\n",
    "best_params_xgb = study.best_params\n",
    "print(\"Best Params:\", best_params_xgb)"
   ]
  },
  {
   "cell_type": "code",
   "execution_count": 54,
   "metadata": {},
   "outputs": [],
   "source": [
    "from sklearn.metrics import mean_absolute_error\n",
    "\n",
    "for validation_year in [2018, 2019, 2020, 2021, 2022, 2023]:\n",
    "    columns = [\n",
    "        'recent_price', 'transaction_cnt', 'dt_interest_rate', 'transaction_year', 'transaction_month', 'cluster', \n",
    "    ]\n",
    "    train_x = all_data.loc[(all_data['train_test'] == 'train') & (all_data['transaction_year'] < validation_year), columns]\n",
    "    train_y = all_data.loc[(all_data['train_test'] == 'train') & (all_data['transaction_year'] < validation_year), 'target']\n",
    "    \n",
    "    val_x = all_data.loc[(all_data['train_test'] == 'train') & (all_data['transaction_year'] == validation_year), columns]\n",
    "    val_y = all_data.loc[(all_data['train_test'] == 'train') & (all_data['transaction_year'] == validation_year), 'target']\n",
    "\n",
    "    # 모델 생성 및 훈련\n",
    "    model_xgb = xgb.XGBRegressor(n_estimators=best_params_xgb['n_estimators'],\n",
    "                              max_depth=best_params_xgb['max_depth'],\n",
    "                              learning_rate=best_params_xgb['learning_rate'],\n",
    "                              random_state=7)\n",
    "    model_xgb.fit(train_x, train_y)\n",
    "    pred_xgb_ls = model_xgb.predict(val_x)"
   ]
  },
  {
   "cell_type": "code",
   "execution_count": 55,
   "metadata": {},
   "outputs": [
    {
     "name": "stderr",
     "output_type": "stream",
     "text": [
      "100%|██████████| 9272/9272 [2:09:15<00:00,  1.20it/s]  \n"
     ]
    }
   ],
   "source": [
    "from sklearn.ensemble import RandomForestRegressor\n",
    "\n",
    "columns = [\n",
    "    'recent_price', 'transaction_cnt', 'dt_interest_rate', 'transaction_year', 'transaction_month', 'cluster', \n",
    "]\n",
    "train_x = all_data.loc[all_data['train_test'] == 'train', columns]\n",
    "train_y = all_data.loc[all_data['train_test'] == 'train', 'target']\n",
    "test_x = all_data.loc[all_data['train_test'] == 'test', columns]\n",
    "\n",
    "# 모델 생성 및 훈련\n",
    "model_xgb = xgb.XGBRegressor(n_estimators=best_params_xgb['n_estimators'],\n",
    "                          max_depth=best_params_xgb['max_depth'],\n",
    "                          learning_rate=best_params_xgb['learning_rate'],\n",
    "                          random_state=7)\n",
    "model_xgb.fit(train_x, train_y)\n",
    "\n",
    "# 예측\n",
    "pred_ls = list()\n",
    "now_df = all_data.loc[all_data['train_test'] == 'train']\n",
    "test = all_data.loc[all_data['train_test'] == 'test']\n",
    "\n",
    "for idx, row in tqdm(test.iterrows(), total = test.shape[0]):\n",
    "    now_df = pd.concat([now_df, test.loc[[idx]]])\n",
    "    test_x.loc[idx, 'recent_price'] = get_recent_price(idx, now_df)\n",
    "    \n",
    "    # 예측\n",
    "    pred_xgb_ls = model_xgb.predict(test_x.loc[idx:idx])\n",
    "    now_df.loc[idx, 'target'] = pred_xgb_ls\n",
    "    pred_ls.append(pred_xgb_ls[0])"
   ]
  },
  {
   "cell_type": "markdown",
   "metadata": {},
   "source": [
    "### 4. 모델 교차검증"
   ]
  },
  {
   "cell_type": "code",
   "execution_count": 58,
   "metadata": {},
   "outputs": [
    {
     "name": "stdout",
     "output_type": "stream",
     "text": [
      "2018 년도 MAE:  6696.961714122557\n",
      "2019 년도 MAE:  7846.3793309957755\n",
      "2020 년도 MAE:  7714.378067297535\n",
      "2021 년도 MAE:  11020.183134681416\n",
      "2022 년도 MAE:  13940.465705311575\n",
      "2023 년도 MAE:  13572.748584541521\n"
     ]
    }
   ],
   "source": [
    "from sklearn.metrics import mean_absolute_error\n",
    "from sklearn.metrics import mean_squared_error\n",
    "import numpy as np\n",
    "\n",
    "for validation_year in [2018, 2019, 2020, 2021, 2022, 2023]:\n",
    "    columns = [\n",
    "        'recent_price', 'transaction_cnt', 'dt_interest_rate', 'transaction_year', 'transaction_month', 'cluster', \n",
    "    ]\n",
    "    train_x = all_data.loc[(all_data['train_test'] == 'train') & (all_data['transaction_year'] < validation_year), columns]\n",
    "    train_y = all_data.loc[(all_data['train_test'] == 'train') & (all_data['transaction_year'] < validation_year), 'target']\n",
    "    \n",
    "    val_x = all_data.loc[(all_data['train_test'] == 'train') & (all_data['transaction_year'] == validation_year), columns]\n",
    "    val_y = all_data.loc[(all_data['train_test'] == 'train') & (all_data['transaction_year'] == validation_year), 'target']\n",
    "    \n",
    "    # 모델 생성 및 훈련\n",
    "    model_rf = RandomForestRegressor(n_estimators=best_params_rf['n_estimators'],\n",
    "                                     max_depth=best_params_rf['max_depth'],\n",
    "                                     random_state=7\n",
    "                                     )\n",
    "    model_rf.fit(train_x, train_y)\n",
    "    \n",
    "    model_xgb = xgb.XGBRegressor(n_estimators=best_params_xgb['n_estimators'],\n",
    "                              max_depth=best_params_xgb['max_depth'],\n",
    "                              learning_rate=best_params_xgb['learning_rate'],\n",
    "                              random_state=7)\n",
    "    model_xgb.fit(train_x, train_y)\n",
    "    \n",
    "    # 예측\n",
    "    pred_rf_ls = model_rf.predict(val_x)\n",
    "    pred_xgb_ls = model_xgb.predict(val_x)\n",
    "    blended_prediction = (pred_rf_ls + pred_xgb_ls)/2\n",
    "    \n",
    "    mae = mean_absolute_error(blended_prediction, val_y)\n",
    "    print(validation_year,'년도 MAE: ' , mae)\n",
    "\n",
    "        # RMSE 계산\n",
    "    rmse = np.sqrt(mean_squared_error(pred_val_ls, val_y))\n",
    "    print(validation_year,'년도 RMSE: ', rmse)"
   ]
  },
  {
   "cell_type": "markdown",
   "metadata": {},
   "source": [
    "### 5. 테스트 데이터 예측"
   ]
  },
  {
   "cell_type": "code",
   "execution_count": 59,
   "metadata": {},
   "outputs": [
    {
     "name": "stderr",
     "output_type": "stream",
     "text": [
      "100%|██████████| 9272/9272 [2:09:20<00:00,  1.19it/s]  \n"
     ]
    }
   ],
   "source": [
    "from sklearn.ensemble import RandomForestRegressor\n",
    "\n",
    "columns = [\n",
    "    'recent_price', 'transaction_cnt', 'dt_interest_rate', 'transaction_year', 'transaction_month', 'cluster', \n",
    "]\n",
    "train_x = all_data.loc[all_data['train_test'] == 'train', columns]\n",
    "train_y = all_data.loc[all_data['train_test'] == 'train', 'target']\n",
    "test_x = all_data.loc[all_data['train_test'] == 'test', columns]\n",
    "\n",
    "# 모델 생성 및 훈련\n",
    "model_rf = RandomForestRegressor(n_estimators=best_params_rf['n_estimators'],\n",
    "                                 max_depth=best_params_rf['max_depth'],\n",
    "                                 random_state=7\n",
    "                                 )\n",
    "model_rf.fit(train_x, train_y)\n",
    "\n",
    "model_xgb = xgb.XGBRegressor(n_estimators=best_params_xgb['n_estimators'],\n",
    "                          max_depth=best_params_xgb['max_depth'],\n",
    "                          learning_rate=best_params_xgb['learning_rate'],\n",
    "                          random_state=7)\n",
    "model_xgb.fit(train_x, train_y)\n",
    "\n",
    "# 예측\n",
    "pred_ls = list()\n",
    "now_df = all_data.loc[all_data['train_test'] == 'train']\n",
    "test = all_data.loc[all_data['train_test'] == 'test']\n",
    "\n",
    "for idx, row in tqdm(test.iterrows(), total = test.shape[0]):\n",
    "    now_df = pd.concat([now_df, test.loc[[idx]]])\n",
    "    test_x.loc[idx, 'recent_price'] = get_recent_price(idx, now_df)\n",
    "    \n",
    "    # 예측\n",
    "    pred_rf_ls = model_rf.predict(test_x.loc[idx:idx])\n",
    "    pred_xgb_ls = model_xgb.predict(test_x.loc[idx:idx])\n",
    "    blended_prediction = (pred_rf_ls + pred_xgb_ls)/2\n",
    "    \n",
    "    now_df.loc[idx, 'target'] = blended_prediction\n",
    "    pred_ls.append(blended_prediction[0])"
   ]
  },
  {
   "cell_type": "markdown",
   "metadata": {},
   "source": [
    "### 6. 정답 제출 파일 생성"
   ]
  },
  {
   "cell_type": "code",
   "execution_count": 52,
   "metadata": {},
   "outputs": [],
   "source": [
    "submission['target'] = np.ceil(pred_ls).astype(int)\n",
    "submission.to_csv('../data/RF output_DY.csv', index=False)"
   ]
  },
  {
   "cell_type": "code",
   "execution_count": 56,
   "metadata": {},
   "outputs": [],
   "source": [
    "submission['target'] = np.ceil(pred_ls).astype(int)\n",
    "submission.to_csv('../data/XGB output_DY.csv', index=False)"
   ]
  },
  {
   "cell_type": "code",
   "execution_count": 61,
   "metadata": {},
   "outputs": [],
   "source": [
    "submission['target'] = np.ceil(pred_ls).astype(int)\n",
    "submission.to_csv('../data/RF,XGB CV output.csv', index=False)"
   ]
  }
 ],
 "metadata": {
  "kernelspec": {
   "display_name": "base",
   "language": "python",
   "name": "python3"
  },
  "language_info": {
   "codemirror_mode": {
    "name": "ipython",
    "version": 3
   },
   "file_extension": ".py",
   "mimetype": "text/x-python",
   "name": "python",
   "nbconvert_exporter": "python",
   "pygments_lexer": "ipython3",
   "version": "3.10.13"
  }
 },
 "nbformat": 4,
 "nbformat_minor": 2
}
