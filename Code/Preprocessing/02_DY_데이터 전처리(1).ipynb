{
 "cells": [
  {
   "cell_type": "markdown",
   "metadata": {},
   "source": [
    "## Stage 3. 데이터 전처리 (1)\n",
    "\n",
    "[목표]\n",
    "\n",
    "날짜 데이터 전처리\n",
    "\n",
    "날짜와 Join할 수 있는 데이터 추가"
   ]
  },
  {
   "cell_type": "markdown",
   "metadata": {},
   "source": [
    "### 1. 데이터 읽어오기"
   ]
  },
  {
   "cell_type": "code",
   "execution_count": 1,
   "metadata": {},
   "outputs": [
    {
     "name": "stderr",
     "output_type": "stream",
     "text": [
      "/tmp/ipykernel_469482/639869550.py:12: DtypeWarning: Columns (10,11) have mixed types. Specify dtype option on import or set low_memory=False.\n",
      "  dt_train = pd.read_csv(train_path)\n"
     ]
    },
    {
     "data": {
      "text/html": [
       "<div>\n",
       "<style scoped>\n",
       "    .dataframe tbody tr th:only-of-type {\n",
       "        vertical-align: middle;\n",
       "    }\n",
       "\n",
       "    .dataframe tbody tr th {\n",
       "        vertical-align: top;\n",
       "    }\n",
       "\n",
       "    .dataframe thead th {\n",
       "        text-align: right;\n",
       "    }\n",
       "</style>\n",
       "<table border=\"1\" class=\"dataframe\">\n",
       "  <thead>\n",
       "    <tr style=\"text-align: right;\">\n",
       "      <th></th>\n",
       "      <th>시군구</th>\n",
       "      <th>번지</th>\n",
       "      <th>아파트명</th>\n",
       "      <th>전용면적</th>\n",
       "      <th>계약년월</th>\n",
       "      <th>계약일</th>\n",
       "      <th>층</th>\n",
       "      <th>건축년도</th>\n",
       "      <th>도로명</th>\n",
       "      <th>해제사유발생일</th>\n",
       "      <th>...</th>\n",
       "      <th>전세가율</th>\n",
       "      <th>전체계약일자</th>\n",
       "      <th>금리</th>\n",
       "      <th>실질gdp</th>\n",
       "      <th>명목gdp</th>\n",
       "      <th>학군</th>\n",
       "      <th>재개발개수</th>\n",
       "      <th>학급수</th>\n",
       "      <th>여당득표율</th>\n",
       "      <th>train_test</th>\n",
       "    </tr>\n",
       "  </thead>\n",
       "  <tbody>\n",
       "    <tr>\n",
       "      <th>0</th>\n",
       "      <td>서울특별시 강남구 개포동</td>\n",
       "      <td>658-1</td>\n",
       "      <td>개포6차우성</td>\n",
       "      <td>79.97</td>\n",
       "      <td>201712</td>\n",
       "      <td>8</td>\n",
       "      <td>3</td>\n",
       "      <td>1987</td>\n",
       "      <td>언주로 3</td>\n",
       "      <td>NaN</td>\n",
       "      <td>...</td>\n",
       "      <td>55.88</td>\n",
       "      <td>20171208</td>\n",
       "      <td>1.5</td>\n",
       "      <td>2.9</td>\n",
       "      <td>474,957.90</td>\n",
       "      <td>8</td>\n",
       "      <td>0</td>\n",
       "      <td>29.393939</td>\n",
       "      <td>35.36</td>\n",
       "      <td>train</td>\n",
       "    </tr>\n",
       "    <tr>\n",
       "      <th>1</th>\n",
       "      <td>서울특별시 강남구 개포동</td>\n",
       "      <td>658-1</td>\n",
       "      <td>개포6차우성</td>\n",
       "      <td>79.97</td>\n",
       "      <td>201712</td>\n",
       "      <td>22</td>\n",
       "      <td>4</td>\n",
       "      <td>1987</td>\n",
       "      <td>언주로 3</td>\n",
       "      <td>NaN</td>\n",
       "      <td>...</td>\n",
       "      <td>55.88</td>\n",
       "      <td>20171222</td>\n",
       "      <td>1.5</td>\n",
       "      <td>2.9</td>\n",
       "      <td>474,957.90</td>\n",
       "      <td>8</td>\n",
       "      <td>0</td>\n",
       "      <td>29.393939</td>\n",
       "      <td>35.36</td>\n",
       "      <td>train</td>\n",
       "    </tr>\n",
       "    <tr>\n",
       "      <th>2</th>\n",
       "      <td>서울특별시 강남구 개포동</td>\n",
       "      <td>658-1</td>\n",
       "      <td>개포6차우성</td>\n",
       "      <td>54.98</td>\n",
       "      <td>201712</td>\n",
       "      <td>28</td>\n",
       "      <td>5</td>\n",
       "      <td>1987</td>\n",
       "      <td>언주로 3</td>\n",
       "      <td>NaN</td>\n",
       "      <td>...</td>\n",
       "      <td>55.88</td>\n",
       "      <td>20171228</td>\n",
       "      <td>1.5</td>\n",
       "      <td>2.9</td>\n",
       "      <td>474,957.90</td>\n",
       "      <td>8</td>\n",
       "      <td>0</td>\n",
       "      <td>29.393939</td>\n",
       "      <td>35.36</td>\n",
       "      <td>train</td>\n",
       "    </tr>\n",
       "    <tr>\n",
       "      <th>3</th>\n",
       "      <td>서울특별시 강남구 개포동</td>\n",
       "      <td>658-1</td>\n",
       "      <td>개포6차우성</td>\n",
       "      <td>79.97</td>\n",
       "      <td>201801</td>\n",
       "      <td>3</td>\n",
       "      <td>4</td>\n",
       "      <td>1987</td>\n",
       "      <td>언주로 3</td>\n",
       "      <td>NaN</td>\n",
       "      <td>...</td>\n",
       "      <td>54.42</td>\n",
       "      <td>20180103</td>\n",
       "      <td>1.5</td>\n",
       "      <td>2.9</td>\n",
       "      <td>449,357.80</td>\n",
       "      <td>8</td>\n",
       "      <td>0</td>\n",
       "      <td>30.781250</td>\n",
       "      <td>35.36</td>\n",
       "      <td>train</td>\n",
       "    </tr>\n",
       "    <tr>\n",
       "      <th>4</th>\n",
       "      <td>서울특별시 강남구 개포동</td>\n",
       "      <td>658-1</td>\n",
       "      <td>개포6차우성</td>\n",
       "      <td>79.97</td>\n",
       "      <td>201801</td>\n",
       "      <td>8</td>\n",
       "      <td>2</td>\n",
       "      <td>1987</td>\n",
       "      <td>언주로 3</td>\n",
       "      <td>NaN</td>\n",
       "      <td>...</td>\n",
       "      <td>54.42</td>\n",
       "      <td>20180108</td>\n",
       "      <td>1.5</td>\n",
       "      <td>2.9</td>\n",
       "      <td>449,357.80</td>\n",
       "      <td>8</td>\n",
       "      <td>0</td>\n",
       "      <td>30.781250</td>\n",
       "      <td>35.36</td>\n",
       "      <td>train</td>\n",
       "    </tr>\n",
       "  </tbody>\n",
       "</table>\n",
       "<p>5 rows × 54 columns</p>\n",
       "</div>"
      ],
      "text/plain": [
       "             시군구     번지    아파트명   전용면적    계약년월  계약일  층  건축년도    도로명  해제사유발생일  \\\n",
       "0  서울특별시 강남구 개포동  658-1  개포6차우성  79.97  201712    8  3  1987  언주로 3      NaN   \n",
       "1  서울특별시 강남구 개포동  658-1  개포6차우성  79.97  201712   22  4  1987  언주로 3      NaN   \n",
       "2  서울특별시 강남구 개포동  658-1  개포6차우성  54.98  201712   28  5  1987  언주로 3      NaN   \n",
       "3  서울특별시 강남구 개포동  658-1  개포6차우성  79.97  201801    3  4  1987  언주로 3      NaN   \n",
       "4  서울특별시 강남구 개포동  658-1  개포6차우성  79.97  201801    8  2  1987  언주로 3      NaN   \n",
       "\n",
       "   ...   전세가율    전체계약일자   금리 실질gdp       명목gdp 학군  재개발개수        학급수  여당득표율  \\\n",
       "0  ...  55.88  20171208  1.5   2.9  474,957.90  8      0  29.393939  35.36   \n",
       "1  ...  55.88  20171222  1.5   2.9  474,957.90  8      0  29.393939  35.36   \n",
       "2  ...  55.88  20171228  1.5   2.9  474,957.90  8      0  29.393939  35.36   \n",
       "3  ...  54.42  20180103  1.5   2.9  449,357.80  8      0  30.781250  35.36   \n",
       "4  ...  54.42  20180108  1.5   2.9  449,357.80  8      0  30.781250  35.36   \n",
       "\n",
       "  train_test  \n",
       "0      train  \n",
       "1      train  \n",
       "2      train  \n",
       "3      train  \n",
       "4      train  \n",
       "\n",
       "[5 rows x 54 columns]"
      ]
     },
     "execution_count": 1,
     "metadata": {},
     "output_type": "execute_result"
    }
   ],
   "source": [
    "import pandas as pd\n",
    "pd.options.mode.chained_assignment = None\n",
    "\n",
    "train_path = '../data/KOREAN_train4.csv'\n",
    "test_path  = '../data/KOREAN_test4.csv'\n",
    "subway_feature_path = '../data/subway_feature.csv'\n",
    "bus_feature_path = '../data/bus_feature.csv'\n",
    "interest_rate_path = '../data/한국은행_금리.csv'\n",
    "GDP_path = '../data/국내총생산 및 경제성장률(GDP)_한국은행.csv'\n",
    "sample_submission_path = '../data/sample_submission.csv'\n",
    "\n",
    "dt_train = pd.read_csv(train_path)\n",
    "dt_test = pd.read_csv(test_path)\n",
    "dt_subway_feature = pd.read_csv(subway_feature_path)\n",
    "dt_bus_feature = pd.read_csv(bus_feature_path)\n",
    "dt_interest_rate = pd.read_csv(interest_rate_path)\n",
    "dt_GDP = pd.read_csv(GDP_path)\n",
    "dt_sample_submission = pd.read_csv(sample_submission_path)\n",
    "\n",
    "dt_train['train_test'] = 'train'\n",
    "dt_test['train_test'] = 'test'\n",
    "all_data = pd.concat([dt_train, dt_test])\n",
    "all_data = all_data.reset_index(drop=True)\n",
    "\n",
    "dt_train.head()"
   ]
  },
  {
   "cell_type": "code",
   "execution_count": 2,
   "metadata": {},
   "outputs": [
    {
     "data": {
      "text/plain": [
       "Index(['시군구', '번지', '아파트명', '전용면적', '계약년월', '계약일', '층', '건축년도', '도로명',\n",
       "       '해제사유발생일', '거래유형', '중개사소재지', 'k-단지분류', 'k-세대타입(분양형태)', 'k-복도유형',\n",
       "       'k-난방방식', 'k-전체동수', 'k-전체세대수', 'k-건설사', 'k-시행사', 'k-연면적', 'k-주거전용면적',\n",
       "       'k-전용면적별세대현황60이하', 'k-전용면적별세대현황6085이하', 'k-85135이하', 'k-135초과',\n",
       "       '세대전기계약방법', '건축면적', '주차대수', '기타의무임대1234', '단지신청일', 'target', '구', '동',\n",
       "       '전체주소명', '동아파트명', '유동인구', '아파트 지하철역 거리', '1차역세권', '2차역세권',\n",
       "       '아파트 버스정류장 거리', '좌표X', '좌표Y', '아파트 한강대교 거리', '전세가율', '전체계약일자', '금리',\n",
       "       '실질gdp', '명목gdp', '학군', '재개발개수', '학급수', '여당득표율', 'train_test'],\n",
       "      dtype='object')"
      ]
     },
     "execution_count": 2,
     "metadata": {},
     "output_type": "execute_result"
    }
   ],
   "source": [
    "dt_train.columns"
   ]
  },
  {
   "cell_type": "markdown",
   "metadata": {},
   "source": [
    "### 2. 날짜 데이터"
   ]
  },
  {
   "cell_type": "code",
   "execution_count": 3,
   "metadata": {},
   "outputs": [],
   "source": [
    "def preprocess_tran_date(x):\n",
    "    if type(x) == int:\n",
    "        if x < 10:\n",
    "            return '0'+str(x)\n",
    "        else:\n",
    "            return str(x)\n",
    "    else:\n",
    "        return x\n",
    "\n",
    "all_data['계약일'] = all_data['계약일'].apply(preprocess_tran_date)\n",
    "all_data['계약날짜'] = all_data['계약년월'].astype(int).astype(str) + all_data['계약일'].astype(str)\n",
    "all_data['계약날짜'] = pd.to_datetime(all_data['계약날짜'])\n",
    "all_data = all_data.sort_values('계약날짜').reset_index(drop=True)"
   ]
  },
  {
   "cell_type": "markdown",
   "metadata": {},
   "source": [
    "### 3. 아파트 키값 생성"
   ]
  },
  {
   "cell_type": "code",
   "execution_count": 4,
   "metadata": {},
   "outputs": [
    {
     "data": {
      "text/plain": [
       "0           747.0\n",
       "1          3215.0\n",
       "2          4414.0\n",
       "3          5768.0\n",
       "4          3980.0\n",
       "            ...  \n",
       "1128089    4475.0\n",
       "1128090    3318.0\n",
       "1128091    6782.0\n",
       "1128092    5137.0\n",
       "1128093    5962.0\n",
       "Name: apartment_id, Length: 1128094, dtype: float64"
      ]
     },
     "execution_count": 4,
     "metadata": {},
     "output_type": "execute_result"
    }
   ],
   "source": [
    "all_data['apartment_id'] = all_data.groupby(['시군구', '아파트명']).ngroup()\n",
    "all_data['apartment_id']"
   ]
  },
  {
   "cell_type": "markdown",
   "metadata": {},
   "source": [
    "- 아파트 고유 키값을 만들어 문자열 형태가 아닌 숫자를 통해 아파트를 조회할 수 있도록 함."
   ]
  },
  {
   "cell_type": "markdown",
   "metadata": {},
   "source": [
    "### 4. 아파트 실거래가 데이터 전처리"
   ]
  },
  {
   "cell_type": "code",
   "execution_count": 5,
   "metadata": {},
   "outputs": [],
   "source": [
    "def str_to_int(string):\n",
    "    if type(string) == str:\n",
    "        string = string.replace(',', '')\n",
    "        return int(string)\n",
    "    else:\n",
    "        return string\n",
    "\n",
    "all_data['target'] = all_data['target'].apply(str_to_int)"
   ]
  },
  {
   "cell_type": "markdown",
   "metadata": {},
   "source": [
    "### 5. 최근 아파트 가격 데이터"
   ]
  },
  {
   "cell_type": "code",
   "execution_count": 6,
   "metadata": {},
   "outputs": [
    {
     "data": {
      "text/plain": [
       "Index(['시군구', '번지', '아파트명', '전용면적', '계약년월', '계약일', '층', '건축년도', '도로명',\n",
       "       '해제사유발생일', '거래유형', '중개사소재지', 'k-단지분류', 'k-세대타입(분양형태)', 'k-복도유형',\n",
       "       'k-난방방식', 'k-전체동수', 'k-전체세대수', 'k-건설사', 'k-시행사', 'k-연면적', 'k-주거전용면적',\n",
       "       'k-전용면적별세대현황60이하', 'k-전용면적별세대현황6085이하', 'k-85135이하', 'k-135초과',\n",
       "       '세대전기계약방법', '건축면적', '주차대수', '기타의무임대1234', '단지신청일', 'target', '구', '동',\n",
       "       '전체주소명', '동아파트명', '유동인구', '아파트 지하철역 거리', '1차역세권', '2차역세권',\n",
       "       '아파트 버스정류장 거리', '좌표X', '좌표Y', '아파트 한강대교 거리', '전세가율', '전체계약일자', '금리',\n",
       "       '실질gdp', '명목gdp', '학군', '재개발개수', '학급수', '여당득표율', 'train_test', '계약날짜',\n",
       "       'apartment_id'],\n",
       "      dtype='object')"
      ]
     },
     "execution_count": 6,
     "metadata": {},
     "output_type": "execute_result"
    }
   ],
   "source": [
    "all_data.columns"
   ]
  },
  {
   "cell_type": "code",
   "execution_count": 7,
   "metadata": {},
   "outputs": [
    {
     "name": "stderr",
     "output_type": "stream",
     "text": [
      "100%|██████████| 1128094/1128094 [17:54:26<00:00, 17.50it/s]   \n"
     ]
    }
   ],
   "source": [
    "from datetime import datetime\n",
    "from tqdm import tqdm\n",
    "\n",
    "def make_area_bucket(area):\n",
    "    if area < 60: # 59타입\n",
    "        return 0\n",
    "    elif area < 85: # 84타입\n",
    "        return 1\n",
    "    else:\n",
    "        return 2\n",
    "\n",
    "all_data['bucket_area'] = all_data['전용면적'].apply(make_area_bucket)\n",
    "\n",
    "def get_recent_price(idx, all_data):\n",
    "    row = all_data.loc[idx]\n",
    "    temp_df = all_data.loc[:idx]\n",
    "    temp_df = temp_df[\n",
    "        (temp_df['계약날짜'] < row['계약날짜']) &\n",
    "        (temp_df['bucket_area'] == row['bucket_area'])\n",
    "    ]\n",
    "    if len(temp_df) == 0:\n",
    "        temp_df = all_data[\n",
    "            (all_data['계약날짜'] < datetime.strptime('2016-01-01', \"%Y-%m-%d\")) &\n",
    "            (all_data['bucket_area'] == row['bucket_area'])\n",
    "        ]\n",
    "    \n",
    "    # 아파트 아이디 같은것 찾기\n",
    "    recent_price = temp_df[(temp_df['apartment_id'] == row['apartment_id'])]\n",
    "    if len(recent_price) == 0:\n",
    "        recent_price = temp_df[(temp_df['시군구'] == row['시군구'])]\n",
    "        if len(recent_price) > 0:\n",
    "            recent_price = recent_price.iloc[-1]['target']\n",
    "        else:\n",
    "            recent_price = None\n",
    "    else:\n",
    "        recent_price = recent_price.iloc[-1]['target']  \n",
    "    \n",
    "    if recent_price is None:\n",
    "        recent_price = temp_df['target'].mean() # 2019년 전체평균\n",
    "\n",
    "    return recent_price\n",
    "\n",
    "for idx, row in tqdm(all_data.iterrows(), total = all_data.shape[0]):\n",
    "    if row['train_test'] == 'test':  \n",
    "        continue\n",
    "    all_data.loc[idx, 'recent_price'] = get_recent_price(idx, all_data)"
   ]
  },
  {
   "cell_type": "code",
   "execution_count": 8,
   "metadata": {},
   "outputs": [
    {
     "name": "stdout",
     "output_type": "stream",
     "text": [
      "Data saved to ../data/recent_price.csv\n"
     ]
    }
   ],
   "source": [
    "# 결과 데이터프레임을 CSV 파일로 저장\n",
    "output_filename = \"../data/recent_price.csv\"\n",
    "all_data.to_csv(output_filename, index=False)\n",
    "\n",
    "print(f\"Data saved to {output_filename}\")"
   ]
  },
  {
   "cell_type": "markdown",
   "metadata": {},
   "source": [
    "- 부동산에서 보통 아파트 시장 가격을 평가할 때, 최근 거래된 아파트 가격을 기준으로 평가하는 경우가 많음.\n",
    "- 최근 거래를 바탕으로 계산된 아파트 최근 거래가를 이용하여 feature 를 새로 생성하도록 함."
   ]
  },
  {
   "cell_type": "markdown",
   "metadata": {},
   "source": [
    "### 6. 아파트 최근 거래량"
   ]
  },
  {
   "cell_type": "code",
   "execution_count": 9,
   "metadata": {},
   "outputs": [
    {
     "name": "stderr",
     "output_type": "stream",
     "text": [
      "100%|██████████| 1128094/1128094 [18:43:28<00:00, 16.74it/s]  \n"
     ]
    }
   ],
   "source": [
    "from datetime import datetime, timedelta\n",
    "from tqdm import tqdm\n",
    "\n",
    "for idx, row in tqdm(all_data.iterrows(), total = all_data.shape[0]):\n",
    "    # 결측값 근처시점 데이터로 처리\n",
    "    if row['계약날짜'] <= datetime.strptime('2014-03-30', \"%Y-%m-%d\"):\n",
    "        start_day = datetime.strptime('2014-03-30', \"%Y-%m-%d\")\n",
    "        end_day = datetime.strptime('2014-01-01', \"%Y-%m-%d\")\n",
    "        cnt = len(all_data[(all_data['계약날짜'] >= start_day) & (all_data['계약날짜'] < end_day) & (all_data['시군구'] == row['시군구'])])\n",
    "    else:\n",
    "        start_day = row['계약날짜'] - timedelta(days=90)\n",
    "        end_day = row['계약날짜']\n",
    "        cnt = len(all_data[(all_data['계약날짜'] >= start_day) & (all_data['계약날짜'] < end_day) & (all_data['시군구'] == row['시군구'])])\n",
    "    \n",
    "    all_data.loc[idx, 'transaction_cnt'] = cnt"
   ]
  },
  {
   "cell_type": "code",
   "execution_count": 10,
   "metadata": {},
   "outputs": [
    {
     "name": "stdout",
     "output_type": "stream",
     "text": [
      "Data saved to ../data/transaction_cnt.csv\n"
     ]
    }
   ],
   "source": [
    "# 결과 데이터프레임을 CSV 파일로 저장\n",
    "output_filename = \"../data/transaction_cnt.csv\"\n",
    "all_data.to_csv(output_filename, index=False)\n",
    "\n",
    "print(f\"Data saved to {output_filename}\")"
   ]
  },
  {
   "cell_type": "markdown",
   "metadata": {},
   "source": [
    "- 거래량이 증가할 수록 아파트의 가격이 증가할 것이라 예상함\n",
    "- 최근 3개월 동안의 데이터를 활용하여 같은 동네의 아파트 거래량을 카운트 해봄."
   ]
  },
  {
   "cell_type": "markdown",
   "metadata": {},
   "source": [
    "### 7. 금리 데이터 불러오기 및 전처리"
   ]
  },
  {
   "cell_type": "markdown",
   "metadata": {},
   "source": [
    "- 한국은행 금리 데이털르 활용하여 아파트 가격과 관련이 높은 금리 데이터를 추가함"
   ]
  },
  {
   "cell_type": "code",
   "execution_count": null,
   "metadata": {},
   "outputs": [],
   "source": [
    "interest_rate = pd.read_csv(interest_rate_path) # 한국은행 기준금리\n",
    "\n",
    "def make_date(row):\n",
    "    month_day = row['월일'].replace('월 ', '-')\n",
    "    month_day = month_day.replace('일', '')\n",
    "    date = str(row['연도'])+ '-' + month_day\n",
    "    return date\n",
    "\n",
    "interest_rate['날짜'] = interest_rate.apply(lambda x: make_date(x), axis=1)\n",
    "interest_rate['날짜'] = pd.to_datetime(interest_rate['날짜'])"
   ]
  },
  {
   "cell_type": "markdown",
   "metadata": {},
   "source": [
    "### 12개월 전 금리"
   ]
  },
  {
   "cell_type": "markdown",
   "metadata": {},
   "source": [
    "- 금리 데이터를 불러와 1년 전 금리를 적용시켜 데이터를 결합시킴"
   ]
  },
  {
   "cell_type": "code",
   "execution_count": 18,
   "metadata": {},
   "outputs": [
    {
     "name": "stderr",
     "output_type": "stream",
     "text": [
      "/tmp/ipykernel_469482/1385744645.py:17: FutureWarning: Passing <class 'str'> to shift is deprecated and will raise in a future version, pass Timestamp instead.\n",
      "  g02['날짜열_11개월후_종료일'] = g02['날짜열_11개월후'].shift(-1, fill_value = \"2027-01-01\") - pd.DateOffset(days=1)\n",
      "/tmp/ipykernel_469482/1385744645.py:18: FutureWarning: Passing <class 'str'> to shift is deprecated and will raise in a future version, pass Timestamp instead.\n",
      "  g03['날짜열_1년후_종료일'] = g03['날짜열_1년후'].shift(-1, fill_value = \"2027-01-01\") - pd.DateOffset(days=1)\n",
      "/tmp/ipykernel_469482/1385744645.py:19: FutureWarning: Passing <class 'str'> to shift is deprecated and will raise in a future version, pass Timestamp instead.\n",
      "  g04['날짜열_13개월후_종료일'] = g04['날짜열_13개월후'].shift(-1, fill_value = \"2027-01-01\") - pd.DateOffset(days=1)\n"
     ]
    }
   ],
   "source": [
    "import openpyxl\n",
    "\n",
    "goldwe = pd.read_excel('../data/한국은행_금리 (1).xlsx')\n",
    "goldwe[\"계약날짜\"] = goldwe[\"변경일자_년\"].astype(str) + goldwe[\"변경일자_월일\"].map(lambda x : x[:2] + x[4:6])\n",
    "g01 = goldwe.sort_values('계약날짜')\n",
    "g01['날짜열_1년후'] = pd.to_datetime(g01['계약날짜']) + pd.DateOffset(years=1)\n",
    "g01['날짜열_11개월후'] = pd.to_datetime(g01['계약날짜']) + pd.DateOffset(months=11)\n",
    "g01['날짜열_13개월후'] = pd.to_datetime(g01['계약날짜']) + pd.DateOffset(months=13)\n",
    "g02 = g01[['날짜열_11개월후', '기준금리']]\n",
    "g03 = g01[['날짜열_1년후', '기준금리']]\n",
    "g04 = g01[['날짜열_13개월후', '기준금리']]\n",
    "\n",
    "g02.columns = ['날짜열_11개월후', \"11개월전_금리\"]\n",
    "g03.columns = ['날짜열_1년후', \"1년전_금리\"]\n",
    "g04.columns = ['날짜열_13개월후', \"13개월전_금리\"]\n",
    "\n",
    "g02['날짜열_11개월후_종료일'] = g02['날짜열_11개월후'].shift(-1, fill_value = \"2027-01-01\") - pd.DateOffset(days=1)\n",
    "g03['날짜열_1년후_종료일'] = g03['날짜열_1년후'].shift(-1, fill_value = \"2027-01-01\") - pd.DateOffset(days=1)\n",
    "g04['날짜열_13개월후_종료일'] = g04['날짜열_13개월후'].shift(-1, fill_value = \"2027-01-01\") - pd.DateOffset(days=1)\n",
    "make_date = all_data[\"계약날짜\"].reset_index()\n",
    "make_date_test = all_data[\"계약날짜\"].reset_index()\n",
    "\n",
    "make_date['계약날짜'] = make_date['계약날짜'].astype('str')\n",
    "make_date_test['계약날짜'] = make_date_test['계약날짜'].astype('str')\n",
    "\n",
    "m02 = pd.merge(make_date, g02, how = 'cross')\n",
    "m03 = pd.merge(make_date, g03, how = 'cross')\n",
    "m03_test = pd.merge(make_date_test, g03, how = 'cross')\n",
    "m04 = pd.merge(make_date, g04, how = 'cross')\n",
    "m02['계약날짜'] = pd.to_datetime(m02['계약날짜'])\n",
    "m03['계약날짜'] = pd.to_datetime(m03['계약날짜'])\n",
    "m03_test['계약날짜'] = pd.to_datetime(m03_test['계약날짜'])\n",
    "m04['계약날짜'] = pd.to_datetime(m04['계약날짜'])\n",
    "m02['현재와시작일차이'] = (m02['계약날짜'] - m02['날짜열_11개월후']).dt.days\n",
    "m02['현재와종료일차이'] = (m02['날짜열_11개월후_종료일'] - m02['계약날짜']).dt.days\n",
    "m02['체크'] = m02['현재와시작일차이']*m02['현재와종료일차이']\n",
    "\n",
    "m03['현재와시작일차이'] = (m03['계약날짜'] - m03['날짜열_1년후']).dt.days\n",
    "m03['현재와종료일차이'] = (m03['날짜열_1년후_종료일'] - m03['계약날짜']).dt.days\n",
    "m03['체크'] = m03['현재와시작일차이']*m03['현재와종료일차이']\n",
    "\n",
    "m03_test['현재와시작일차이'] = (m03_test['계약날짜'] - m03_test['날짜열_1년후']).dt.days\n",
    "m03_test['현재와종료일차이'] = (m03_test['날짜열_1년후_종료일'] - m03_test['계약날짜']).dt.days\n",
    "m03_test['체크'] = m03_test['현재와시작일차이']*m03_test['현재와종료일차이']\n",
    "\n",
    "m04['현재와시작일차이'] = (m04['계약날짜'] - m04['날짜열_13개월후']).dt.days\n",
    "m04['현재와종료일차이'] = (m04['날짜열_13개월후_종료일'] - m04['계약날짜']).dt.days\n",
    "m04['체크'] = m04['현재와시작일차이']*m04['현재와종료일차이']\n",
    "\n",
    "m02[m02['체크'] >= 0]\n",
    "\n",
    "m03[m03['체크'] >= 0]\n",
    "m03_test[m03_test['체크'] >= 0]\n",
    "\n",
    "m04[m04['체크'] >= 0]\n",
    "\n",
    "m02.set_index('index', inplace=True)\n",
    "\n",
    "m03.set_index('index', inplace=True)\n",
    "m03_test.set_index('index', inplace=True)\n",
    "\n",
    "m04.set_index('index', inplace=True)\n",
    "# train3 = pd.concat([train2, m02['11개월전_금리'][m02['체크'] >= 0]], axis = 1)\n",
    "\n",
    "all_data = pd.concat([all_data, m03['1년전_금리'][m03['체크'] >= 0]], axis = 1)\n",
    "# test = pd.concat([all_data, m03_test['1년전_금리'][m03_test['체크'] >= 0]], axis = 1)\n",
    "\n",
    "# train3 = pd.concat([train2, m04['13개월전_금리'][m04['체크'] >= 0]], axis = 1)\n"
   ]
  },
  {
   "cell_type": "code",
   "execution_count": null,
   "metadata": {},
   "outputs": [],
   "source": [
    "# 결과 데이터프레임을 CSV 파일로 저장\n",
    "output_filename = \"../data/interest_rate.csv\"\n",
    "all_data.to_csv(output_filename, index=False)\n",
    "\n",
    "print(f\"Data saved to {output_filename}\")"
   ]
  },
  {
   "cell_type": "code",
   "execution_count": null,
   "metadata": {},
   "outputs": [],
   "source": [
    "all_data"
   ]
  },
  {
   "cell_type": "markdown",
   "metadata": {},
   "source": [
    "### 8. 연월 변수 추가"
   ]
  },
  {
   "cell_type": "code",
   "execution_count": null,
   "metadata": {},
   "outputs": [],
   "source": [
    "all_data['계약년'] = all_data['계약날짜'].dt.year\n",
    "all_data['계약월'] = all_data['계약날짜'].dt.month"
   ]
  },
  {
   "cell_type": "code",
   "execution_count": null,
   "metadata": {},
   "outputs": [],
   "source": [
    "# 결과 데이터프레임을 CSV 파일로 저장\n",
    "output_filename = \"../data/all_data.csv\"\n",
    "all_data.to_csv(output_filename, index=False)\n",
    "\n",
    "print(f\"Data saved to {output_filename}\")"
   ]
  }
 ],
 "metadata": {
  "kernelspec": {
   "display_name": "base",
   "language": "python",
   "name": "python3"
  },
  "language_info": {
   "codemirror_mode": {
    "name": "ipython",
    "version": 3
   },
   "file_extension": ".py",
   "mimetype": "text/x-python",
   "name": "python",
   "nbconvert_exporter": "python",
   "pygments_lexer": "ipython3",
   "version": "3.10.13"
  }
 },
 "nbformat": 4,
 "nbformat_minor": 2
}
