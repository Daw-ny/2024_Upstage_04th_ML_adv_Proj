{
 "cells": [
  {
   "cell_type": "markdown",
   "metadata": {},
   "source": [
    "# 1. Library Import"
   ]
  },
  {
   "cell_type": "code",
   "execution_count": 364,
   "metadata": {},
   "outputs": [],
   "source": [
    "# visualization\n",
    "import matplotlib.pyplot as plt\n",
    "import matplotlib.font_manager as fm\n",
    "fe = fm.FontEntry(\n",
    "    fname=r'/usr/share/fonts/truetype/nanum/NanumGothic.ttf', # ttf 파일이 저장되어 있는 경로\n",
    "    name='NanumBarunGothic')                        # 이 폰트의 원하는 이름 설정\n",
    "fm.fontManager.ttflist.insert(0, fe)              # Matplotlib에 폰트 추가\n",
    "plt.rcParams.update({'font.size': 10, 'font.family': 'NanumBarunGothic'}) # 폰트 설정\n",
    "plt.rc('font', family='NanumBarunGothic')\n",
    "import seaborn as sns\n",
    "\n",
    "# utils\n",
    "import pandas as pd\n",
    "import numpy as np\n",
    "from tqdm import tqdm\n",
    "import pickle\n",
    "import warnings;warnings.filterwarnings('ignore')\n",
    "\n",
    "# 소수점 둘째자리까지 표시하도록 설정 (원하는 자릿수로 변경 가능)\n",
    "pd.options.display.float_format = '{:.2f}'.format  \n",
    "\n",
    "\n",
    "# Model\n",
    "from sklearn.preprocessing import LabelEncoder\n",
    "from sklearn.model_selection import train_test_split\n",
    "from sklearn.metrics import mean_squared_error\n",
    "from sklearn.ensemble import RandomForestRegressor\n",
    "from sklearn import metrics\n",
    "\n",
    "import eli5\n",
    "from eli5.sklearn import PermutationImportance\n",
    "\n",
    "## Optuna tunning for XGB\n",
    "from xgboost import XGBRegressor\n",
    "from sklearn.model_selection import cross_val_score\n",
    "import optuna\n",
    "\n",
    "## Optuna visulization\n",
    "import plotly.express as px\n",
    "import plotly.graph_objects as go\n",
    "import plotly\n",
    "\n",
    "# 열의 개수를 출력할 때 모두 표시하도록 설정\n",
    "pd.set_option('display.max_columns', None)\n"
   ]
  },
  {
   "cell_type": "markdown",
   "metadata": {},
   "source": [
    "# 2. Data Loading"
   ]
  },
  {
   "cell_type": "code",
   "execution_count": 390,
   "metadata": {},
   "outputs": [],
   "source": [
    "# 필요한 데이터를 load 하겠습니다. 경로는 환경에 맞게 지정해주면 됩니다.\n",
    "train_path = '../data/train2.csv'\n",
    "test_path  = '../data/test2.csv'\n",
    "train = pd.read_csv(train_path)\n",
    "test = pd.read_csv(test_path)"
   ]
  },
  {
   "cell_type": "code",
   "execution_count": 391,
   "metadata": {},
   "outputs": [],
   "source": [
    "train1 = train.copy()\n",
    "test1 = test.copy()"
   ]
  },
  {
   "cell_type": "code",
   "execution_count": 392,
   "metadata": {},
   "outputs": [],
   "source": [
    "subway_bus = pd.read_csv('../data/subway_bus.csv')"
   ]
  },
  {
   "cell_type": "code",
   "execution_count": 393,
   "metadata": {},
   "outputs": [
    {
     "name": "stdout",
     "output_type": "stream",
     "text": [
      "<class 'pandas.core.frame.DataFrame'>\n",
      "RangeIndex: 8955 entries, 0 to 8954\n",
      "Data columns (total 10 columns):\n",
      " #   Column    Non-Null Count  Dtype  \n",
      "---  ------    --------------  -----  \n",
      " 0   지번주소      8955 non-null   object \n",
      " 1   유동승객수     8955 non-null   int64  \n",
      " 2   역까지_거리    8955 non-null   float64\n",
      " 3   좌표X뉴      8955 non-null   float64\n",
      " 4   좌표Y뉴      8955 non-null   float64\n",
      " 5   1차역세권     8955 non-null   int64  \n",
      " 6   2차역세권     8955 non-null   int64  \n",
      " 7   X좌표       8955 non-null   float64\n",
      " 8   Y좌표       8955 non-null   float64\n",
      " 9   정류장까지_거리  8955 non-null   float64\n",
      "dtypes: float64(6), int64(3), object(1)\n",
      "memory usage: 699.7+ KB\n"
     ]
    }
   ],
   "source": [
    "subway_bus.info()"
   ]
  },
  {
   "cell_type": "code",
   "execution_count": 394,
   "metadata": {},
   "outputs": [],
   "source": [
    "subway_bus = subway_bus.drop(['좌표X뉴', '좌표Y뉴'], axis = 1)"
   ]
  },
  {
   "cell_type": "code",
   "execution_count": 395,
   "metadata": {},
   "outputs": [],
   "source": [
    "subway_bus.rename(columns={'지번주소':'FULL_ADRES','유동승객수':'FLOATING_POPULATION','역까지_거리':'SUBWAY_DIST',\n",
    "                      '1차역세권':'1STSUBAREA','2차역세권':'2NDSUBAREA','정류장까지_거리':'BUS_DIST','X좌표':'X_CODE','Y좌표':'Y_CODE'\n",
    "                      },inplace=True)"
   ]
  },
  {
   "cell_type": "code",
   "execution_count": 396,
   "metadata": {},
   "outputs": [],
   "source": [
    "subway_bus = subway_bus.drop(['FLOATING_POPULATION', 'SUBWAY_DIST','1STSUBAREA','2NDSUBAREA','BUS_DIST'], axis = 1)\n",
    "train1 = train1.drop(['X_CODE','Y_CODE'], axis = 1)\n",
    "test1 = test1.drop(['X_CODE','Y_CODE'], axis = 1)"
   ]
  },
  {
   "cell_type": "code",
   "execution_count": 398,
   "metadata": {},
   "outputs": [],
   "source": [
    "train1 = pd.merge(train1,subway_bus,how='left',on='FULL_ADRES')\n",
    "test1 = pd.merge(test1,subway_bus,how='left',on='FULL_ADRES')"
   ]
  },
  {
   "cell_type": "markdown",
   "metadata": {},
   "source": [
    "# 3. Calculate Bridge to Apt distance using Haversine Formula"
   ]
  },
  {
   "cell_type": "markdown",
   "metadata": {},
   "source": [
    "하버사인 공식을 사용하여 한강에 있는 대교들과 아파트 사이의 거리를 구해서 새로운 Feature를 만들었습니다.  \n",
    "해당 feature는 27개의 대교와 모든 아파트 사이의 거리를 구하고 아파트 마다 가장 짧은 거리를 'BRIDGE_DIST'에 입력될 수 있도록 코드를 짜서 처리하였습니다.  "
   ]
  },
  {
   "cell_type": "code",
   "execution_count": 405,
   "metadata": {},
   "outputs": [],
   "source": [
    "# data 읽어오기 \n",
    "bridge = pd.read_csv('../data/bridge.csv')"
   ]
  },
  {
   "cell_type": "code",
   "execution_count": 406,
   "metadata": {},
   "outputs": [
    {
     "name": "stdout",
     "output_type": "stream",
     "text": [
      "<class 'pandas.core.frame.DataFrame'>\n",
      "RangeIndex: 27 entries, 0 to 26\n",
      "Data columns (total 3 columns):\n",
      " #   Column  Non-Null Count  Dtype  \n",
      "---  ------  --------------  -----  \n",
      " 0   대교      27 non-null     object \n",
      " 1   좌표X     27 non-null     float64\n",
      " 2   좌표Y     27 non-null     float64\n",
      "dtypes: float64(2), object(1)\n",
      "memory usage: 776.0+ bytes\n"
     ]
    }
   ],
   "source": [
    "bridge.info()"
   ]
  },
  {
   "cell_type": "code",
   "execution_count": 407,
   "metadata": {},
   "outputs": [],
   "source": [
    "bridge1 = bridge.copy()"
   ]
  },
  {
   "cell_type": "code",
   "execution_count": 408,
   "metadata": {},
   "outputs": [],
   "source": [
    "train2 = train1[['X_CODE','Y_CODE','FULL_ADRES']]\n",
    "test2 = test1[['X_CODE','Y_CODE','FULL_ADRES']]"
   ]
  },
  {
   "cell_type": "code",
   "execution_count": 409,
   "metadata": {},
   "outputs": [],
   "source": [
    "# 8943개\n",
    "train2 = train2.drop_duplicates('FULL_ADRES')\n",
    "test2 = test2.drop_duplicates('FULL_ADRES')"
   ]
  },
  {
   "cell_type": "code",
   "execution_count": 410,
   "metadata": {},
   "outputs": [],
   "source": [
    "# 공통된 column을 기준으로 train2와 test2 합치기\n",
    "data = pd.concat([train2, test2], ignore_index=True)"
   ]
  },
  {
   "cell_type": "code",
   "execution_count": 411,
   "metadata": {},
   "outputs": [],
   "source": [
    "data = data.drop_duplicates('FULL_ADRES')"
   ]
  },
  {
   "cell_type": "code",
   "execution_count": 412,
   "metadata": {},
   "outputs": [],
   "source": [
    "veryhard = pd.merge(data,bridge1, how='cross')"
   ]
  },
  {
   "cell_type": "code",
   "execution_count": 413,
   "metadata": {},
   "outputs": [],
   "source": [
    "veryhard = veryhard.drop(columns=['대교'])"
   ]
  },
  {
   "cell_type": "code",
   "execution_count": 414,
   "metadata": {},
   "outputs": [],
   "source": [
    "# 하버사인 거리\n",
    "lat1 = np.deg2rad(veryhard['X_CODE'])\n",
    "lat2 = np.deg2rad(veryhard['좌표X'])\n",
    "lon1 = np.deg2rad(veryhard['Y_CODE'])\n",
    "lon2 = np.deg2rad(veryhard['좌표Y'])\n",
    "dlat = lat2 - lat1\n",
    "dlon = lon1 - lon2\n",
    "a = np.sin(dlat/2)**2 + np.cos(lat1) * np.cos(lat2) * np.sin(dlon/2)**2\n",
    "c = 2 * np.arcsin(np.sqrt(a))"
   ]
  },
  {
   "cell_type": "code",
   "execution_count": 415,
   "metadata": {},
   "outputs": [],
   "source": [
    "# 미터단위 거리 구하기\n",
    "veryhard['BRIDGE_DIST'] = c * 6371 * 1000"
   ]
  },
  {
   "cell_type": "code",
   "execution_count": 416,
   "metadata": {},
   "outputs": [],
   "source": [
    "min_value = veryhard.loc[veryhard.groupby('FULL_ADRES')['BRIDGE_DIST'].idxmin()][['X_CODE','Y_CODE','좌표X','좌표Y','BRIDGE_DIST','FULL_ADRES']]"
   ]
  },
  {
   "cell_type": "code",
   "execution_count": 417,
   "metadata": {},
   "outputs": [],
   "source": [
    "min_value = min_value[['BRIDGE_DIST','FULL_ADRES']]"
   ]
  },
  {
   "cell_type": "code",
   "execution_count": 418,
   "metadata": {},
   "outputs": [
    {
     "name": "stdout",
     "output_type": "stream",
     "text": [
      "<class 'pandas.core.frame.DataFrame'>\n",
      "Int64Index: 8955 entries, 168984 to 168426\n",
      "Data columns (total 2 columns):\n",
      " #   Column       Non-Null Count  Dtype  \n",
      "---  ------       --------------  -----  \n",
      " 0   BRIDGE_DIST  8955 non-null   float64\n",
      " 1   FULL_ADRES   8955 non-null   object \n",
      "dtypes: float64(1), object(1)\n",
      "memory usage: 209.9+ KB\n"
     ]
    }
   ],
   "source": [
    "min_value.info()"
   ]
  },
  {
   "cell_type": "code",
   "execution_count": 2,
   "metadata": {},
   "outputs": [],
   "source": [
    "# 한강 대교와 아파트 사이의 거리 구한 값을 저장하기\n",
    " \n",
    "min_value.to_csv('../data/아파트별 한강대교까지 거리.csv')"
   ]
  },
  {
   "cell_type": "code",
   "execution_count": 420,
   "metadata": {},
   "outputs": [],
   "source": [
    "# Data merge\n",
    "\n",
    "train3 = pd.merge(train1, min_value, how = 'left', on = 'FULL_ADRES')\n",
    "test3 = pd.merge(test1, min_value, how = 'left', on = 'FULL_ADRES')"
   ]
  },
  {
   "cell_type": "markdown",
   "metadata": {},
   "source": [
    "# 4. Merge 전세가율 "
   ]
  },
  {
   "cell_type": "code",
   "execution_count": 425,
   "metadata": {},
   "outputs": [],
   "source": [
    "lease_rate = pd.read_csv('../data/lease_rate.csv',encoding='cp949')"
   ]
  },
  {
   "cell_type": "code",
   "execution_count": 426,
   "metadata": {},
   "outputs": [],
   "source": [
    "lease_rate.rename(columns={'구':'gu','계약년월':'CONTR_YEAR_MONTH',\n",
    "                           '전세가율':'LEASE_RATE'},inplace=True)"
   ]
  },
  {
   "cell_type": "code",
   "execution_count": 427,
   "metadata": {},
   "outputs": [
    {
     "name": "stdout",
     "output_type": "stream",
     "text": [
      "<class 'pandas.core.frame.DataFrame'>\n",
      "RangeIndex: 3150 entries, 0 to 3149\n",
      "Data columns (total 3 columns):\n",
      " #   Column            Non-Null Count  Dtype  \n",
      "---  ------            --------------  -----  \n",
      " 0   CONTR_YEAR_MONTH  3150 non-null   int64  \n",
      " 1   LEASE_RATE        3150 non-null   float64\n",
      " 2   gu                3150 non-null   object \n",
      "dtypes: float64(1), int64(1), object(1)\n",
      "memory usage: 74.0+ KB\n"
     ]
    }
   ],
   "source": [
    "lease_rate.info()"
   ]
  },
  {
   "cell_type": "code",
   "execution_count": 428,
   "metadata": {},
   "outputs": [],
   "source": [
    "# train2['gu']가 같고, train2['contract_year']가 lease_rate에 있는 연도인 경우 merge\n",
    "train3 = pd.merge(train3, lease_rate, how='left', on=['gu', 'CONTR_YEAR_MONTH'])\n",
    "test3 = pd.merge(test3, lease_rate, how='left', on=['gu', 'CONTR_YEAR_MONTH'])"
   ]
  },
  {
   "cell_type": "markdown",
   "metadata": {},
   "source": [
    "# 5. Merge interest_rate / 금리"
   ]
  },
  {
   "cell_type": "code",
   "execution_count": 429,
   "metadata": {},
   "outputs": [],
   "source": [
    "interest_rate = pd.read_csv('../data/interest_rate.csv',encoding='cp949')"
   ]
  },
  {
   "cell_type": "code",
   "execution_count": 430,
   "metadata": {},
   "outputs": [],
   "source": [
    "interest_rate.rename(columns={'contract':'CONTR'},inplace=True)"
   ]
  },
  {
   "cell_type": "markdown",
   "metadata": {},
   "source": [
    "### 5-1. Making 'CONTR' Feature / 계약 년 월 일"
   ]
  },
  {
   "cell_type": "code",
   "execution_count": 431,
   "metadata": {},
   "outputs": [],
   "source": [
    "# contract_day가 NaN이거나 소수점이 있는 경우를 고려하여 처리\n",
    "test3['CONTR_DAY'] = test3['CONTR_DAY'].fillna(0).astype(str).str.replace(r'\\.0$', '').str.zfill(2)\n",
    "train3['CONTR_DAY'] = train3['CONTR_DAY'].fillna(0).astype(str).str.replace(r'\\.0$', '').str.zfill(2)\n",
    "\n",
    "# contract 열 생성\n",
    "test3['CONTR'] = test3['CONTR_YEAR_MONTH'].astype(int).astype(str) + test3['CONTR_DAY']\n",
    "train3['CONTR'] = train3['CONTR_YEAR_MONTH'].astype(int).astype(str) + train3['CONTR_DAY']"
   ]
  },
  {
   "cell_type": "code",
   "execution_count": 432,
   "metadata": {},
   "outputs": [],
   "source": [
    "test3['CONTR'] = test3['CONTR'].astype(int)\n",
    "train3['CONTR'] = train3['CONTR'].astype(int)"
   ]
  },
  {
   "cell_type": "code",
   "execution_count": 433,
   "metadata": {},
   "outputs": [
    {
     "name": "stdout",
     "output_type": "stream",
     "text": [
      "<class 'pandas.core.frame.DataFrame'>\n",
      "Int64Index: 1118822 entries, 0 to 1118821\n",
      "Data columns (total 46 columns):\n",
      " #   Column                  Non-Null Count    Dtype  \n",
      "---  ------                  --------------    -----  \n",
      " 0   ADRES                   1118822 non-null  object \n",
      " 1   LOT_NO                  1118822 non-null  object \n",
      " 2   APT_NM                  1116696 non-null  object \n",
      " 3   EXCL_AREA_SQM           1118822 non-null  float64\n",
      " 4   CONTR_YEAR_MONTH        1118822 non-null  int64  \n",
      " 5   CONTR_DAY               1118822 non-null  object \n",
      " 6   FLOOR                   1118822 non-null  int64  \n",
      " 7   BUILD_YEAR              1118822 non-null  int64  \n",
      " 8   ADRES_DORO              1118822 non-null  object \n",
      " 9   CANCEL_REASON_DATE      5983 non-null     float64\n",
      " 10  TRADE_TYPE              32371 non-null    object \n",
      " 11  AGNCY_LOCATION          29241 non-null    object \n",
      " 12  CODEAPTNM               248131 non-null   object \n",
      " 13  HSHLDR_TY               249259 non-null   object \n",
      " 14  CRRDPR_TY               248932 non-null   object \n",
      " 15  HEAT_MTHD               249259 non-null   object \n",
      " 16  ALL_DONG_CO             248192 non-null   float64\n",
      " 17  ALL_HSHLD_CO            249259 non-null   float64\n",
      " 18  CO_WO                   247764 non-null   object \n",
      " 19  CO_EX                   247568 non-null   object \n",
      " 20  TOTAR                   249259 non-null   float64\n",
      " 21  PRIVAREA                249214 non-null   float64\n",
      " 22  KAPTMPAREA60            249214 non-null   float64\n",
      " 23  KAPTMPAREA85            249214 non-null   float64\n",
      " 24  KAPTMPAREA135           249214 non-null   float64\n",
      " 25  KAPTMPAREA136           327 non-null      float64\n",
      " 26  HSHLD_ELCTY_CNTRCT_MTH  240075 non-null   object \n",
      " 27  BU_AR                   249108 non-null   float64\n",
      " 28  CNT_PA                  249108 non-null   float64\n",
      " 29  GUBUN                   249259 non-null   object \n",
      " 30  USE_RQSTDT              249197 non-null   object \n",
      " 31  target                  1118822 non-null  int64  \n",
      " 32  gu                      1118822 non-null  object \n",
      " 33  dong                    1118822 non-null  object \n",
      " 34  FULL_ADRES              1118822 non-null  object \n",
      " 35  dongAPT_NM              1116696 non-null  object \n",
      " 36  FLOATING_POPULATION     1118822 non-null  int64  \n",
      " 37  SUBWAY_DIST             1118822 non-null  float64\n",
      " 38  1STSUBAREA              1118822 non-null  int64  \n",
      " 39  2NDSUBAREA              1118822 non-null  int64  \n",
      " 40  BUS_DIST                1118822 non-null  float64\n",
      " 41  X_CODE                  1118822 non-null  float64\n",
      " 42  Y_CODE                  1118822 non-null  float64\n",
      " 43  BRIDGE_DIST             1118822 non-null  float64\n",
      " 44  LEASE_RATE              775315 non-null   float64\n",
      " 45  CONTR                   1118822 non-null  int64  \n",
      "dtypes: float64(18), int64(8), object(20)\n",
      "memory usage: 401.2+ MB\n"
     ]
    }
   ],
   "source": [
    "train3.info()"
   ]
  },
  {
   "cell_type": "markdown",
   "metadata": {},
   "source": [
    "### 5-2. 계약년월일 별 금리 데이터 붙이기"
   ]
  },
  {
   "cell_type": "code",
   "execution_count": 434,
   "metadata": {},
   "outputs": [],
   "source": [
    "train3.loc[(train3['CONTR'] >= 20060810)&(train3['CONTR'] < 20070712), 'interest_rate'] = interest_rate.loc[interest_rate['CONTR'] == 20060810, 'interest_rate'].values[0]\n",
    "train3.loc[(train3['CONTR'] >= 20070712)&(train3['CONTR'] < 20070809), 'interest_rate'] = interest_rate.loc[interest_rate['CONTR'] == 20070712, 'interest_rate'].values[0]\n",
    "train3.loc[(train3['CONTR'] >= 20070809)&(train3['CONTR'] < 20080807), 'interest_rate'] = interest_rate.loc[interest_rate['CONTR'] == 20070809, 'interest_rate'].values[0]\n",
    "train3.loc[(train3['CONTR'] >= 20080807)&(train3['CONTR'] < 20081009), 'interest_rate'] = interest_rate.loc[interest_rate['CONTR'] == 20080807, 'interest_rate'].values[0]\n",
    "train3.loc[(train3['CONTR'] >= 20081009)&(train3['CONTR'] < 20081027), 'interest_rate'] = interest_rate.loc[interest_rate['CONTR'] == 20081009, 'interest_rate'].values[0]\n",
    "train3.loc[(train3['CONTR'] >= 20081027)&(train3['CONTR'] < 20081107), 'interest_rate'] = interest_rate.loc[interest_rate['CONTR'] == 20081027, 'interest_rate'].values[0]\n",
    "train3.loc[(train3['CONTR'] >= 20081107)&(train3['CONTR'] < 20081211), 'interest_rate'] = interest_rate.loc[interest_rate['CONTR'] == 20081107, 'interest_rate'].values[0]\n",
    "train3.loc[(train3['CONTR'] >= 20081211)&(train3['CONTR'] < 20090109), 'interest_rate'] = interest_rate.loc[interest_rate['CONTR'] == 20081211, 'interest_rate'].values[0]\n",
    "train3.loc[(train3['CONTR'] >= 20090109)&(train3['CONTR'] < 20090212), 'interest_rate'] = interest_rate.loc[interest_rate['CONTR'] == 20090109, 'interest_rate'].values[0]\n",
    "train3.loc[(train3['CONTR'] >= 20090212)&(train3['CONTR'] < 20100709), 'interest_rate'] = interest_rate.loc[interest_rate['CONTR'] == 20090212, 'interest_rate'].values[0]\n",
    "train3.loc[(train3['CONTR'] >= 20100709)&(train3['CONTR'] < 20101116), 'interest_rate'] = interest_rate.loc[interest_rate['CONTR'] == 20100709, 'interest_rate'].values[0]\n",
    "train3.loc[(train3['CONTR'] >= 20101116)&(train3['CONTR'] < 20110113), 'interest_rate'] = interest_rate.loc[interest_rate['CONTR'] == 20101116, 'interest_rate'].values[0]\n",
    "train3.loc[(train3['CONTR'] >= 20110113)&(train3['CONTR'] < 20110310), 'interest_rate'] = interest_rate.loc[interest_rate['CONTR'] == 20110113, 'interest_rate'].values[0]\n",
    "train3.loc[(train3['CONTR'] >= 20110310)&(train3['CONTR'] < 20110610), 'interest_rate'] = interest_rate.loc[interest_rate['CONTR'] == 20110310, 'interest_rate'].values[0]\n",
    "train3.loc[(train3['CONTR'] >= 20110610)&(train3['CONTR'] < 20120712), 'interest_rate'] = interest_rate.loc[interest_rate['CONTR'] == 20110610, 'interest_rate'].values[0]\n",
    "train3.loc[(train3['CONTR'] >= 20120712)&(train3['CONTR'] < 20121011), 'interest_rate'] = interest_rate.loc[interest_rate['CONTR'] == 20120712, 'interest_rate'].values[0]\n",
    "train3.loc[(train3['CONTR'] >= 20121011)&(train3['CONTR'] < 20130509), 'interest_rate'] = interest_rate.loc[interest_rate['CONTR'] == 20121011, 'interest_rate'].values[0]\n",
    "train3.loc[(train3['CONTR'] >= 20130509)&(train3['CONTR'] < 20140814), 'interest_rate'] = interest_rate.loc[interest_rate['CONTR'] == 20130509, 'interest_rate'].values[0]\n",
    "train3.loc[(train3['CONTR'] >= 20140814)&(train3['CONTR'] < 20141015), 'interest_rate'] = interest_rate.loc[interest_rate['CONTR'] == 20140814, 'interest_rate'].values[0]\n",
    "train3.loc[(train3['CONTR'] >= 20141015)&(train3['CONTR'] < 20150312), 'interest_rate'] = interest_rate.loc[interest_rate['CONTR'] == 20141015, 'interest_rate'].values[0]\n",
    "train3.loc[(train3['CONTR'] >= 20150312)&(train3['CONTR'] < 20150611), 'interest_rate'] = interest_rate.loc[interest_rate['CONTR'] == 20150312, 'interest_rate'].values[0]\n",
    "train3.loc[(train3['CONTR'] >= 20150611)&(train3['CONTR'] < 20160609), 'interest_rate'] = interest_rate.loc[interest_rate['CONTR'] == 20150611, 'interest_rate'].values[0]\n",
    "train3.loc[(train3['CONTR'] >= 20160609)&(train3['CONTR'] < 20171130), 'interest_rate'] = interest_rate.loc[interest_rate['CONTR'] == 20160609, 'interest_rate'].values[0]\n",
    "train3.loc[(train3['CONTR'] >= 20171130)&(train3['CONTR'] < 20181130), 'interest_rate'] = interest_rate.loc[interest_rate['CONTR'] == 20171130, 'interest_rate'].values[0]\n",
    "train3.loc[(train3['CONTR'] >= 20181130)&(train3['CONTR'] < 20190718), 'interest_rate'] = interest_rate.loc[interest_rate['CONTR'] == 20181130, 'interest_rate'].values[0]\n",
    "train3.loc[(train3['CONTR'] >= 20190718)&(train3['CONTR'] < 20191016), 'interest_rate'] = interest_rate.loc[interest_rate['CONTR'] == 20190718, 'interest_rate'].values[0]\n",
    "train3.loc[(train3['CONTR'] >= 20191016)&(train3['CONTR'] < 20200317), 'interest_rate'] = interest_rate.loc[interest_rate['CONTR'] == 20191016, 'interest_rate'].values[0]\n",
    "train3.loc[(train3['CONTR'] >= 20200317)&(train3['CONTR'] < 20200528), 'interest_rate'] = interest_rate.loc[interest_rate['CONTR'] == 20200317, 'interest_rate'].values[0]\n",
    "train3.loc[(train3['CONTR'] >= 20200528)&(train3['CONTR'] < 20210826), 'interest_rate'] = interest_rate.loc[interest_rate['CONTR'] == 20200528, 'interest_rate'].values[0]\n",
    "train3.loc[(train3['CONTR'] >= 20210826)&(train3['CONTR'] < 20211125), 'interest_rate'] = interest_rate.loc[interest_rate['CONTR'] == 20210826, 'interest_rate'].values[0]\n",
    "train3.loc[(train3['CONTR'] >= 20211125)&(train3['CONTR'] < 20220114), 'interest_rate'] = interest_rate.loc[interest_rate['CONTR'] == 20211125, 'interest_rate'].values[0]\n",
    "train3.loc[(train3['CONTR'] >= 20220114)&(train3['CONTR'] < 20220414), 'interest_rate'] = interest_rate.loc[interest_rate['CONTR'] == 20220114, 'interest_rate'].values[0]\n",
    "train3.loc[(train3['CONTR'] >= 20220414)&(train3['CONTR'] < 20220526), 'interest_rate'] = interest_rate.loc[interest_rate['CONTR'] == 20220414, 'interest_rate'].values[0]\n",
    "train3.loc[(train3['CONTR'] >= 20220526)&(train3['CONTR'] < 20220713), 'interest_rate'] = interest_rate.loc[interest_rate['CONTR'] == 20220526, 'interest_rate'].values[0]\n",
    "train3.loc[(train3['CONTR'] >= 20220713)&(train3['CONTR'] < 20220825), 'interest_rate'] = interest_rate.loc[interest_rate['CONTR'] == 20220713, 'interest_rate'].values[0]\n",
    "train3.loc[(train3['CONTR'] >= 20220825)&(train3['CONTR'] < 20221012), 'interest_rate'] = interest_rate.loc[interest_rate['CONTR'] == 20220825, 'interest_rate'].values[0]\n",
    "train3.loc[(train3['CONTR'] >= 20221012)&(train3['CONTR'] < 20221124), 'interest_rate'] = interest_rate.loc[interest_rate['CONTR'] == 20221012, 'interest_rate'].values[0]\n",
    "train3.loc[(train3['CONTR'] >= 20221124)&(train3['CONTR'] < 20230113), 'interest_rate'] = interest_rate.loc[interest_rate['CONTR'] == 20221124, 'interest_rate'].values[0]\n",
    "train3.loc[(train3['CONTR'] >= 20230113), 'interest_rate'] = interest_rate.loc[interest_rate['CONTR'] == 20230113, 'interest_rate'].values[0]\n"
   ]
  },
  {
   "cell_type": "code",
   "execution_count": 435,
   "metadata": {},
   "outputs": [],
   "source": [
    "test3.loc[(test3['CONTR'] >= 20060810)&(test3['CONTR'] < 20070712), 'interest_rate'] = interest_rate.loc[interest_rate['CONTR'] == 20060810, 'interest_rate'].values[0]\n",
    "test3.loc[(test3['CONTR'] >= 20070712)&(test3['CONTR'] < 20070809), 'interest_rate'] = interest_rate.loc[interest_rate['CONTR'] == 20070712, 'interest_rate'].values[0]\n",
    "test3.loc[(test3['CONTR'] >= 20070809)&(test3['CONTR'] < 20080807), 'interest_rate'] = interest_rate.loc[interest_rate['CONTR'] == 20070809, 'interest_rate'].values[0]\n",
    "test3.loc[(test3['CONTR'] >= 20080807)&(test3['CONTR'] < 20081009), 'interest_rate'] = interest_rate.loc[interest_rate['CONTR'] == 20080807, 'interest_rate'].values[0]\n",
    "test3.loc[(test3['CONTR'] >= 20081009)&(test3['CONTR'] < 20081027), 'interest_rate'] = interest_rate.loc[interest_rate['CONTR'] == 20081009, 'interest_rate'].values[0]\n",
    "test3.loc[(test3['CONTR'] >= 20081027)&(test3['CONTR'] < 20081107), 'interest_rate'] = interest_rate.loc[interest_rate['CONTR'] == 20081027, 'interest_rate'].values[0]\n",
    "test3.loc[(test3['CONTR'] >= 20081107)&(test3['CONTR'] < 20081211), 'interest_rate'] = interest_rate.loc[interest_rate['CONTR'] == 20081107, 'interest_rate'].values[0]\n",
    "test3.loc[(test3['CONTR'] >= 20081211)&(test3['CONTR'] < 20090109), 'interest_rate'] = interest_rate.loc[interest_rate['CONTR'] == 20081211, 'interest_rate'].values[0]\n",
    "test3.loc[(test3['CONTR'] >= 20090109)&(test3['CONTR'] < 20090212), 'interest_rate'] = interest_rate.loc[interest_rate['CONTR'] == 20090109, 'interest_rate'].values[0]\n",
    "test3.loc[(test3['CONTR'] >= 20090212)&(test3['CONTR'] < 20100709), 'interest_rate'] = interest_rate.loc[interest_rate['CONTR'] == 20090212, 'interest_rate'].values[0]\n",
    "test3.loc[(test3['CONTR'] >= 20100709)&(test3['CONTR'] < 20101116), 'interest_rate'] = interest_rate.loc[interest_rate['CONTR'] == 20100709, 'interest_rate'].values[0]\n",
    "test3.loc[(test3['CONTR'] >= 20101116)&(test3['CONTR'] < 20110113), 'interest_rate'] = interest_rate.loc[interest_rate['CONTR'] == 20101116, 'interest_rate'].values[0]\n",
    "test3.loc[(test3['CONTR'] >= 20110113)&(test3['CONTR'] < 20110310), 'interest_rate'] = interest_rate.loc[interest_rate['CONTR'] == 20110113, 'interest_rate'].values[0]\n",
    "test3.loc[(test3['CONTR'] >= 20110310)&(test3['CONTR'] < 20110610), 'interest_rate'] = interest_rate.loc[interest_rate['CONTR'] == 20110310, 'interest_rate'].values[0]\n",
    "test3.loc[(test3['CONTR'] >= 20110610)&(test3['CONTR'] < 20120712), 'interest_rate'] = interest_rate.loc[interest_rate['CONTR'] == 20110610, 'interest_rate'].values[0]\n",
    "test3.loc[(test3['CONTR'] >= 20120712)&(test3['CONTR'] < 20121011), 'interest_rate'] = interest_rate.loc[interest_rate['CONTR'] == 20120712, 'interest_rate'].values[0]\n",
    "test3.loc[(test3['CONTR'] >= 20121011)&(test3['CONTR'] < 20130509), 'interest_rate'] = interest_rate.loc[interest_rate['CONTR'] == 20121011, 'interest_rate'].values[0]\n",
    "test3.loc[(test3['CONTR'] >= 20130509)&(test3['CONTR'] < 20140814), 'interest_rate'] = interest_rate.loc[interest_rate['CONTR'] == 20130509, 'interest_rate'].values[0]\n",
    "test3.loc[(test3['CONTR'] >= 20140814)&(test3['CONTR'] < 20141015), 'interest_rate'] = interest_rate.loc[interest_rate['CONTR'] == 20140814, 'interest_rate'].values[0]\n",
    "test3.loc[(test3['CONTR'] >= 20141015)&(test3['CONTR'] < 20150312), 'interest_rate'] = interest_rate.loc[interest_rate['CONTR'] == 20141015, 'interest_rate'].values[0]\n",
    "test3.loc[(test3['CONTR'] >= 20150312)&(test3['CONTR'] < 20150611), 'interest_rate'] = interest_rate.loc[interest_rate['CONTR'] == 20150312, 'interest_rate'].values[0]\n",
    "test3.loc[(test3['CONTR'] >= 20150611)&(test3['CONTR'] < 20160609), 'interest_rate'] = interest_rate.loc[interest_rate['CONTR'] == 20150611, 'interest_rate'].values[0]\n",
    "test3.loc[(test3['CONTR'] >= 20160609)&(test3['CONTR'] < 20171130), 'interest_rate'] = interest_rate.loc[interest_rate['CONTR'] == 20160609, 'interest_rate'].values[0]\n",
    "test3.loc[(test3['CONTR'] >= 20171130)&(test3['CONTR'] < 20181130), 'interest_rate'] = interest_rate.loc[interest_rate['CONTR'] == 20171130, 'interest_rate'].values[0]\n",
    "test3.loc[(test3['CONTR'] >= 20181130)&(test3['CONTR'] < 20190718), 'interest_rate'] = interest_rate.loc[interest_rate['CONTR'] == 20181130, 'interest_rate'].values[0]\n",
    "test3.loc[(test3['CONTR'] >= 20190718)&(test3['CONTR'] < 20191016), 'interest_rate'] = interest_rate.loc[interest_rate['CONTR'] == 20190718, 'interest_rate'].values[0]\n",
    "test3.loc[(test3['CONTR'] >= 20191016)&(test3['CONTR'] < 20200317), 'interest_rate'] = interest_rate.loc[interest_rate['CONTR'] == 20191016, 'interest_rate'].values[0]\n",
    "test3.loc[(test3['CONTR'] >= 20200317)&(test3['CONTR'] < 20200528), 'interest_rate'] = interest_rate.loc[interest_rate['CONTR'] == 20200317, 'interest_rate'].values[0]\n",
    "test3.loc[(test3['CONTR'] >= 20200528)&(test3['CONTR'] < 20210826), 'interest_rate'] = interest_rate.loc[interest_rate['CONTR'] == 20200528, 'interest_rate'].values[0]\n",
    "test3.loc[(test3['CONTR'] >= 20210826)&(test3['CONTR'] < 20211125), 'interest_rate'] = interest_rate.loc[interest_rate['CONTR'] == 20210826, 'interest_rate'].values[0]\n",
    "test3.loc[(test3['CONTR'] >= 20211125)&(test3['CONTR'] < 20220114), 'interest_rate'] = interest_rate.loc[interest_rate['CONTR'] == 20211125, 'interest_rate'].values[0]\n",
    "test3.loc[(test3['CONTR'] >= 20220114)&(test3['CONTR'] < 20220414), 'interest_rate'] = interest_rate.loc[interest_rate['CONTR'] == 20220114, 'interest_rate'].values[0]\n",
    "test3.loc[(test3['CONTR'] >= 20220414)&(test3['CONTR'] < 20220526), 'interest_rate'] = interest_rate.loc[interest_rate['CONTR'] == 20220414, 'interest_rate'].values[0]\n",
    "test3.loc[(test3['CONTR'] >= 20220526)&(test3['CONTR'] < 20220713), 'interest_rate'] = interest_rate.loc[interest_rate['CONTR'] == 20220526, 'interest_rate'].values[0]\n",
    "test3.loc[(test3['CONTR'] >= 20220713)&(test3['CONTR'] < 20220825), 'interest_rate'] = interest_rate.loc[interest_rate['CONTR'] == 20220713, 'interest_rate'].values[0]\n",
    "test3.loc[(test3['CONTR'] >= 20220825)&(test3['CONTR'] < 20221012), 'interest_rate'] = interest_rate.loc[interest_rate['CONTR'] == 20220825, 'interest_rate'].values[0]\n",
    "test3.loc[(test3['CONTR'] >= 20221012)&(test3['CONTR'] < 20221124), 'interest_rate'] = interest_rate.loc[interest_rate['CONTR'] == 20221012, 'interest_rate'].values[0]\n",
    "test3.loc[(test3['CONTR'] >= 20221124)&(test3['CONTR'] < 20230113), 'interest_rate'] = interest_rate.loc[interest_rate['CONTR'] == 20221124, 'interest_rate'].values[0]\n",
    "test3.loc[(test3['CONTR'] >= 20230113), 'interest_rate'] = interest_rate.loc[interest_rate['CONTR'] == 20230113, 'interest_rate'].values[0]\n"
   ]
  },
  {
   "cell_type": "code",
   "execution_count": 436,
   "metadata": {},
   "outputs": [
    {
     "data": {
      "text/plain": [
       "19"
      ]
     },
     "execution_count": 436,
     "metadata": {},
     "output_type": "execute_result"
    }
   ],
   "source": [
    "# train3[(train3['CONTR'] >= before) & (train3['CONTR'] < contract)]\n",
    "# len(train3['interest_rate'].unique().tolist())\n",
    "len(interest_rate['interest_rate'].unique().tolist())"
   ]
  },
  {
   "cell_type": "markdown",
   "metadata": {},
   "source": [
    "# 6. Merge GDP"
   ]
  },
  {
   "cell_type": "code",
   "execution_count": 437,
   "metadata": {},
   "outputs": [],
   "source": [
    "gdp = pd.read_csv('../data/gdp.csv',encoding='cp949')"
   ]
  },
  {
   "cell_type": "code",
   "execution_count": 438,
   "metadata": {},
   "outputs": [
    {
     "name": "stdout",
     "output_type": "stream",
     "text": [
      "<class 'pandas.core.frame.DataFrame'>\n",
      "RangeIndex: 68 entries, 0 to 67\n",
      "Data columns (total 3 columns):\n",
      " #   Column            Non-Null Count  Dtype  \n",
      "---  ------            --------------  -----  \n",
      " 0   CONTR_YEAR_MONTH  68 non-null     int64  \n",
      " 1   real_gdp          68 non-null     float64\n",
      " 2   nominal_gdp       68 non-null     object \n",
      "dtypes: float64(1), int64(1), object(1)\n",
      "memory usage: 1.7+ KB\n"
     ]
    }
   ],
   "source": [
    "gdp.info()"
   ]
  },
  {
   "cell_type": "code",
   "execution_count": 439,
   "metadata": {},
   "outputs": [
    {
     "data": {
      "text/plain": [
       "array([200612, 200703, 200706, 200709, 200712, 200803, 200806, 200809,\n",
       "       200812, 200903, 200906, 200909, 200912, 201003, 201006, 201009,\n",
       "       201012, 201103, 201106, 201109, 201112, 201203, 201206, 201209,\n",
       "       201212, 201303, 201306, 201309, 201312, 201403, 201406, 201409,\n",
       "       201412, 201503, 201506, 201509, 201512, 201603, 201606, 201609,\n",
       "       201612, 201703, 201706, 201709, 201712, 201803, 201806, 201809,\n",
       "       201812, 201903, 201906, 201909, 201912, 202003, 202006, 202009,\n",
       "       202012, 202103, 202106, 202109, 202112, 202203, 202206, 202209,\n",
       "       202212, 202303, 202306, 202309])"
      ]
     },
     "execution_count": 439,
     "metadata": {},
     "output_type": "execute_result"
    }
   ],
   "source": [
    "gdp['CONTR_YEAR_MONTH'].unique()"
   ]
  },
  {
   "cell_type": "markdown",
   "metadata": {},
   "source": [
    "### 6-1. 일자에 맞는 GDP 값 merge"
   ]
  },
  {
   "cell_type": "code",
   "execution_count": 440,
   "metadata": {},
   "outputs": [],
   "source": [
    "# 'contract_year' 값을 정수로 변환\n",
    "train3['CONTR_YEAR_MONTH'] = train3['CONTR_YEAR_MONTH'].astype(int)\n",
    "\n",
    "contract_years = sorted([200612, 200703, 200706, 200709, 200712, 200803, 200806, 200809,\n",
    "       200812, 200903, 200906, 200909, 200912, 201003, 201006, 201009,\n",
    "       201012, 201103, 201106, 201109, 201112, 201203, 201206, 201209,\n",
    "       201212, 201303, 201306, 201309, 201312, 201403, 201406, 201409,\n",
    "       201412, 201503, 201506, 201509, 201512, 201603, 201606, 201609,\n",
    "       201612, 201703, 201706, 201709, 201712, 201803, 201806, 201809,\n",
    "       201812, 201903, 201906, 201909, 201912, 202003, 202006, 202009,\n",
    "       202012, 202103, 202106, 202109, 202112, 202203, 202206, 202209,\n",
    "       202212, 202303, 202306, 202309])\n",
    "\n",
    "before = contract_years[0]\n",
    "# 조건에 따라 'gdp' 값 대입\n",
    "for contract_year in contract_years[1:]:\n",
    "    condition = (train3['CONTR_YEAR_MONTH'] > before) & (train3['CONTR_YEAR_MONTH'] <= contract_year)\n",
    "    gdp_values = gdp[gdp['CONTR_YEAR_MONTH'] == contract_year][['real_gdp','nominal_gdp']].values\n",
    "    train3.loc[condition, ['real_gdp', 'nominal_gdp']] = gdp_values\n",
    "    before = contract_year\n",
    "# 조건에 따라 'gdp' 값 대입\n",
    "for contract_year in contract_years[1:]:\n",
    "    condition = (test3['CONTR_YEAR_MONTH'] > before) & (test3['CONTR_YEAR_MONTH'] <= contract_year)\n",
    "    gdp_values = gdp[gdp['CONTR_YEAR_MONTH'] == contract_year][['real_gdp','nominal_gdp']].values\n",
    "    test3.loc[condition, ['real_gdp', 'nominal_gdp']] = gdp_values\n",
    "    before = contract_year"
   ]
  },
  {
   "cell_type": "code",
   "execution_count": 441,
   "metadata": {},
   "outputs": [
    {
     "name": "stdout",
     "output_type": "stream",
     "text": [
      "<class 'pandas.core.frame.DataFrame'>\n",
      "Int64Index: 1118822 entries, 0 to 1118821\n",
      "Data columns (total 49 columns):\n",
      " #   Column                  Non-Null Count    Dtype  \n",
      "---  ------                  --------------    -----  \n",
      " 0   ADRES                   1118822 non-null  object \n",
      " 1   LOT_NO                  1118822 non-null  object \n",
      " 2   APT_NM                  1116696 non-null  object \n",
      " 3   EXCL_AREA_SQM           1118822 non-null  float64\n",
      " 4   CONTR_YEAR_MONTH        1118822 non-null  int64  \n",
      " 5   CONTR_DAY               1118822 non-null  object \n",
      " 6   FLOOR                   1118822 non-null  int64  \n",
      " 7   BUILD_YEAR              1118822 non-null  int64  \n",
      " 8   ADRES_DORO              1118822 non-null  object \n",
      " 9   CANCEL_REASON_DATE      5983 non-null     float64\n",
      " 10  TRADE_TYPE              32371 non-null    object \n",
      " 11  AGNCY_LOCATION          29241 non-null    object \n",
      " 12  CODEAPTNM               248131 non-null   object \n",
      " 13  HSHLDR_TY               249259 non-null   object \n",
      " 14  CRRDPR_TY               248932 non-null   object \n",
      " 15  HEAT_MTHD               249259 non-null   object \n",
      " 16  ALL_DONG_CO             248192 non-null   float64\n",
      " 17  ALL_HSHLD_CO            249259 non-null   float64\n",
      " 18  CO_WO                   247764 non-null   object \n",
      " 19  CO_EX                   247568 non-null   object \n",
      " 20  TOTAR                   249259 non-null   float64\n",
      " 21  PRIVAREA                249214 non-null   float64\n",
      " 22  KAPTMPAREA60            249214 non-null   float64\n",
      " 23  KAPTMPAREA85            249214 non-null   float64\n",
      " 24  KAPTMPAREA135           249214 non-null   float64\n",
      " 25  KAPTMPAREA136           327 non-null      float64\n",
      " 26  HSHLD_ELCTY_CNTRCT_MTH  240075 non-null   object \n",
      " 27  BU_AR                   249108 non-null   float64\n",
      " 28  CNT_PA                  249108 non-null   float64\n",
      " 29  GUBUN                   249259 non-null   object \n",
      " 30  USE_RQSTDT              249197 non-null   object \n",
      " 31  target                  1118822 non-null  int64  \n",
      " 32  gu                      1118822 non-null  object \n",
      " 33  dong                    1118822 non-null  object \n",
      " 34  FULL_ADRES              1118822 non-null  object \n",
      " 35  dongAPT_NM              1116696 non-null  object \n",
      " 36  FLOATING_POPULATION     1118822 non-null  int64  \n",
      " 37  SUBWAY_DIST             1118822 non-null  float64\n",
      " 38  1STSUBAREA              1118822 non-null  int64  \n",
      " 39  2NDSUBAREA              1118822 non-null  int64  \n",
      " 40  BUS_DIST                1118822 non-null  float64\n",
      " 41  X_CODE                  1118822 non-null  float64\n",
      " 42  Y_CODE                  1118822 non-null  float64\n",
      " 43  BRIDGE_DIST             1118822 non-null  float64\n",
      " 44  LEASE_RATE              775315 non-null   float64\n",
      " 45  CONTR                   1118822 non-null  int64  \n",
      " 46  interest_rate           1118822 non-null  float64\n",
      " 47  real_gdp                1118822 non-null  float64\n",
      " 48  nominal_gdp             1118822 non-null  object \n",
      "dtypes: float64(20), int64(8), object(21)\n",
      "memory usage: 426.8+ MB\n"
     ]
    }
   ],
   "source": [
    "train3.info()"
   ]
  },
  {
   "cell_type": "code",
   "execution_count": 442,
   "metadata": {},
   "outputs": [
    {
     "name": "stdout",
     "output_type": "stream",
     "text": [
      "<class 'pandas.core.frame.DataFrame'>\n",
      "Int64Index: 9272 entries, 0 to 9271\n",
      "Data columns (total 48 columns):\n",
      " #   Column                  Non-Null Count  Dtype  \n",
      "---  ------                  --------------  -----  \n",
      " 0   ADRES                   9272 non-null   object \n",
      " 1   LOT_NO                  9272 non-null   object \n",
      " 2   APT_NM                  9262 non-null   object \n",
      " 3   EXCL_AREA_SQM           9272 non-null   float64\n",
      " 4   CONTR_YEAR_MONTH        9272 non-null   int64  \n",
      " 5   CONTR_DAY               9272 non-null   object \n",
      " 6   FLOOR                   9272 non-null   int64  \n",
      " 7   BUILD_YEAR              9272 non-null   int64  \n",
      " 8   ADRES_DORO              9272 non-null   object \n",
      " 9   CANCEL_REASON_DATE      212 non-null    float64\n",
      " 10  TRADE_TYPE              9272 non-null   object \n",
      " 11  AGNCY_LOCATION          9272 non-null   object \n",
      " 12  CODEAPTNM               2690 non-null   object \n",
      " 13  HSHLDR_TY               2710 non-null   object \n",
      " 14  CRRDPR_TY               2708 non-null   object \n",
      " 15  HEAT_MTHD               2710 non-null   object \n",
      " 16  ALL_DONG_CO             2695 non-null   float64\n",
      " 17  ALL_HSHLD_CO            2710 non-null   float64\n",
      " 18  CO_WO                   2693 non-null   object \n",
      " 19  CO_EX                   2692 non-null   object \n",
      " 20  TOTAR                   2710 non-null   float64\n",
      " 21  PRIVAREA                2710 non-null   float64\n",
      " 22  KAPTMPAREA60            2710 non-null   float64\n",
      " 23  KAPTMPAREA85            2710 non-null   float64\n",
      " 24  KAPTMPAREA135           2710 non-null   float64\n",
      " 25  KAPTMPAREA136           2 non-null      float64\n",
      " 26  HSHLD_ELCTY_CNTRCT_MTH  2630 non-null   object \n",
      " 27  BU_AR                   2707 non-null   float64\n",
      " 28  CNT_PA                  2709 non-null   float64\n",
      " 29  GUBUN                   2710 non-null   object \n",
      " 30  USE_RQSTDT              2710 non-null   object \n",
      " 31  gu                      9272 non-null   object \n",
      " 32  dong                    9272 non-null   object \n",
      " 33  FULL_ADRES              9272 non-null   object \n",
      " 34  dongAPT_NM              9262 non-null   object \n",
      " 35  FLOATING_POPULATION     9272 non-null   int64  \n",
      " 36  SUBWAY_DIST             9272 non-null   float64\n",
      " 37  1STSUBAREA              9272 non-null   int64  \n",
      " 38  2NDSUBAREA              9272 non-null   int64  \n",
      " 39  BUS_DIST                9272 non-null   float64\n",
      " 40  X_CODE                  9272 non-null   float64\n",
      " 41  Y_CODE                  9272 non-null   float64\n",
      " 42  BRIDGE_DIST             9272 non-null   float64\n",
      " 43  LEASE_RATE              9272 non-null   float64\n",
      " 44  CONTR                   9272 non-null   int64  \n",
      " 45  interest_rate           9272 non-null   float64\n",
      " 46  real_gdp                9272 non-null   float64\n",
      " 47  nominal_gdp             9272 non-null   object \n",
      "dtypes: float64(20), int64(7), object(21)\n",
      "memory usage: 3.5+ MB\n"
     ]
    }
   ],
   "source": [
    "test3.info()"
   ]
  },
  {
   "cell_type": "markdown",
   "metadata": {},
   "source": [
    "# 7. Merge school district / 학군"
   ]
  },
  {
   "cell_type": "code",
   "execution_count": 443,
   "metadata": {},
   "outputs": [],
   "source": [
    "school_district = pd.read_csv('../data/school_district.csv')"
   ]
  },
  {
   "cell_type": "code",
   "execution_count": 444,
   "metadata": {},
   "outputs": [
    {
     "name": "stdout",
     "output_type": "stream",
     "text": [
      "<class 'pandas.core.frame.DataFrame'>\n",
      "RangeIndex: 25 entries, 0 to 24\n",
      "Data columns (total 2 columns):\n",
      " #   Column  Non-Null Count  Dtype \n",
      "---  ------  --------------  ----- \n",
      " 0   구       25 non-null     object\n",
      " 1   학군      25 non-null     int64 \n",
      "dtypes: int64(1), object(1)\n",
      "memory usage: 528.0+ bytes\n"
     ]
    }
   ],
   "source": [
    "school_district.info()"
   ]
  },
  {
   "cell_type": "code",
   "execution_count": 445,
   "metadata": {},
   "outputs": [],
   "source": [
    "school_district.rename(columns={'구':'gu','학군':'school_district'},inplace=True)"
   ]
  },
  {
   "cell_type": "code",
   "execution_count": 446,
   "metadata": {},
   "outputs": [],
   "source": [
    "# train2['gu']가 같고, train2['contract_year']가 lease_rate에 있는 연도인 경우 merge\n",
    "train3 = pd.merge(train3, school_district, how='left', on=['gu'])\n",
    "test3 = pd.merge(test3, school_district, how='left', on=['gu'])"
   ]
  },
  {
   "cell_type": "code",
   "execution_count": 447,
   "metadata": {},
   "outputs": [],
   "source": [
    "test3['real_gdp'] = test3['real_gdp'].astype(object)\n",
    "train3['real_gdp'] = train3['real_gdp'].astype(object)\n",
    "test3['school_district'] = test3['school_district'].astype(object)\n",
    "train3['school_district'] = train3['school_district'].astype(object)\n",
    "test3['LEASE_RATE'] = test3['LEASE_RATE'].astype(object)\n",
    "train3['LEASE_RATE'] = train3['LEASE_RATE'].astype(object)\n",
    "test3['interest_rate'] = test3['interest_rate'].astype(object)\n",
    "train3['interest_rate'] = train3['interest_rate'].astype(object)"
   ]
  },
  {
   "cell_type": "markdown",
   "metadata": {},
   "source": [
    "# 8. Merge redevelopment / 재개발지역 개수"
   ]
  },
  {
   "cell_type": "code",
   "execution_count": 448,
   "metadata": {},
   "outputs": [],
   "source": [
    "data1 = pd.read_csv('../data/train_merge_0119_02(cp949).csv',encoding='cp949')\n",
    "data2 = pd.read_csv('../data/test_merge_0119_02(cp949).csv',encoding='cp949')"
   ]
  },
  {
   "cell_type": "code",
   "execution_count": 449,
   "metadata": {},
   "outputs": [],
   "source": [
    "train3['redevelop'] = data1['재개발개수']"
   ]
  },
  {
   "cell_type": "code",
   "execution_count": 450,
   "metadata": {},
   "outputs": [],
   "source": [
    "test3['redevelop'] = data2['재개발개수']"
   ]
  },
  {
   "cell_type": "code",
   "execution_count": 451,
   "metadata": {},
   "outputs": [],
   "source": [
    "test3['redevelop'] = test3['redevelop'].astype(object)\n",
    "train3['redevelop'] = train3['redevelop'].astype(object)"
   ]
  },
  {
   "cell_type": "markdown",
   "metadata": {},
   "source": [
    "# 9. Save train3 & test3"
   ]
  },
  {
   "cell_type": "code",
   "execution_count": 452,
   "metadata": {},
   "outputs": [],
   "source": [
    "train3.to_csv('../data/train3.csv')\n",
    "test3.to_csv('../data/test3.csv')"
   ]
  },
  {
   "cell_type": "markdown",
   "metadata": {},
   "source": [
    "# 10. Change Variables English to Korean "
   ]
  },
  {
   "cell_type": "code",
   "execution_count": 453,
   "metadata": {},
   "outputs": [],
   "source": [
    "test3.rename(columns={'ADRES':'시군구','LOT_NO':'번지','APT_NM':'아파트명','EXCL_AREA_SQM':'전용면적',\n",
    "                      'CONTR_YEAR_MONTH':'계약년월','CONTR_DAY':'계약일','FLOOR':'층','BUILD_YEAR':'건축년도',\n",
    "                      'ADRES_DORO':'도로명','CANCEL_REASON_DATE':'해제사유발생일',\n",
    "                      'TRADE_TYPE':'거래유형','AGNCY_LOCATION':'중개사소재지','CODEAPTNM':'k-단지분류',\n",
    "                      'HSHLDR_TY':'k-세대타입(분양형태)','CRRDPR_TY':'k-복도유형',\n",
    "                      'HEAT_MTHD':'k-난방방식','ALL_DONG_CO':'k-전체동수','ALL_HSHLD_CO':'k-전체세대수',\n",
    "                      'CO_WO':'k-건설사','CO_EX':'k-시행사','TOTAR':'k-연면적',\n",
    "                      'PRIVAREA':'k-주거전용면적','KAPTMPAREA60':'k-전용면적별세대현황60이하',\n",
    "                      'KAPTMPAREA85':'k-전용면적별세대현황6085이하','KAPTMPAREA135':'k-85135이하',\n",
    "                      'KAPTMPAREA136':'k-135초과', 'HSHLD_ELCTY_CNTRCT_MTH': '세대전기계약방법',\n",
    "                      'BU_AR':'건축면적','CNT_PA':'주차대수',\n",
    "                      'GUBUN':'기타의무임대1234',\n",
    "                      'X_CODE':'좌표X','Y_CODE':'좌표Y','USE_RQSTDT':'단지신청일',\n",
    "                      'gu':'구','dong':'동','FULL_ADRES':'전체주소명',\n",
    "                      'dongAPT_NM':'동아파트명','floating_population':'유동인구',\n",
    "                      'X_CODE':'좌표X','Y_CODE':'좌표Y','USE_RQSTDT':'단지신청일',\n",
    "                      'subway_dist':'아파트 지하철역 거리','1stSubArea':'1차역세권',\n",
    "                      '2ndSubArea':'2차역세권',\n",
    "                      'bus_dist':'아파트 버스정류장 거리','bridge_dist':'아파트 한강대교 거리',\n",
    "                      'lease_rate':'전세가율','CONTR':'전체계약일자','interest_rate':'금리',\n",
    "                      'real_gdp':'실질gdp','nominal_gdp':'명목gdp','school_district':'학군',\n",
    "                      'redevelop':'재개발개수'\n",
    "                      },inplace=True)"
   ]
  },
  {
   "cell_type": "code",
   "execution_count": 454,
   "metadata": {},
   "outputs": [],
   "source": [
    "train3.rename(columns={'ADRES':'시군구','LOT_NO':'번지','APT_NM':'아파트명','EXCL_AREA_SQM':'전용면적',\n",
    "                      'CONTR_YEAR_MONTH':'계약년월','CONTR_DAY':'계약일','FLOOR':'층','BUILD_YEAR':'건축년도',\n",
    "                      'ADRES_DORO':'도로명','CANCEL_REASON_DATE':'해제사유발생일',\n",
    "                      'TRADE_TYPE':'거래유형','AGNCY_LOCATION':'중개사소재지','CODEAPTNM':'k-단지분류',\n",
    "                      'HSHLDR_TY':'k-세대타입(분양형태)','CRRDPR_TY':'k-복도유형',\n",
    "                      'HEAT_MTHD':'k-난방방식','ALL_DONG_CO':'k-전체동수','ALL_HSHLD_CO':'k-전체세대수',\n",
    "                      'CO_WO':'k-건설사','CO_EX':'k-시행사','TOTAR':'k-연면적',\n",
    "                      'PRIVAREA':'k-주거전용면적','KAPTMPAREA60':'k-전용면적별세대현황60이하',\n",
    "                      'KAPTMPAREA85':'k-전용면적별세대현황6085이하','KAPTMPAREA135':'k-85135이하',\n",
    "                      'KAPTMPAREA136':'k-135초과', 'HSHLD_ELCTY_CNTRCT_MTH': '세대전기계약방법',\n",
    "                      'BU_AR':'건축면적','CNT_PA':'주차대수',\n",
    "                      'GUBUN':'기타의무임대1234',\n",
    "                      'X_CODE':'좌표X','Y_CODE':'좌표Y','USE_RQSTDT':'단지신청일',\n",
    "                      'gu':'구','dong':'동','FULL_ADRES':'전체주소명',\n",
    "                      'dongAPT_NM':'동아파트명','floating_population':'유동인구',\n",
    "                      'X_CODE':'좌표X','Y_CODE':'좌표Y','USE_RQSTDT':'단지신청일',\n",
    "                      'subway_dist':'아파트 지하철역 거리','1stSubArea':'1차역세권',\n",
    "                      '2ndSubArea':'2차역세권',\n",
    "                      'bus_dist':'아파트 버스정류장 거리','bridge_dist':'아파트 한강대교 거리',\n",
    "                      'lease_rate':'전세가율','CONTR':'전체계약일자','interest_rate':'금리',\n",
    "                      'real_gdp':'실질gdp','nominal_gdp':'명목gdp','school_district':'학군',\n",
    "                      'redevelop':'재개발개수'\n",
    "                      },inplace=True)"
   ]
  },
  {
   "cell_type": "markdown",
   "metadata": {},
   "source": [
    "# 11. Save Korean train3 & test3 "
   ]
  },
  {
   "cell_type": "code",
   "execution_count": 455,
   "metadata": {},
   "outputs": [],
   "source": [
    "train3.to_csv('../data/korean_train3.csv')\n",
    "test3.to_csv('../data/korean_test3.csv')"
   ]
  },
  {
   "cell_type": "code",
   "execution_count": null,
   "metadata": {},
   "outputs": [],
   "source": []
  }
 ],
 "metadata": {
  "kernelspec": {
   "display_name": "base",
   "language": "python",
   "name": "python3"
  },
  "language_info": {
   "codemirror_mode": {
    "name": "ipython",
    "version": 3
   },
   "file_extension": ".py",
   "mimetype": "text/x-python",
   "name": "python",
   "nbconvert_exporter": "python",
   "pygments_lexer": "ipython3",
   "version": "3.10.13"
  }
 },
 "nbformat": 4,
 "nbformat_minor": 2
}
