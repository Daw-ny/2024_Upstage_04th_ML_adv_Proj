{
 "cells": [
  {
   "cell_type": "markdown",
   "metadata": {},
   "source": [
    "## Stage 4. 데이터 전처리 (2)"
   ]
  },
  {
   "cell_type": "markdown",
   "metadata": {},
   "source": [
    "### 1. 데이터 분석 전 준비"
   ]
  },
  {
   "cell_type": "code",
   "execution_count": 8,
   "metadata": {},
   "outputs": [
    {
     "name": "stderr",
     "output_type": "stream",
     "text": [
      "/tmp/ipykernel_578842/396092589.py:4: DtypeWarning: Columns (10,11) have mixed types. Specify dtype option on import or set low_memory=False.\n",
      "  all_data = pd.read_csv('../data/all_data.csv')\n"
     ]
    }
   ],
   "source": [
    "import pandas as pd\n",
    "pd.options.mode.chained_assignment = None\n",
    "\n",
    "all_data = pd.read_csv('../data/all_data.csv')"
   ]
  },
  {
   "cell_type": "code",
   "execution_count": 9,
   "metadata": {},
   "outputs": [
    {
     "data": {
      "text/plain": [
       "Index(['시군구', '번지', '아파트명', '전용면적', '계약년월', '계약일', '층', '건축년도', '도로명',\n",
       "       '해제사유발생일', '거래유형', '중개사소재지', 'k-단지분류', 'k-세대타입(분양형태)', 'k-복도유형',\n",
       "       'k-난방방식', 'k-전체동수', 'k-전체세대수', 'k-건설사', 'k-시행사', 'k-연면적', 'k-주거전용면적',\n",
       "       'k-전용면적별세대현황60이하', 'k-전용면적별세대현황6085이하', 'k-85135이하', 'k-135초과',\n",
       "       '세대전기계약방법', '건축면적', '주차대수', '기타의무임대1234', '단지신청일', 'target', '구', '동',\n",
       "       '전체주소명', '동아파트명', '유동인구', '아파트 지하철역 거리', '1차역세권', '2차역세권',\n",
       "       '아파트 버스정류장 거리', '좌표X', '좌표Y', '아파트 한강대교 거리', '전세가율', '전체계약일자', '금리',\n",
       "       '실질gdp', '명목gdp', '학군', '재개발개수', '학급수', '여당득표율', 'train_test', '계약날짜',\n",
       "       'apartment_id', 'bucket_area', 'recent_price', 'transaction_cnt',\n",
       "       '1년전_금리'],\n",
       "      dtype='object')"
      ]
     },
     "execution_count": 9,
     "metadata": {},
     "output_type": "execute_result"
    }
   ],
   "source": [
    "all_data.columns"
   ]
  },
  {
   "cell_type": "markdown",
   "metadata": {},
   "source": [
    "### 2. 아파트 이름 전처리 (1)"
   ]
  },
  {
   "cell_type": "markdown",
   "metadata": {},
   "source": [
    "[K-means Clustering]\n",
    "- 아파트 이름만으로 아파트 실거래가를 예측하기는 어려움\n",
    "- 아파트의 과거 가격 순서대로 정렬 후, 비슷한 아파트 끼리 묶어 그룹을 만들어 줌(K-Means clsutering)\n",
    "- 아파트의 target 값이 높은 순서대로 숫자를 부여하여 학습에 적용시킴"
   ]
  },
  {
   "cell_type": "code",
   "execution_count": 6,
   "metadata": {},
   "outputs": [
    {
     "data": {
      "text/html": [
       "<div>\n",
       "<style scoped>\n",
       "    .dataframe tbody tr th:only-of-type {\n",
       "        vertical-align: middle;\n",
       "    }\n",
       "\n",
       "    .dataframe tbody tr th {\n",
       "        vertical-align: top;\n",
       "    }\n",
       "\n",
       "    .dataframe thead th {\n",
       "        text-align: right;\n",
       "    }\n",
       "</style>\n",
       "<table border=\"1\" class=\"dataframe\">\n",
       "  <thead>\n",
       "    <tr style=\"text-align: right;\">\n",
       "      <th></th>\n",
       "      <th>아파트명</th>\n",
       "      <th>cluster</th>\n",
       "    </tr>\n",
       "  </thead>\n",
       "  <tbody>\n",
       "    <tr>\n",
       "      <th>0</th>\n",
       "      <td>153-25</td>\n",
       "      <td>0</td>\n",
       "    </tr>\n",
       "    <tr>\n",
       "      <th>1</th>\n",
       "      <td>201호 미공시</td>\n",
       "      <td>0</td>\n",
       "    </tr>\n",
       "    <tr>\n",
       "      <th>2</th>\n",
       "      <td>2차한양</td>\n",
       "      <td>1</td>\n",
       "    </tr>\n",
       "    <tr>\n",
       "      <th>3</th>\n",
       "      <td>3RU-City</td>\n",
       "      <td>0</td>\n",
       "    </tr>\n",
       "    <tr>\n",
       "      <th>4</th>\n",
       "      <td>3차신성미소지움</td>\n",
       "      <td>0</td>\n",
       "    </tr>\n",
       "    <tr>\n",
       "      <th>...</th>\n",
       "      <td>...</td>\n",
       "      <td>...</td>\n",
       "    </tr>\n",
       "    <tr>\n",
       "      <th>6533</th>\n",
       "      <td>힐탑트레져1동</td>\n",
       "      <td>3</td>\n",
       "    </tr>\n",
       "    <tr>\n",
       "      <th>6534</th>\n",
       "      <td>힐튼</td>\n",
       "      <td>0</td>\n",
       "    </tr>\n",
       "    <tr>\n",
       "      <th>6535</th>\n",
       "      <td>힐튼빌리지1차</td>\n",
       "      <td>1</td>\n",
       "    </tr>\n",
       "    <tr>\n",
       "      <th>6536</th>\n",
       "      <td>힐튼빌리지2차</td>\n",
       "      <td>1</td>\n",
       "    </tr>\n",
       "    <tr>\n",
       "      <th>6537</th>\n",
       "      <td>힐하우스</td>\n",
       "      <td>1</td>\n",
       "    </tr>\n",
       "  </tbody>\n",
       "</table>\n",
       "<p>6538 rows × 2 columns</p>\n",
       "</div>"
      ],
      "text/plain": [
       "          아파트명  cluster\n",
       "0       153-25        0\n",
       "1     201호 미공시        0\n",
       "2         2차한양        1\n",
       "3     3RU-City        0\n",
       "4     3차신성미소지움        0\n",
       "...        ...      ...\n",
       "6533   힐탑트레져1동        3\n",
       "6534        힐튼        0\n",
       "6535   힐튼빌리지1차        1\n",
       "6536   힐튼빌리지2차        1\n",
       "6537      힐하우스        1\n",
       "\n",
       "[6538 rows x 2 columns]"
      ]
     },
     "execution_count": 6,
     "metadata": {},
     "output_type": "execute_result"
    }
   ],
   "source": [
    "from sklearn.cluster import KMeans\n",
    "import numpy as np\n",
    "\n",
    "# 아파트 별로 가격 평균값 구하기\n",
    "train = all_data[all_data['train_test'] == 'train']\n",
    "train['target'] = train['target'].astype('int')\n",
    "data = train[['아파트명', 'target']]\n",
    "\n",
    "data = data.groupby('아파트명').mean()\n",
    "arr = data['target'].to_numpy().reshape(-1, 1)\n",
    "\n",
    "# 가격을 기준으로 아파트 군집화\n",
    "k = 5  \n",
    "kmeans = KMeans(n_clusters=k, n_init=10)\n",
    "kmeans.fit(arr)\n",
    "\n",
    "# 가격을 기준으로 군집의 순서를 정렬하기 위해 인덱스를 추출\n",
    "sort_order = np.argsort(kmeans.cluster_centers_.flatten())\n",
    "\n",
    "# 군집화 결과를 가격 순서대로 재할당\n",
    "labels = np.zeros_like(kmeans.labels_)\n",
    "for i, cluster in enumerate(sort_order):\n",
    "    labels[kmeans.labels_ == cluster] = i\n",
    "\n",
    "# 군집화 결과와 가격을 데이터에 추가\n",
    "data['cluster'] = labels\n",
    "data = data.reset_index()\n",
    "data = data[['아파트명', 'cluster']]\n",
    "data"
   ]
  },
  {
   "cell_type": "markdown",
   "metadata": {},
   "source": [
    "### 3. 아파트 이름 전처리 (2)"
   ]
  },
  {
   "cell_type": "code",
   "execution_count": 7,
   "metadata": {},
   "outputs": [
    {
     "data": {
      "text/plain": [
       "0.0    688230\n",
       "1.0    336426\n",
       "2.0     91373\n",
       "3.0      9784\n",
       "4.0        73\n",
       "Name: cluster, dtype: int64"
      ]
     },
     "execution_count": 7,
     "metadata": {},
     "output_type": "execute_result"
    }
   ],
   "source": [
    "# 아파트명을 기준으로 Left Joing 실행\n",
    "all_data = pd.merge(all_data, data, how='left', left_on='아파트명', right_on='아파트명')\n",
    "\n",
    "cluster_mode = all_data.loc[all_data['train_test'] == 'train', 'cluster'].mode()\n",
    "all_data['cluster'] = all_data['cluster'].fillna(cluster_mode)\n",
    "\n",
    "all_data['cluster'].value_counts()"
   ]
  },
  {
   "cell_type": "markdown",
   "metadata": {},
   "source": [
    "### 4. 아파트 면적 전처리"
   ]
  },
  {
   "cell_type": "code",
   "execution_count": 10,
   "metadata": {},
   "outputs": [
    {
     "data": {
      "text/plain": [
       "1    482741\n",
       "0    445930\n",
       "2    199423\n",
       "Name: bucket_area, dtype: int64"
      ]
     },
     "execution_count": 10,
     "metadata": {},
     "output_type": "execute_result"
    }
   ],
   "source": [
    "def make_area_bucket(area):\n",
    "    if area < 60: # 59타입\n",
    "        return 0\n",
    "    elif area < 85: # 84타입\n",
    "        return 1\n",
    "    else:\n",
    "        return 2\n",
    "\n",
    "all_data['bucket_area'] = all_data['전용면적'].apply(make_area_bucket)\n",
    "all_data['bucket_area'].value_counts()"
   ]
  },
  {
   "cell_type": "markdown",
   "metadata": {},
   "source": [
    "- 한국의 아파트 유형은 59타입, 84타입의 유형이 많은 것으로 확인함\n",
    "- 두 지점을 기준으로 전처리 후, 비율이 적절한지 확인함"
   ]
  },
  {
   "cell_type": "markdown",
   "metadata": {},
   "source": [
    "### 5. 층수 전처리"
   ]
  },
  {
   "cell_type": "code",
   "execution_count": null,
   "metadata": {},
   "outputs": [],
   "source": [
    "all_data['low_floor'] = all_data['층'].apply(lambda x: 0 if x <= 3 else 1)\n",
    "all_data['low_floor'].value_counts()"
   ]
  },
  {
   "cell_type": "markdown",
   "metadata": {},
   "source": [
    "- 3층을 기준으로 3층 이하일 경우, 저층으로 분류함"
   ]
  },
  {
   "cell_type": "code",
   "execution_count": null,
   "metadata": {},
   "outputs": [],
   "source": [
    "# 결과 데이터프레임을 CSV 파일로 저장\n",
    "output_filename = \"../data/all_data.csv\"\n",
    "all_data.to_csv(output_filename, index=False)\n",
    "\n",
    "print(f\"Data saved to {output_filename}\")"
   ]
  }
 ],
 "metadata": {
  "kernelspec": {
   "display_name": "base",
   "language": "python",
   "name": "python3"
  },
  "language_info": {
   "codemirror_mode": {
    "name": "ipython",
    "version": 3
   },
   "file_extension": ".py",
   "mimetype": "text/x-python",
   "name": "python",
   "nbconvert_exporter": "python",
   "pygments_lexer": "ipython3",
   "version": "3.10.13"
  }
 },
 "nbformat": 4,
 "nbformat_minor": 2
}
