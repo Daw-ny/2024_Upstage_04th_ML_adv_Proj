{
 "cells": [
  {
   "cell_type": "markdown",
   "metadata": {},
   "source": [
    "# 1. Library Import"
   ]
  },
  {
   "cell_type": "code",
   "execution_count": 58,
   "metadata": {},
   "outputs": [],
   "source": [
    "# visualization\n",
    "import matplotlib.pyplot as plt\n",
    "import matplotlib.font_manager as fm\n",
    "fe = fm.FontEntry(\n",
    "    fname=r'/usr/share/fonts/truetype/nanum/NanumGothic.ttf', # ttf 파일이 저장되어 있는 경로\n",
    "    name='NanumBarunGothic')                        # 이 폰트의 원하는 이름 설정\n",
    "fm.fontManager.ttflist.insert(0, fe)              # Matplotlib에 폰트 추가\n",
    "plt.rcParams.update({'font.size': 10, 'font.family': 'NanumBarunGothic'}) # 폰트 설정\n",
    "plt.rc('font', family='NanumBarunGothic')\n",
    "import seaborn as sns\n",
    "\n",
    "# utils\n",
    "import pandas as pd\n",
    "import numpy as np\n",
    "from tqdm import tqdm\n",
    "import pickle\n",
    "import warnings;warnings.filterwarnings('ignore')\n",
    "\n",
    "# 소수점 둘째자리까지 표시하도록 설정 (원하는 자릿수로 변경 가능)\n",
    "pd.options.display.float_format = '{:.2f}'.format  \n",
    "\n",
    "\n",
    "# Model\n",
    "from sklearn.preprocessing import LabelEncoder\n",
    "from sklearn.model_selection import train_test_split\n",
    "from sklearn.metrics import mean_squared_error\n",
    "from sklearn.ensemble import RandomForestRegressor\n",
    "from sklearn import metrics\n",
    "\n",
    "import eli5\n",
    "from eli5.sklearn import PermutationImportance\n",
    "\n",
    "## Optuna tunning for XGB\n",
    "from xgboost import XGBRegressor\n",
    "from sklearn.model_selection import cross_val_score\n",
    "import optuna\n",
    "\n",
    "## Optuna visulization\n",
    "import plotly.express as px\n",
    "import plotly.graph_objects as go\n",
    "import plotly\n",
    "\n",
    "# 열의 개수를 출력할 때 모두 표시하도록 설정\n",
    "pd.set_option('display.max_columns', None)\n"
   ]
  },
  {
   "cell_type": "markdown",
   "metadata": {},
   "source": [
    "# 2. Data Loading"
   ]
  },
  {
   "cell_type": "code",
   "execution_count": 59,
   "metadata": {},
   "outputs": [],
   "source": [
    "# 필요한 데이터를 load 하겠습니다. 경로는 환경에 맞게 지정해주면 됩니다.\n",
    "train_path = '../data/train1.csv'\n",
    "test_path  = '../data/test1.csv'\n",
    "train = pd.read_csv(train_path)\n",
    "test = pd.read_csv(test_path)"
   ]
  },
  {
   "cell_type": "code",
   "execution_count": 60,
   "metadata": {},
   "outputs": [],
   "source": [
    "train1 = train.copy()\n",
    "test1 = test.copy()"
   ]
  },
  {
   "cell_type": "markdown",
   "metadata": {},
   "source": [
    "# 3. Change variabels name"
   ]
  },
  {
   "cell_type": "code",
   "execution_count": 61,
   "metadata": {},
   "outputs": [],
   "source": [
    "train1.rename(columns={'city':'ADRES','address':'LOT_NO','first_num':'MAIN_NO','second_num':'SUB_NO',\n",
    "                       'name':'APT_NM','area':'EXCL_AREA_SQM','contract_year':'CONTR_YEAR_MONTH',\n",
    "                       'contract_day':'CONTR_DAY','floor':'FLOOR','construction_year':'BUILD_YEAR',\n",
    "                       'road_name':'ADRES_DORO','cancellation_day':'CANCEL_REASON_DATE',\n",
    "                       'registration_day':'REGIST_APPL_DATE','transaction_type':'TRADE_TYPE',\n",
    "                       'estate_agent':'AGNCY_LOCATION',\n",
    "                       'classification_complex':'CODEAPTNM',\n",
    "                       'phone_number':'TELNO','fax_number':'FXNUM',\n",
    "                       'clob':'CN_APT','sales_type':'HSHLDR_TY',\n",
    "                      'management_system':'GNRL_MANAGECT_MANAGE_STLE','hallway_type':'CRRDPR_TY',\n",
    "                      'heating_system':'HEAT_MTHD','total_unit':'ALL_DONG_CO',\n",
    "                      'total_households':'ALL_HSHLD_CO','construction_company':'CO_WO',\n",
    "                      'developer':'CO_EX','inspection_approval_date':'USE_INSPCT_DE',\n",
    "                      'total_area': 'TOTAR','residential_area':'PRIVAREA',\n",
    "                      'management_fee_area':'MANAGECT_LEVY_AR',\n",
    "                      'household_status_by_area_60':'KAPTMPAREA60',\n",
    "                      'household_status_by_area_85':'KAPTMPAREA85',\n",
    "                      'household_status_by_area_135':'KAPTMPAREA135', \n",
    "                      'household_status_by_area_big':'KAPTMPAREA136',\n",
    "                      'homepage':'HMPG','registration_date':'API_INSERT_DATE', \n",
    "                      'modification_date':'API_UPDATE_DATE',\n",
    "                      'employment_insurance_management_number':'EMPLYMINSRNC_MANAGE_NO',\n",
    "                      'guard_management_type':'EXPENSCTMANAGESTLE',\n",
    "                      'electricity_contract':'HSHLD_ELCTY_CNTRCT_MTH',\n",
    "                      'cleaning_fee_management_type':'CLN_CTMANAGESTLE',\n",
    "                      'building_area':'BU_AR','parking_space':'CNT_PA',\n",
    "                      'other1_obligation2_rent3_optional4':'GUBUN',\n",
    "                      'unit_approval_date':'USE_CONFM_DE','permission_yes_no':'USE_TY',\n",
    "                      'management_cost':'MANUAL_INPUT',\n",
    "                      'axisX':'X_CODE','axisY':'Y_CODE','unit_application_date':'USE_RQSTDT'\n",
    "                      },inplace=True)"
   ]
  },
  {
   "cell_type": "code",
   "execution_count": 62,
   "metadata": {},
   "outputs": [],
   "source": [
    "test1.rename(columns={'city':'ADRES','address':'LOT_NO','first_num':'MAIN_NO','second_num':'SUB_NO',\n",
    "                       'name':'APT_NM','area':'EXCL_AREA_SQM','contract_year':'CONTR_YEAR_MONTH',\n",
    "                       'contract_day':'CONTR_DAY','floor':'FLOOR','construction_year':'BUILD_YEAR',\n",
    "                       'road_name':'ADRES_DORO','cancellation_day':'CANCEL_REASON_DATE',\n",
    "                       'registration_day':'REGIST_APPL_DATE','transaction_type':'TRADE_TYPE',\n",
    "                       'estate_agent':'AGNCY_LOCATION',\n",
    "                       'classification_complex':'CODEAPTNM',\n",
    "                       'phone_number':'TELNO','fax_number':'FXNUM',\n",
    "                       'clob':'CN_APT','sales_type':'HSHLDR_TY',\n",
    "                      'management_system':'GNRL_MANAGECT_MANAGE_STLE','hallway_type':'CRRDPR_TY',\n",
    "                      'heating_system':'HEAT_MTHD','total_unit':'ALL_DONG_CO',\n",
    "                      'total_households':'ALL_HSHLD_CO','construction_company':'CO_WO',\n",
    "                      'developer':'CO_EX','inspection_approval_date':'USE_INSPCT_DE',\n",
    "                      'total_area': 'TOTAR','residential_area':'PRIVAREA',\n",
    "                      'management_fee_area':'MANAGECT_LEVY_AR',\n",
    "                      'household_status_by_area_60':'KAPTMPAREA60',\n",
    "                      'household_status_by_area_85':'KAPTMPAREA85',\n",
    "                      'household_status_by_area_135':'KAPTMPAREA135', \n",
    "                      'household_status_by_area_big':'KAPTMPAREA136',\n",
    "                      'homepage':'HMPG','registration_date':'API_INSERT_DATE', \n",
    "                      'modification_date':'API_UPDATE_DATE',\n",
    "                      'employment_insurance_management_number':'EMPLYMINSRNC_MANAGE_NO',\n",
    "                      'guard_management_type':'EXPENSCTMANAGESTLE',\n",
    "                      'electricity_contract':'HSHLD_ELCTY_CNTRCT_MTH',\n",
    "                      'cleaning_fee_management_type':'CLN_CTMANAGESTLE',\n",
    "                      'building_area':'BU_AR','parking_space':'CNT_PA',\n",
    "                      'other1_obligation2_rent3_optional4':'GUBUN',\n",
    "                      'unit_approval_date':'USE_CONFM_DE','permission_yes_no':'USE_TY',\n",
    "                      'management_cost':'MANUAL_INPUT',\n",
    "                      'axisX':'X_CODE','axisY':'Y_CODE','unit_application_date':'USE_RQSTDT'\n",
    "                      },inplace=True)"
   ]
  },
  {
   "cell_type": "markdown",
   "metadata": {},
   "source": [
    "# 4. Null Value Treatment"
   ]
  },
  {
   "cell_type": "code",
   "execution_count": 63,
   "metadata": {},
   "outputs": [],
   "source": [
    "# 결측치 함정카드 제거\n",
    "train1['AGNCY_LOCATION'][train1['AGNCY_LOCATION'] == '-'] = np.nan\n",
    "train1['TRADE_TYPE'][train1['TRADE_TYPE'] == '-'] = np.nan\n",
    "train1['REGIST_APPL_DATE'][train1['REGIST_APPL_DATE'] == ' '] = np.nan"
   ]
  },
  {
   "cell_type": "code",
   "execution_count": 64,
   "metadata": {},
   "outputs": [],
   "source": [
    "# 붙일 칼럼 만들기\n",
    "train1['FULL_ADRES'] = train1['ADRES'] + ' ' + train1['LOT_NO']\n",
    "train1['dongAPT_NM'] = train1['dong'] + ' ' + train1['APT_NM']\n",
    "\n",
    "test1['FULL_ADRES'] = test1['ADRES'] + ' ' + test1['LOT_NO']\n",
    "test1['dongAPT_NM'] = test1['dong'] + ' ' + test1['APT_NM']"
   ]
  },
  {
   "cell_type": "markdown",
   "metadata": {},
   "source": [
    "# 5. Merge data 'subway'"
   ]
  },
  {
   "cell_type": "code",
   "execution_count": 77,
   "metadata": {},
   "outputs": [],
   "source": [
    "subway_bus = pd.read_csv('../data/subway_bus.csv')"
   ]
  },
  {
   "cell_type": "code",
   "execution_count": 66,
   "metadata": {},
   "outputs": [
    {
     "name": "stdout",
     "output_type": "stream",
     "text": [
      "<class 'pandas.core.frame.DataFrame'>\n",
      "RangeIndex: 8955 entries, 0 to 8954\n",
      "Data columns (total 10 columns):\n",
      " #   Column    Non-Null Count  Dtype  \n",
      "---  ------    --------------  -----  \n",
      " 0   지번주소      8955 non-null   object \n",
      " 1   유동승객수     8955 non-null   int64  \n",
      " 2   역까지_거리    8955 non-null   float64\n",
      " 3   좌표X뉴      8955 non-null   float64\n",
      " 4   좌표Y뉴      8955 non-null   float64\n",
      " 5   1차역세권     8955 non-null   int64  \n",
      " 6   2차역세권     8955 non-null   int64  \n",
      " 7   X좌표       8955 non-null   float64\n",
      " 8   Y좌표       8955 non-null   float64\n",
      " 9   정류장까지_거리  8955 non-null   float64\n",
      "dtypes: float64(6), int64(3), object(1)\n",
      "memory usage: 699.7+ KB\n"
     ]
    }
   ],
   "source": [
    "subway_bus.info()"
   ]
  },
  {
   "cell_type": "code",
   "execution_count": 67,
   "metadata": {},
   "outputs": [],
   "source": [
    "subway_bus = subway_bus.drop(['좌표X뉴', '좌표Y뉴','X좌표','Y좌표'], axis = 1)"
   ]
  },
  {
   "cell_type": "code",
   "execution_count": 68,
   "metadata": {},
   "outputs": [],
   "source": [
    "subway_bus.rename(columns={'지번주소':'FULL_ADRES','유동승객수':'FLOATING_POPULATION','역까지_거리':'SUBWAY_DIST',\n",
    "                      '1차역세권':'1STSUBAREA','2차역세권':'2NDSUBAREA','정류장까지_거리':'BUS_DIST'\n",
    "                      },inplace=True)"
   ]
  },
  {
   "cell_type": "code",
   "execution_count": 69,
   "metadata": {},
   "outputs": [
    {
     "name": "stdout",
     "output_type": "stream",
     "text": [
      "<class 'pandas.core.frame.DataFrame'>\n",
      "RangeIndex: 8955 entries, 0 to 8954\n",
      "Data columns (total 6 columns):\n",
      " #   Column               Non-Null Count  Dtype  \n",
      "---  ------               --------------  -----  \n",
      " 0   FULL_ADRES           8955 non-null   object \n",
      " 1   FLOATING_POPULATION  8955 non-null   int64  \n",
      " 2   SUBWAY_DIST          8955 non-null   float64\n",
      " 3   1STSUBAREA           8955 non-null   int64  \n",
      " 4   2NDSUBAREA           8955 non-null   int64  \n",
      " 5   BUS_DIST             8955 non-null   float64\n",
      "dtypes: float64(2), int64(3), object(1)\n",
      "memory usage: 419.9+ KB\n"
     ]
    }
   ],
   "source": [
    "subway_bus.info()"
   ]
  },
  {
   "cell_type": "code",
   "execution_count": 70,
   "metadata": {},
   "outputs": [],
   "source": [
    "# 역세권, 유동인구 붙여넣기 (유동 승객수 = 한달 단위 승하차평균, 역까지 거리 = 최단거리역 기준)\n",
    "train2 = pd.merge(train1, subway_bus, how = 'left', on = 'FULL_ADRES')\n",
    "test2 = pd.merge(test1, subway_bus, how = 'left', on = 'FULL_ADRES')"
   ]
  },
  {
   "cell_type": "code",
   "execution_count": 71,
   "metadata": {},
   "outputs": [],
   "source": [
    "# 저장하기\n",
    "train2 = train2.drop(['MAIN_NO', 'SUB_NO', 'REGIST_APPL_DATE', 'TELNO', 'FXNUM', 'CN_APT',\n",
    "             'GNRL_MANAGECT_MANAGE_STLE', 'USE_INSPCT_DE', \n",
    "             'MANAGECT_LEVY_AR', 'HMPG', 'API_INSERT_DATE', 'API_UPDATE_DATE',\n",
    "             'EMPLYMINSRNC_MANAGE_NO', 'EXPENSCTMANAGESTLE', 'CLN_CTMANAGESTLE',\n",
    "             'USE_CONFM_DE', 'MANUAL_INPUT', 'USE_TY'], axis = 1)\n",
    "# 저장하기\n",
    "test2 = test2.drop(['MAIN_NO', 'SUB_NO', 'REGIST_APPL_DATE', 'TELNO', 'FXNUM', 'CN_APT',\n",
    "             'GNRL_MANAGECT_MANAGE_STLE', 'USE_INSPCT_DE', \n",
    "             'MANAGECT_LEVY_AR', 'HMPG', 'API_INSERT_DATE', 'API_UPDATE_DATE',\n",
    "             'EMPLYMINSRNC_MANAGE_NO', 'EXPENSCTMANAGESTLE', 'CLN_CTMANAGESTLE',\n",
    "             'USE_CONFM_DE', 'MANUAL_INPUT', 'USE_TY'], axis = 1)"
   ]
  },
  {
   "cell_type": "markdown",
   "metadata": {},
   "source": [
    "# 6. Save train2 & test2"
   ]
  },
  {
   "cell_type": "code",
   "execution_count": 72,
   "metadata": {},
   "outputs": [],
   "source": [
    "train2.to_csv('../data/train2.csv', index = False)\n",
    "test2.to_csv('../data/test2.csv', index = False)"
   ]
  }
 ],
 "metadata": {
  "kernelspec": {
   "display_name": "base",
   "language": "python",
   "name": "python3"
  },
  "language_info": {
   "codemirror_mode": {
    "name": "ipython",
    "version": 3
   },
   "file_extension": ".py",
   "mimetype": "text/x-python",
   "name": "python",
   "nbconvert_exporter": "python",
   "pygments_lexer": "ipython3",
   "version": "3.10.13"
  }
 },
 "nbformat": 4,
 "nbformat_minor": 2
}
