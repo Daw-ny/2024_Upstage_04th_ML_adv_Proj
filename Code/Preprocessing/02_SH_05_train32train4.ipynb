{
 "cells": [
  {
   "cell_type": "markdown",
   "metadata": {},
   "source": [
    "# 1. Library Import"
   ]
  },
  {
   "cell_type": "code",
   "execution_count": 254,
   "metadata": {},
   "outputs": [],
   "source": [
    "# visualization\n",
    "import matplotlib.pyplot as plt\n",
    "import matplotlib.font_manager as fm\n",
    "fe = fm.FontEntry(\n",
    "    fname=r'/usr/share/fonts/truetype/nanum/NanumGothic.ttf', # ttf 파일이 저장되어 있는 경로\n",
    "    name='NanumBarunGothic')                        # 이 폰트의 원하는 이름 설정\n",
    "fm.fontManager.ttflist.insert(0, fe)              # Matplotlib에 폰트 추가\n",
    "plt.rcParams.update({'font.size': 10, 'font.family': 'NanumBarunGothic'}) # 폰트 설정\n",
    "plt.rc('font', family='NanumBarunGothic')\n",
    "import seaborn as sns\n",
    "\n",
    "# utils\n",
    "import pandas as pd\n",
    "import numpy as np\n",
    "from tqdm import tqdm\n",
    "import pickle\n",
    "import warnings;warnings.filterwarnings('ignore')\n",
    "\n",
    "# 소수점 둘째자리까지 표시하도록 설정 (원하는 자릿수로 변경 가능)\n",
    "pd.options.display.float_format = '{:.2f}'.format  \n",
    "\n",
    "\n",
    "# Model\n",
    "from sklearn.preprocessing import LabelEncoder\n",
    "from sklearn.model_selection import train_test_split\n",
    "from sklearn.metrics import mean_squared_error\n",
    "from sklearn.ensemble import RandomForestRegressor\n",
    "from sklearn import metrics\n",
    "\n",
    "import eli5\n",
    "from eli5.sklearn import PermutationImportance\n",
    "\n",
    "## Optuna tunning for XGB\n",
    "from xgboost import XGBRegressor\n",
    "from sklearn.model_selection import cross_val_score\n",
    "import optuna\n",
    "\n",
    "## Optuna visulization\n",
    "import plotly.express as px\n",
    "import plotly.graph_objects as go\n",
    "import plotly\n",
    "\n",
    "# 열의 개수를 출력할 때 모두 표시하도록 설정\n",
    "pd.set_option('display.max_columns', None)\n"
   ]
  },
  {
   "cell_type": "markdown",
   "metadata": {},
   "source": [
    "# 2. Data Loading"
   ]
  },
  {
   "cell_type": "code",
   "execution_count": 255,
   "metadata": {},
   "outputs": [],
   "source": [
    "# 필요한 데이터를 load 하겠습니다. 경로는 환경에 맞게 지정해주면 됩니다.\n",
    "train_path = '../data/train3.csv'\n",
    "test_path  = '../data/test3.csv'\n",
    "train = pd.read_csv(train_path)\n",
    "test = pd.read_csv(test_path)"
   ]
  },
  {
   "cell_type": "code",
   "execution_count": 256,
   "metadata": {},
   "outputs": [],
   "source": [
    "train1 = train.copy()\n",
    "test1 = test.copy()"
   ]
  },
  {
   "cell_type": "code",
   "execution_count": 257,
   "metadata": {},
   "outputs": [],
   "source": [
    "student = pd.read_csv('../data/student.csv')\n",
    "president = pd.read_csv('../data/president.csv',encoding='cp949')"
   ]
  },
  {
   "cell_type": "code",
   "execution_count": 258,
   "metadata": {},
   "outputs": [],
   "source": [
    "student1 = student.copy()\n",
    "president1 = president.copy()"
   ]
  },
  {
   "cell_type": "code",
   "execution_count": 260,
   "metadata": {},
   "outputs": [],
   "source": [
    "train1 = train1.drop(columns='Unnamed: 0')\n",
    "test1 = test1.drop(columns='Unnamed: 0')"
   ]
  },
  {
   "cell_type": "code",
   "execution_count": 261,
   "metadata": {},
   "outputs": [],
   "source": [
    "train1.rename(columns={'interest_rate':'INTEREST_RATE','real_gdp':'REAL_GDP',\n",
    "                        'nominal_gdp':'NOMINAL_GDP','school_district':'SCHOOL_DISTRICT',\n",
    "                        'redevelop':'REDEVELOP','gu':'GU','dong':'DONG'},inplace=True)\n",
    "test1.rename(columns={'interest_rate':'INTEREST_RATE','real_gdp':'REAL_GDP',\n",
    "                        'nominal_gdp':'NOMINAL_GDP','school_district':'SCHOOL_DISTRICT',\n",
    "                        'redevelop':'REDEVELOP','gu':'GU','dong':'DONG'},inplace=True)"
   ]
  },
  {
   "cell_type": "code",
   "execution_count": 262,
   "metadata": {},
   "outputs": [],
   "source": [
    "# train1.columns\n",
    "# test1.columns"
   ]
  },
  {
   "cell_type": "markdown",
   "metadata": {},
   "source": [
    "# 3. Merge Student / 자치구 와 연도별 평균 초등학교 학급수 "
   ]
  },
  {
   "cell_type": "code",
   "execution_count": 263,
   "metadata": {},
   "outputs": [],
   "source": [
    "student1.rename(columns={'연도':'YEAR','구':'GU',\n",
    "                        '학급수':'CLASS_NUM'},inplace=True)"
   ]
  },
  {
   "cell_type": "code",
   "execution_count": 264,
   "metadata": {},
   "outputs": [
    {
     "name": "stdout",
     "output_type": "stream",
     "text": [
      "<class 'pandas.core.frame.DataFrame'>\n",
      "RangeIndex: 400 entries, 0 to 399\n",
      "Data columns (total 3 columns):\n",
      " #   Column     Non-Null Count  Dtype  \n",
      "---  ------     --------------  -----  \n",
      " 0   YEAR       400 non-null    int64  \n",
      " 1   GU         400 non-null    object \n",
      " 2   CLASS_NUM  400 non-null    float64\n",
      "dtypes: float64(1), int64(1), object(1)\n",
      "memory usage: 9.5+ KB\n"
     ]
    }
   ],
   "source": [
    "student1.info()"
   ]
  },
  {
   "cell_type": "code",
   "execution_count": 265,
   "metadata": {},
   "outputs": [],
   "source": [
    "train1['YEAR'] = train1['CONTR_YEAR_MONTH'].astype(str).str[:4]"
   ]
  },
  {
   "cell_type": "code",
   "execution_count": 266,
   "metadata": {},
   "outputs": [],
   "source": [
    "train1['CONTR_YEAR_MONTH'] = train1['CONTR_YEAR_MONTH'].astype(int)\n",
    "train1['YEAR'] = train1['YEAR'].astype(int)"
   ]
  },
  {
   "cell_type": "code",
   "execution_count": 267,
   "metadata": {},
   "outputs": [],
   "source": [
    "test1['YEAR'] = test1['CONTR_YEAR_MONTH'].astype(str).str[:4]"
   ]
  },
  {
   "cell_type": "code",
   "execution_count": 268,
   "metadata": {},
   "outputs": [],
   "source": [
    "test1['CONTR_YEAR_MONTH'] = test1['CONTR_YEAR_MONTH'].astype(int)\n",
    "test1['YEAR'] = test1['YEAR'].astype(int)"
   ]
  },
  {
   "cell_type": "code",
   "execution_count": 269,
   "metadata": {},
   "outputs": [
    {
     "data": {
      "text/plain": [
       "2023"
      ]
     },
     "execution_count": 269,
     "metadata": {},
     "output_type": "execute_result"
    }
   ],
   "source": [
    "student1['YEAR'].unique().max()"
   ]
  },
  {
   "cell_type": "code",
   "execution_count": 270,
   "metadata": {},
   "outputs": [
    {
     "name": "stdout",
     "output_type": "stream",
     "text": [
      "<class 'pandas.core.frame.DataFrame'>\n",
      "RangeIndex: 400 entries, 0 to 399\n",
      "Data columns (total 3 columns):\n",
      " #   Column     Non-Null Count  Dtype  \n",
      "---  ------     --------------  -----  \n",
      " 0   YEAR       400 non-null    int64  \n",
      " 1   GU         400 non-null    object \n",
      " 2   CLASS_NUM  400 non-null    float64\n",
      "dtypes: float64(1), int64(1), object(1)\n",
      "memory usage: 9.5+ KB\n"
     ]
    }
   ],
   "source": [
    "student1.info()"
   ]
  },
  {
   "cell_type": "code",
   "execution_count": 271,
   "metadata": {},
   "outputs": [],
   "source": [
    "train2 = pd.merge(train1,student1,how='left',on=['YEAR','GU'])\n",
    "test2 = pd.merge(test1,student1,how='left',on=['YEAR','GU'])"
   ]
  },
  {
   "cell_type": "code",
   "execution_count": 272,
   "metadata": {},
   "outputs": [
    {
     "name": "stdout",
     "output_type": "stream",
     "text": [
      "<class 'pandas.core.frame.DataFrame'>\n",
      "Int64Index: 1118822 entries, 0 to 1118821\n",
      "Data columns (total 53 columns):\n",
      " #   Column                  Non-Null Count    Dtype  \n",
      "---  ------                  --------------    -----  \n",
      " 0   ADRES                   1118822 non-null  object \n",
      " 1   LOT_NO                  1118822 non-null  object \n",
      " 2   APT_NM                  1116696 non-null  object \n",
      " 3   EXCL_AREA_SQM           1118822 non-null  float64\n",
      " 4   CONTR_YEAR_MONTH        1118822 non-null  int64  \n",
      " 5   CONTR_DAY               1118822 non-null  int64  \n",
      " 6   FLOOR                   1118822 non-null  int64  \n",
      " 7   BUILD_YEAR              1118822 non-null  int64  \n",
      " 8   ADRES_DORO              1118822 non-null  object \n",
      " 9   CANCEL_REASON_DATE      5983 non-null     float64\n",
      " 10  TRADE_TYPE              32371 non-null    object \n",
      " 11  AGNCY_LOCATION          29241 non-null    object \n",
      " 12  CODEAPTNM               248131 non-null   object \n",
      " 13  HSHLDR_TY               249259 non-null   object \n",
      " 14  CRRDPR_TY               248932 non-null   object \n",
      " 15  HEAT_MTHD               249259 non-null   object \n",
      " 16  ALL_DONG_CO             248192 non-null   float64\n",
      " 17  ALL_HSHLD_CO            249259 non-null   float64\n",
      " 18  CO_WO                   247764 non-null   object \n",
      " 19  CO_EX                   247568 non-null   object \n",
      " 20  TOTAR                   249259 non-null   float64\n",
      " 21  PRIVAREA                249214 non-null   float64\n",
      " 22  KAPTMPAREA60            249214 non-null   float64\n",
      " 23  KAPTMPAREA85            249214 non-null   float64\n",
      " 24  KAPTMPAREA135           249214 non-null   float64\n",
      " 25  KAPTMPAREA136           327 non-null      float64\n",
      " 26  HSHLD_ELCTY_CNTRCT_MTH  240075 non-null   object \n",
      " 27  BU_AR                   249108 non-null   float64\n",
      " 28  CNT_PA                  249108 non-null   float64\n",
      " 29  GUBUN                   249259 non-null   object \n",
      " 30  USE_RQSTDT              249197 non-null   object \n",
      " 31  target                  1118822 non-null  int64  \n",
      " 32  GU                      1118822 non-null  object \n",
      " 33  DONG                    1118822 non-null  object \n",
      " 34  FULL_ADRES              1118822 non-null  object \n",
      " 35  dongAPT_NM              1116696 non-null  object \n",
      " 36  FLOATING_POPULATION     1118822 non-null  int64  \n",
      " 37  SUBWAY_DIST             1118822 non-null  float64\n",
      " 38  1STSUBAREA              1118822 non-null  int64  \n",
      " 39  2NDSUBAREA              1118822 non-null  int64  \n",
      " 40  BUS_DIST                1118822 non-null  float64\n",
      " 41  X_CODE                  1118822 non-null  float64\n",
      " 42  Y_CODE                  1118822 non-null  float64\n",
      " 43  BRIDGE_DIST             1118822 non-null  float64\n",
      " 44  LEASE_RATE              775315 non-null   float64\n",
      " 45  CONTR                   1118822 non-null  int64  \n",
      " 46  INTEREST_RATE           1118822 non-null  float64\n",
      " 47  REAL_GDP                1118822 non-null  float64\n",
      " 48  NOMINAL_GDP             1118822 non-null  object \n",
      " 49  SCHOOL_DISTRICT         1118822 non-null  int64  \n",
      " 50  REDEVELOP               1118822 non-null  int64  \n",
      " 51  YEAR                    1118822 non-null  int64  \n",
      " 52  CLASS_NUM               1060055 non-null  float64\n",
      "dtypes: float64(21), int64(12), object(20)\n",
      "memory usage: 460.9+ MB\n"
     ]
    }
   ],
   "source": [
    "train2.info()"
   ]
  },
  {
   "cell_type": "markdown",
   "metadata": {},
   "source": [
    "# 4. Merge President / 대통령 선거 16대~20대 서울 자치구별 지지당 및 득표율 "
   ]
  },
  {
   "cell_type": "code",
   "execution_count": 273,
   "metadata": {},
   "outputs": [
    {
     "name": "stdout",
     "output_type": "stream",
     "text": [
      "<class 'pandas.core.frame.DataFrame'>\n",
      "RangeIndex: 125 entries, 0 to 124\n",
      "Data columns (total 5 columns):\n",
      " #   Column   Non-Null Count  Dtype \n",
      "---  ------   --------------  ----- \n",
      " 0   선거일      125 non-null    int64 \n",
      " 1   임기       125 non-null    object\n",
      " 2   지역       125 non-null    object\n",
      " 3   지역별_지지당  125 non-null    object\n",
      " 4   득표율      125 non-null    object\n",
      "dtypes: int64(1), object(4)\n",
      "memory usage: 5.0+ KB\n"
     ]
    }
   ],
   "source": [
    "president1.info()"
   ]
  },
  {
   "cell_type": "code",
   "execution_count": 274,
   "metadata": {},
   "outputs": [],
   "source": [
    "president2 = president1[['선거일','지역','지역별_지지당','득표율']]"
   ]
  },
  {
   "cell_type": "code",
   "execution_count": 275,
   "metadata": {},
   "outputs": [],
   "source": [
    "president3 = president1[['선거일','임기','지역']]"
   ]
  },
  {
   "cell_type": "code",
   "execution_count": 276,
   "metadata": {},
   "outputs": [],
   "source": [
    "president3.rename(columns={'선거일':'CONTR','지역':'GU','임기':'TERM'},inplace=True)"
   ]
  },
  {
   "cell_type": "code",
   "execution_count": 277,
   "metadata": {},
   "outputs": [],
   "source": [
    "president2.rename(columns={'선거일':'CONTR','지역':'GU','지역별_지지당':'PM','득표율':'VOTE'},inplace=True)"
   ]
  },
  {
   "cell_type": "code",
   "execution_count": 278,
   "metadata": {},
   "outputs": [],
   "source": [
    "president2['VOTE'] = president2['VOTE'].str.rstrip('%').astype(float)"
   ]
  },
  {
   "cell_type": "code",
   "execution_count": 279,
   "metadata": {},
   "outputs": [],
   "source": [
    "president2['VOTERATE'] =  president2.apply(lambda row: -row['VOTE'] if row['PM'] == '야당' else row['VOTE'] if row['PM'] == '여당' else None, axis=1)"
   ]
  },
  {
   "cell_type": "code",
   "execution_count": 280,
   "metadata": {},
   "outputs": [],
   "source": [
    "president2 = president2[['CONTR','GU','VOTERATE']]"
   ]
  },
  {
   "cell_type": "code",
   "execution_count": 281,
   "metadata": {},
   "outputs": [],
   "source": [
    "president4 = pd.merge(president3,president2,how='left',on=['CONTR','GU'])"
   ]
  },
  {
   "cell_type": "code",
   "execution_count": 282,
   "metadata": {},
   "outputs": [],
   "source": [
    "train3 = train2.copy()\n",
    "test3 = test2.copy()"
   ]
  },
  {
   "cell_type": "code",
   "execution_count": 283,
   "metadata": {},
   "outputs": [
    {
     "data": {
      "text/plain": [
       "['16대', '17대', '18대', '19대', '20대']"
      ]
     },
     "execution_count": 283,
     "metadata": {},
     "output_type": "execute_result"
    }
   ],
   "source": [
    "president3['TERM'].unique().tolist()"
   ]
  },
  {
   "cell_type": "markdown",
   "metadata": {},
   "source": [
    "### 4-1. Merge 대통령 선거 임기 기간별 지지당 및 득표율 "
   ]
  },
  {
   "cell_type": "code",
   "execution_count": 284,
   "metadata": {},
   "outputs": [],
   "source": [
    "contract_years = sorted([20021219, 20071219, 20121219, 20170509, 20220309,20240101])\n",
    "\n",
    "merged_df = pd.DataFrame()\n",
    "\n",
    "before = contract_years[0]\n",
    "\n",
    "condlist = [\n",
    "(train3['CONTR'] >= 20220309)& (train3['CONTR']<20240101),\n",
    "(train3['CONTR'] >= 20170509)& (train3['CONTR']<20220309),\n",
    "(train3['CONTR'] >= 20121219)& (train3['CONTR']<20170509),\n",
    "(train3['CONTR'] >= 20071219) & (train3['CONTR'] < 20121219),\n",
    "(train3['CONTR'] >= 20021219) & (train3['CONTR'] < 20071219)]\n",
    "choicelist = sorted(['16대', '17대', '18대', '19대', '20대'],reverse=True)\n",
    "train3['TERM'] = np.select(condlist, choicelist)\n",
    "\n",
    "condlist = [\n",
    "(test3['CONTR'] >= 20220309)& (test3['CONTR']<20240101),\n",
    "(test3['CONTR'] >= 20170509)& (test3['CONTR']<20220309),\n",
    "(test3['CONTR'] >= 20121219)& (test3['CONTR']<20170509),\n",
    "(test3['CONTR'] >= 20071219) & (test3['CONTR'] < 20121219),\n",
    "(test3['CONTR'] >= 20021219) & (test3['CONTR'] < 20071219)]\n",
    "choicelist = sorted(['16대', '17대', '18대', '19대', '20대'],reverse=True)\n",
    "test3['TERM'] = np.select(condlist, choicelist)"
   ]
  },
  {
   "cell_type": "code",
   "execution_count": 285,
   "metadata": {},
   "outputs": [],
   "source": [
    "train4 = pd.merge(train3,president4,how='left',on=['GU','TERM'])\n",
    "test4 = pd.merge(test3,president4,how='left',on=['GU','TERM'])"
   ]
  },
  {
   "cell_type": "code",
   "execution_count": 286,
   "metadata": {},
   "outputs": [],
   "source": [
    "train4 = train4.drop(columns='CONTR_y')\n",
    "test4 = test4.drop(columns='CONTR_y')"
   ]
  },
  {
   "cell_type": "code",
   "execution_count": 287,
   "metadata": {},
   "outputs": [],
   "source": [
    "train4.rename(columns={'CONTR_x':'CONTR','dongAPT_NM':'DONGAPT_NM'},inplace=True)\n",
    "test4.rename(columns={'CONTR_x':'CONTR','dongAPT_NM':'DONGAPT_NM'},inplace=True)"
   ]
  },
  {
   "cell_type": "code",
   "execution_count": 288,
   "metadata": {},
   "outputs": [],
   "source": [
    "train4 = train4.drop(columns=['YEAR','TERM'])\n",
    "test4 = test4.drop(columns=['YEAR','TERM'])"
   ]
  },
  {
   "cell_type": "markdown",
   "metadata": {},
   "source": [
    "# 5. Save train4 & test4"
   ]
  },
  {
   "cell_type": "code",
   "execution_count": 289,
   "metadata": {},
   "outputs": [],
   "source": [
    "test4.to_csv('../data/test4.csv',index=False)\n",
    "train4.to_csv('../data/train4.csv',index=False)"
   ]
  },
  {
   "cell_type": "markdown",
   "metadata": {},
   "source": [
    "# 6. Change Variables English to Korean"
   ]
  },
  {
   "cell_type": "code",
   "execution_count": 291,
   "metadata": {},
   "outputs": [],
   "source": [
    "train4.rename(columns={'ADRES':'시군구','LOT_NO':'번지','APT_NM':'아파트명','EXCL_AREA_SQM':'전용면적',\n",
    "                      'CONTR_YEAR_MONTH':'계약년월','CONTR_DAY':'계약일','FLOOR':'층','BUILD_YEAR':'건축년도',\n",
    "                      'ADRES_DORO':'도로명','CANCEL_REASON_DATE':'해제사유발생일',\n",
    "                      'TRADE_TYPE':'거래유형','AGNCY_LOCATION':'중개사소재지','CODEAPTNM':'k-단지분류',\n",
    "                      'HSHLDR_TY':'k-세대타입(분양형태)','CRRDPR_TY':'k-복도유형',\n",
    "                      'HEAT_MTHD':'k-난방방식','ALL_DONG_CO':'k-전체동수','ALL_HSHLD_CO':'k-전체세대수',\n",
    "                      'CO_WO':'k-건설사','CO_EX':'k-시행사','TOTAR':'k-연면적',\n",
    "                      'PRIVAREA':'k-주거전용면적','KAPTMPAREA60':'k-전용면적별세대현황60이하',\n",
    "                      'KAPTMPAREA85':'k-전용면적별세대현황6085이하','KAPTMPAREA135':'k-85135이하',\n",
    "                      'KAPTMPAREA136':'k-135초과', 'HSHLD_ELCTY_CNTRCT_MTH': '세대전기계약방법',\n",
    "                      'BU_AR':'건축면적','CNT_PA':'주차대수',\n",
    "                      'GUBUN':'기타의무임대1234',\n",
    "                      'X_CODE':'좌표X','Y_CODE':'좌표Y','USE_RQSTDT':'단지신청일',\n",
    "                      'GU':'구','DONG':'동','FULL_ADRES':'전체주소명',\n",
    "                      'DONGAPT_NM':'동아파트명','FLOATING_POPULATION':'유동인구',\n",
    "                      'X_CODE':'좌표X','Y_CODE':'좌표Y','USE_RQSTDT':'단지신청일',\n",
    "                      'SUBWAY_DIST':'아파트 지하철역 거리','1STSUBAREA':'1차역세권',\n",
    "                      '2NDSUBAREA':'2차역세권',\n",
    "                      'BUS_DIST':'아파트 버스정류장 거리','BRIDGE_DIST':'아파트 한강대교 거리',\n",
    "                      'LEASE_RATE':'전세가율','CONTR':'전체계약일자','INTEREST_RATE':'금리',\n",
    "                      'REAL_GDP':'실질gdp','NOMINAL_GDP':'명목gdp','SCHOOL_DISTRICT':'학군',\n",
    "                      'REDEVELOP':'재개발개수', 'CLASS_NUM':'학급수', 'VOTERATE':'여당득표율'\n",
    "                      },inplace=True)"
   ]
  },
  {
   "cell_type": "code",
   "execution_count": 292,
   "metadata": {},
   "outputs": [],
   "source": [
    "test4.rename(columns={'ADRES':'시군구','LOT_NO':'번지','APT_NM':'아파트명','EXCL_AREA_SQM':'전용면적',\n",
    "                      'CONTR_YEAR_MONTH':'계약년월','CONTR_DAY':'계약일','FLOOR':'층','BUILD_YEAR':'건축년도',\n",
    "                      'ADRES_DORO':'도로명','CANCEL_REASON_DATE':'해제사유발생일',\n",
    "                      'TRADE_TYPE':'거래유형','AGNCY_LOCATION':'중개사소재지','CODEAPTNM':'k-단지분류',\n",
    "                      'HSHLDR_TY':'k-세대타입(분양형태)','CRRDPR_TY':'k-복도유형',\n",
    "                      'HEAT_MTHD':'k-난방방식','ALL_DONG_CO':'k-전체동수','ALL_HSHLD_CO':'k-전체세대수',\n",
    "                      'CO_WO':'k-건설사','CO_EX':'k-시행사','TOTAR':'k-연면적',\n",
    "                      'PRIVAREA':'k-주거전용면적','KAPTMPAREA60':'k-전용면적별세대현황60이하',\n",
    "                      'KAPTMPAREA85':'k-전용면적별세대현황6085이하','KAPTMPAREA135':'k-85135이하',\n",
    "                      'KAPTMPAREA136':'k-135초과', 'HSHLD_ELCTY_CNTRCT_MTH': '세대전기계약방법',\n",
    "                      'BU_AR':'건축면적','CNT_PA':'주차대수',\n",
    "                      'GUBUN':'기타의무임대1234',\n",
    "                      'X_CODE':'좌표X','Y_CODE':'좌표Y','USE_RQSTDT':'단지신청일',\n",
    "                      'GU':'구','DONG':'동','FULL_ADRES':'전체주소명',\n",
    "                      'DONGAPT_NM':'동아파트명','FLOATING_POPULATION':'유동인구',\n",
    "                      'X_CODE':'좌표X','Y_CODE':'좌표Y','USE_RQSTDT':'단지신청일',\n",
    "                      'SUBWAY_DIST':'아파트 지하철역 거리','1STSUBAREA':'1차역세권',\n",
    "                      '2NDSUBAREA':'2차역세권',\n",
    "                      'BUS_DIST':'아파트 버스정류장 거리','BRIDGE_DIST':'아파트 한강대교 거리',\n",
    "                      'LEASE_RATE':'전세가율','CONTR':'전체계약일자','INTEREST_RATE':'금리',\n",
    "                      'REAL_GDP':'실질gdp','NOMINAL_GDP':'명목gdp','SCHOOL_DISTRICT':'학군',\n",
    "                      'REDEVELOP':'재개발개수', 'CLASS_NUM':'학급수', 'VOTERATE':'여당득표율'\n",
    "                      },inplace=True)"
   ]
  },
  {
   "cell_type": "markdown",
   "metadata": {},
   "source": [
    "# 7. Save Korean train4 & test4"
   ]
  },
  {
   "cell_type": "code",
   "execution_count": 293,
   "metadata": {},
   "outputs": [],
   "source": [
    "test4.to_csv('../data/KOREAN_test4.csv',index=False)\n",
    "train4.to_csv('../data/KOREAN_train4.csv',index=False)"
   ]
  }
 ],
 "metadata": {
  "kernelspec": {
   "display_name": "base",
   "language": "python",
   "name": "python3"
  },
  "language_info": {
   "codemirror_mode": {
    "name": "ipython",
    "version": 3
   },
   "file_extension": ".py",
   "mimetype": "text/x-python",
   "name": "python",
   "nbconvert_exporter": "python",
   "pygments_lexer": "ipython3",
   "version": "3.10.13"
  }
 },
 "nbformat": 4,
 "nbformat_minor": 2
}
